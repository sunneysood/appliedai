{
 "cells": [
  {
   "cell_type": "markdown",
   "metadata": {},
   "source": [
    "# Combine images"
   ]
  },
  {
   "cell_type": "code",
   "execution_count": 5,
   "metadata": {},
   "outputs": [],
   "source": [
    "#https://stackoverflow.com/questions/30227466/combine-several-images-horizontally-with-python\n",
    "\n",
    "import sys\n",
    "from PIL import Image\n",
    "from tqdm import tqdm\n",
    "path_road = 'driving_dataset/'\n",
    "path_str_angle = 'test_output/'\n",
    "path_final_output = 'final_combined_dataset/'\n",
    "\n",
    "#using only 100 images for creating the output file as entire output is coming out as too large.\n",
    "initial_image_index = 31785\n",
    "final_image_index = 31900\n",
    "\n",
    "for i in tqdm(range(31785,32700)):\n",
    "    \n",
    "    images = [Image.open(x) for x in [path_road + str(i) + '.jpg', path_str_angle + \"str_\"+str(i) + '.jpg']]\n",
    "    widths, heights = zip(*(i.size for i in images))\n",
    "\n",
    "    total_width = sum(widths)\n",
    "    max_height = max(heights)\n",
    "\n",
    "    new_im = Image.new('RGB', (total_width, max_height))\n",
    "\n",
    "    x_offset = 0\n",
    "    for im in images:\n",
    "      new_im.paste(im, (x_offset,0))\n",
    "      x_offset += im.size[0]\n",
    "\n",
    "    new_im.save(path_final_output + str(i) + '.jpg')"
   ]
  },
  {
   "cell_type": "markdown",
   "metadata": {},
   "source": [
    "# Creating Video"
   ]
  },
  {
   "cell_type": "code",
   "execution_count": 6,
   "metadata": {},
   "outputs": [
    {
     "name": "stderr",
     "output_type": "stream",
     "text": [
      "100%|██████████| 915/915 [00:02<00:00, 403.41it/s]\n"
     ]
    }
   ],
   "source": [
    "#https://stackoverflow.com/questions/47670918/create-video-from-images-sorted-in-numerical-order-using-ffmpeg\n",
    "#https://stackoverflow.com/questions/44947505/how-to-make-a-movie-out-of-images-in-python\n",
    "#https://stackoverflow.com/questions/13590976/python-make-a-video-using-several-png-images\n",
    "import cv2\n",
    "import os\n",
    "\n",
    "image_folder = 'final_combined_dataset/'\n",
    "video_name = 'street_steering.avi'\n",
    "\n",
    "images = [img for img in os.listdir(image_folder) if img.endswith(\".jpg\")]\n",
    "frame = cv2.imread(os.path.join(image_folder, images[0]))\n",
    "height, width, layers = frame.shape\n",
    "\n",
    "\n",
    "video = cv2.VideoWriter(video_name, 0, 10, (width,height))\n",
    "\n",
    "for image in tqdm(images):\n",
    "    video.write(cv2.imread(os.path.join(image_folder, image)))\n",
    "\n",
    "cv2.destroyAllWindows()\n",
    "video.release()\n",
    "    "
   ]
  }
 ],
 "metadata": {
  "kernelspec": {
   "display_name": "Python 3",
   "language": "python",
   "name": "python3"
  },
  "language_info": {
   "codemirror_mode": {
    "name": "ipython",
    "version": 3
   },
   "file_extension": ".py",
   "mimetype": "text/x-python",
   "name": "python",
   "nbconvert_exporter": "python",
   "pygments_lexer": "ipython3",
   "version": "3.5.3"
  }
 },
 "nbformat": 4,
 "nbformat_minor": 2
}
