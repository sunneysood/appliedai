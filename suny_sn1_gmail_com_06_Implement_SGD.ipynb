{
  "nbformat": 4,
  "nbformat_minor": 0,
  "metadata": {
    "colab": {
      "name": "suny.sn1@gmail.com 06 Implement SGD.ipynb",
      "provenance": [],
      "collapsed_sections": [],
      "include_colab_link": true
    },
    "kernelspec": {
      "display_name": "Python 3",
      "language": "python",
      "name": "python3"
    },
    "language_info": {
      "codemirror_mode": {
        "name": "ipython",
        "version": 3
      },
      "file_extension": ".py",
      "mimetype": "text/x-python",
      "name": "python",
      "nbconvert_exporter": "python",
      "pygments_lexer": "ipython3",
      "version": "3.5.3"
    }
  },
  "cells": [
    {
      "cell_type": "markdown",
      "metadata": {
        "id": "view-in-github",
        "colab_type": "text"
      },
      "source": [
        "<a href=\"https://colab.research.google.com/github/sunneysood/appliedai/blob/master/suny_sn1_gmail_com_06_Implement_SGD.ipynb\" target=\"_parent\"><img src=\"https://colab.research.google.com/assets/colab-badge.svg\" alt=\"Open In Colab\"/></a>"
      ]
    },
    {
      "cell_type": "markdown",
      "metadata": {
        "id": "hvUECP88n8Bw",
        "colab_type": "text"
      },
      "source": [
        "# 1. Importing Necessary Files"
      ]
    },
    {
      "cell_type": "code",
      "metadata": {
        "colab_type": "code",
        "id": "REYPoTJ1Af7u",
        "colab": {}
      },
      "source": [
        "import warnings\n",
        "warnings.filterwarnings(\"ignore\")\n",
        "from sklearn.datasets import load_boston\n",
        "from random import seed\n",
        "from random import randrange\n",
        "from csv import reader\n",
        "from math import sqrt\n",
        "import pandas as pd\n",
        "import numpy as np\n",
        "import matplotlib.pyplot as plt\n",
        "from prettytable import PrettyTable\n",
        "from sklearn.linear_model import SGDRegressor\n",
        "from sklearn import preprocessing\n",
        "from sklearn.metrics import mean_squared_error"
      ],
      "execution_count": 0,
      "outputs": []
    },
    {
      "cell_type": "markdown",
      "metadata": {
        "id": "o-HyqTxkn8B6",
        "colab_type": "text"
      },
      "source": [
        "# 2. Importing Dataset from Sklearn Datasets"
      ]
    },
    {
      "cell_type": "code",
      "metadata": {
        "id": "xpu-bVC3n8B7",
        "colab_type": "code",
        "outputId": "3c5a59a1-f34d-457e-c01d-511506368519",
        "colab": {
          "base_uri": "https://localhost:8080/",
          "height": 894
        }
      },
      "source": [
        "#https://www.programcreek.com/python/example/82897/sklearn.datasets.load_boston\n",
        "boston = load_boston()\n",
        "#to understand datasets\n",
        "print(boston.DESCR)"
      ],
      "execution_count": 49,
      "outputs": [
        {
          "output_type": "stream",
          "text": [
            ".. _boston_dataset:\n",
            "\n",
            "Boston house prices dataset\n",
            "---------------------------\n",
            "\n",
            "**Data Set Characteristics:**  \n",
            "\n",
            "    :Number of Instances: 506 \n",
            "\n",
            "    :Number of Attributes: 13 numeric/categorical predictive. Median Value (attribute 14) is usually the target.\n",
            "\n",
            "    :Attribute Information (in order):\n",
            "        - CRIM     per capita crime rate by town\n",
            "        - ZN       proportion of residential land zoned for lots over 25,000 sq.ft.\n",
            "        - INDUS    proportion of non-retail business acres per town\n",
            "        - CHAS     Charles River dummy variable (= 1 if tract bounds river; 0 otherwise)\n",
            "        - NOX      nitric oxides concentration (parts per 10 million)\n",
            "        - RM       average number of rooms per dwelling\n",
            "        - AGE      proportion of owner-occupied units built prior to 1940\n",
            "        - DIS      weighted distances to five Boston employment centres\n",
            "        - RAD      index of accessibility to radial highways\n",
            "        - TAX      full-value property-tax rate per $10,000\n",
            "        - PTRATIO  pupil-teacher ratio by town\n",
            "        - B        1000(Bk - 0.63)^2 where Bk is the proportion of blacks by town\n",
            "        - LSTAT    % lower status of the population\n",
            "        - MEDV     Median value of owner-occupied homes in $1000's\n",
            "\n",
            "    :Missing Attribute Values: None\n",
            "\n",
            "    :Creator: Harrison, D. and Rubinfeld, D.L.\n",
            "\n",
            "This is a copy of UCI ML housing dataset.\n",
            "https://archive.ics.uci.edu/ml/machine-learning-databases/housing/\n",
            "\n",
            "\n",
            "This dataset was taken from the StatLib library which is maintained at Carnegie Mellon University.\n",
            "\n",
            "The Boston house-price data of Harrison, D. and Rubinfeld, D.L. 'Hedonic\n",
            "prices and the demand for clean air', J. Environ. Economics & Management,\n",
            "vol.5, 81-102, 1978.   Used in Belsley, Kuh & Welsch, 'Regression diagnostics\n",
            "...', Wiley, 1980.   N.B. Various transformations are used in the table on\n",
            "pages 244-261 of the latter.\n",
            "\n",
            "The Boston house-price data has been used in many machine learning papers that address regression\n",
            "problems.   \n",
            "     \n",
            ".. topic:: References\n",
            "\n",
            "   - Belsley, Kuh & Welsch, 'Regression diagnostics: Identifying Influential Data and Sources of Collinearity', Wiley, 1980. 244-261.\n",
            "   - Quinlan,R. (1993). Combining Instance-Based and Model-Based Learning. In Proceedings on the Tenth International Conference of Machine Learning, 236-243, University of Massachusetts, Amherst. Morgan Kaufmann.\n",
            "\n"
          ],
          "name": "stdout"
        }
      ]
    },
    {
      "cell_type": "code",
      "metadata": {
        "id": "1hw7wDMcn8B_",
        "colab_type": "code",
        "outputId": "7d8cf9d7-c21d-4814-9a96-dded74d7ac89",
        "colab": {
          "base_uri": "https://localhost:8080/",
          "height": 50
        }
      },
      "source": [
        "#https://www.programcreek.com/python/example/82897/sklearn.datasets.load_boston\n",
        "X_total = boston[\"data\"]\n",
        "Y_total = boston[\"target\"]\n",
        "names = boston[\"feature_names\"]\n",
        "names"
      ],
      "execution_count": 50,
      "outputs": [
        {
          "output_type": "execute_result",
          "data": {
            "text/plain": [
              "array(['CRIM', 'ZN', 'INDUS', 'CHAS', 'NOX', 'RM', 'AGE', 'DIS', 'RAD',\n",
              "       'TAX', 'PTRATIO', 'B', 'LSTAT'], dtype='<U7')"
            ]
          },
          "metadata": {
            "tags": []
          },
          "execution_count": 50
        }
      ]
    },
    {
      "cell_type": "markdown",
      "metadata": {
        "id": "lLBnNXrqn8CH",
        "colab_type": "text"
      },
      "source": [
        "### Dataset has 13 columns namely 'CRIM', 'ZN', 'INDUS', 'CHAS', 'NOX', 'RM', 'AGE', 'DIS', 'RAD', 'TAX', 'PTRATIO', 'B' and  'LSTAT'"
      ]
    },
    {
      "cell_type": "code",
      "metadata": {
        "id": "VH-S46jln8CC",
        "colab_type": "code",
        "outputId": "34d1fdb4-e84f-469d-8994-1ea1f5b8da4c",
        "colab": {
          "base_uri": "https://localhost:8080/",
          "height": 136
        }
      },
      "source": [
        "df_boston= pd.DataFrame(X_total,columns=names)\n",
        "df_boston.head(3)"
      ],
      "execution_count": 51,
      "outputs": [
        {
          "output_type": "execute_result",
          "data": {
            "text/html": [
              "<div>\n",
              "<style scoped>\n",
              "    .dataframe tbody tr th:only-of-type {\n",
              "        vertical-align: middle;\n",
              "    }\n",
              "\n",
              "    .dataframe tbody tr th {\n",
              "        vertical-align: top;\n",
              "    }\n",
              "\n",
              "    .dataframe thead th {\n",
              "        text-align: right;\n",
              "    }\n",
              "</style>\n",
              "<table border=\"1\" class=\"dataframe\">\n",
              "  <thead>\n",
              "    <tr style=\"text-align: right;\">\n",
              "      <th></th>\n",
              "      <th>CRIM</th>\n",
              "      <th>ZN</th>\n",
              "      <th>INDUS</th>\n",
              "      <th>CHAS</th>\n",
              "      <th>NOX</th>\n",
              "      <th>RM</th>\n",
              "      <th>AGE</th>\n",
              "      <th>DIS</th>\n",
              "      <th>RAD</th>\n",
              "      <th>TAX</th>\n",
              "      <th>PTRATIO</th>\n",
              "      <th>B</th>\n",
              "      <th>LSTAT</th>\n",
              "    </tr>\n",
              "  </thead>\n",
              "  <tbody>\n",
              "    <tr>\n",
              "      <th>0</th>\n",
              "      <td>0.00632</td>\n",
              "      <td>18.0</td>\n",
              "      <td>2.31</td>\n",
              "      <td>0.0</td>\n",
              "      <td>0.538</td>\n",
              "      <td>6.575</td>\n",
              "      <td>65.2</td>\n",
              "      <td>4.0900</td>\n",
              "      <td>1.0</td>\n",
              "      <td>296.0</td>\n",
              "      <td>15.3</td>\n",
              "      <td>396.90</td>\n",
              "      <td>4.98</td>\n",
              "    </tr>\n",
              "    <tr>\n",
              "      <th>1</th>\n",
              "      <td>0.02731</td>\n",
              "      <td>0.0</td>\n",
              "      <td>7.07</td>\n",
              "      <td>0.0</td>\n",
              "      <td>0.469</td>\n",
              "      <td>6.421</td>\n",
              "      <td>78.9</td>\n",
              "      <td>4.9671</td>\n",
              "      <td>2.0</td>\n",
              "      <td>242.0</td>\n",
              "      <td>17.8</td>\n",
              "      <td>396.90</td>\n",
              "      <td>9.14</td>\n",
              "    </tr>\n",
              "    <tr>\n",
              "      <th>2</th>\n",
              "      <td>0.02729</td>\n",
              "      <td>0.0</td>\n",
              "      <td>7.07</td>\n",
              "      <td>0.0</td>\n",
              "      <td>0.469</td>\n",
              "      <td>7.185</td>\n",
              "      <td>61.1</td>\n",
              "      <td>4.9671</td>\n",
              "      <td>2.0</td>\n",
              "      <td>242.0</td>\n",
              "      <td>17.8</td>\n",
              "      <td>392.83</td>\n",
              "      <td>4.03</td>\n",
              "    </tr>\n",
              "  </tbody>\n",
              "</table>\n",
              "</div>"
            ],
            "text/plain": [
              "      CRIM    ZN  INDUS  CHAS    NOX  ...  RAD    TAX  PTRATIO       B  LSTAT\n",
              "0  0.00632  18.0   2.31   0.0  0.538  ...  1.0  296.0     15.3  396.90   4.98\n",
              "1  0.02731   0.0   7.07   0.0  0.469  ...  2.0  242.0     17.8  396.90   9.14\n",
              "2  0.02729   0.0   7.07   0.0  0.469  ...  2.0  242.0     17.8  392.83   4.03\n",
              "\n",
              "[3 rows x 13 columns]"
            ]
          },
          "metadata": {
            "tags": []
          },
          "execution_count": 51
        }
      ]
    },
    {
      "cell_type": "code",
      "metadata": {
        "id": "YhimUn8OvLtp",
        "colab_type": "code",
        "outputId": "7673469d-3358-4241-836b-26c1b69dcb5a",
        "colab": {
          "base_uri": "https://localhost:8080/",
          "height": 432
        }
      },
      "source": [
        "df_boston.describe().T"
      ],
      "execution_count": 52,
      "outputs": [
        {
          "output_type": "execute_result",
          "data": {
            "text/html": [
              "<div>\n",
              "<style scoped>\n",
              "    .dataframe tbody tr th:only-of-type {\n",
              "        vertical-align: middle;\n",
              "    }\n",
              "\n",
              "    .dataframe tbody tr th {\n",
              "        vertical-align: top;\n",
              "    }\n",
              "\n",
              "    .dataframe thead th {\n",
              "        text-align: right;\n",
              "    }\n",
              "</style>\n",
              "<table border=\"1\" class=\"dataframe\">\n",
              "  <thead>\n",
              "    <tr style=\"text-align: right;\">\n",
              "      <th></th>\n",
              "      <th>count</th>\n",
              "      <th>mean</th>\n",
              "      <th>std</th>\n",
              "      <th>min</th>\n",
              "      <th>25%</th>\n",
              "      <th>50%</th>\n",
              "      <th>75%</th>\n",
              "      <th>max</th>\n",
              "    </tr>\n",
              "  </thead>\n",
              "  <tbody>\n",
              "    <tr>\n",
              "      <th>CRIM</th>\n",
              "      <td>506.0</td>\n",
              "      <td>3.613524</td>\n",
              "      <td>8.601545</td>\n",
              "      <td>0.00632</td>\n",
              "      <td>0.082045</td>\n",
              "      <td>0.25651</td>\n",
              "      <td>3.677083</td>\n",
              "      <td>88.9762</td>\n",
              "    </tr>\n",
              "    <tr>\n",
              "      <th>ZN</th>\n",
              "      <td>506.0</td>\n",
              "      <td>11.363636</td>\n",
              "      <td>23.322453</td>\n",
              "      <td>0.00000</td>\n",
              "      <td>0.000000</td>\n",
              "      <td>0.00000</td>\n",
              "      <td>12.500000</td>\n",
              "      <td>100.0000</td>\n",
              "    </tr>\n",
              "    <tr>\n",
              "      <th>INDUS</th>\n",
              "      <td>506.0</td>\n",
              "      <td>11.136779</td>\n",
              "      <td>6.860353</td>\n",
              "      <td>0.46000</td>\n",
              "      <td>5.190000</td>\n",
              "      <td>9.69000</td>\n",
              "      <td>18.100000</td>\n",
              "      <td>27.7400</td>\n",
              "    </tr>\n",
              "    <tr>\n",
              "      <th>CHAS</th>\n",
              "      <td>506.0</td>\n",
              "      <td>0.069170</td>\n",
              "      <td>0.253994</td>\n",
              "      <td>0.00000</td>\n",
              "      <td>0.000000</td>\n",
              "      <td>0.00000</td>\n",
              "      <td>0.000000</td>\n",
              "      <td>1.0000</td>\n",
              "    </tr>\n",
              "    <tr>\n",
              "      <th>NOX</th>\n",
              "      <td>506.0</td>\n",
              "      <td>0.554695</td>\n",
              "      <td>0.115878</td>\n",
              "      <td>0.38500</td>\n",
              "      <td>0.449000</td>\n",
              "      <td>0.53800</td>\n",
              "      <td>0.624000</td>\n",
              "      <td>0.8710</td>\n",
              "    </tr>\n",
              "    <tr>\n",
              "      <th>RM</th>\n",
              "      <td>506.0</td>\n",
              "      <td>6.284634</td>\n",
              "      <td>0.702617</td>\n",
              "      <td>3.56100</td>\n",
              "      <td>5.885500</td>\n",
              "      <td>6.20850</td>\n",
              "      <td>6.623500</td>\n",
              "      <td>8.7800</td>\n",
              "    </tr>\n",
              "    <tr>\n",
              "      <th>AGE</th>\n",
              "      <td>506.0</td>\n",
              "      <td>68.574901</td>\n",
              "      <td>28.148861</td>\n",
              "      <td>2.90000</td>\n",
              "      <td>45.025000</td>\n",
              "      <td>77.50000</td>\n",
              "      <td>94.075000</td>\n",
              "      <td>100.0000</td>\n",
              "    </tr>\n",
              "    <tr>\n",
              "      <th>DIS</th>\n",
              "      <td>506.0</td>\n",
              "      <td>3.795043</td>\n",
              "      <td>2.105710</td>\n",
              "      <td>1.12960</td>\n",
              "      <td>2.100175</td>\n",
              "      <td>3.20745</td>\n",
              "      <td>5.188425</td>\n",
              "      <td>12.1265</td>\n",
              "    </tr>\n",
              "    <tr>\n",
              "      <th>RAD</th>\n",
              "      <td>506.0</td>\n",
              "      <td>9.549407</td>\n",
              "      <td>8.707259</td>\n",
              "      <td>1.00000</td>\n",
              "      <td>4.000000</td>\n",
              "      <td>5.00000</td>\n",
              "      <td>24.000000</td>\n",
              "      <td>24.0000</td>\n",
              "    </tr>\n",
              "    <tr>\n",
              "      <th>TAX</th>\n",
              "      <td>506.0</td>\n",
              "      <td>408.237154</td>\n",
              "      <td>168.537116</td>\n",
              "      <td>187.00000</td>\n",
              "      <td>279.000000</td>\n",
              "      <td>330.00000</td>\n",
              "      <td>666.000000</td>\n",
              "      <td>711.0000</td>\n",
              "    </tr>\n",
              "    <tr>\n",
              "      <th>PTRATIO</th>\n",
              "      <td>506.0</td>\n",
              "      <td>18.455534</td>\n",
              "      <td>2.164946</td>\n",
              "      <td>12.60000</td>\n",
              "      <td>17.400000</td>\n",
              "      <td>19.05000</td>\n",
              "      <td>20.200000</td>\n",
              "      <td>22.0000</td>\n",
              "    </tr>\n",
              "    <tr>\n",
              "      <th>B</th>\n",
              "      <td>506.0</td>\n",
              "      <td>356.674032</td>\n",
              "      <td>91.294864</td>\n",
              "      <td>0.32000</td>\n",
              "      <td>375.377500</td>\n",
              "      <td>391.44000</td>\n",
              "      <td>396.225000</td>\n",
              "      <td>396.9000</td>\n",
              "    </tr>\n",
              "    <tr>\n",
              "      <th>LSTAT</th>\n",
              "      <td>506.0</td>\n",
              "      <td>12.653063</td>\n",
              "      <td>7.141062</td>\n",
              "      <td>1.73000</td>\n",
              "      <td>6.950000</td>\n",
              "      <td>11.36000</td>\n",
              "      <td>16.955000</td>\n",
              "      <td>37.9700</td>\n",
              "    </tr>\n",
              "  </tbody>\n",
              "</table>\n",
              "</div>"
            ],
            "text/plain": [
              "         count        mean         std  ...        50%         75%       max\n",
              "CRIM     506.0    3.613524    8.601545  ...    0.25651    3.677083   88.9762\n",
              "ZN       506.0   11.363636   23.322453  ...    0.00000   12.500000  100.0000\n",
              "INDUS    506.0   11.136779    6.860353  ...    9.69000   18.100000   27.7400\n",
              "CHAS     506.0    0.069170    0.253994  ...    0.00000    0.000000    1.0000\n",
              "NOX      506.0    0.554695    0.115878  ...    0.53800    0.624000    0.8710\n",
              "RM       506.0    6.284634    0.702617  ...    6.20850    6.623500    8.7800\n",
              "AGE      506.0   68.574901   28.148861  ...   77.50000   94.075000  100.0000\n",
              "DIS      506.0    3.795043    2.105710  ...    3.20745    5.188425   12.1265\n",
              "RAD      506.0    9.549407    8.707259  ...    5.00000   24.000000   24.0000\n",
              "TAX      506.0  408.237154  168.537116  ...  330.00000  666.000000  711.0000\n",
              "PTRATIO  506.0   18.455534    2.164946  ...   19.05000   20.200000   22.0000\n",
              "B        506.0  356.674032   91.294864  ...  391.44000  396.225000  396.9000\n",
              "LSTAT    506.0   12.653063    7.141062  ...   11.36000   16.955000   37.9700\n",
              "\n",
              "[13 rows x 8 columns]"
            ]
          },
          "metadata": {
            "tags": []
          },
          "execution_count": 52
        }
      ]
    },
    {
      "cell_type": "code",
      "metadata": {
        "id": "td66f7eJn8CO",
        "colab_type": "code",
        "outputId": "caa00b32-d4ed-4727-9c65-5eb2eb7c4c16",
        "colab": {
          "base_uri": "https://localhost:8080/",
          "height": 518
        }
      },
      "source": [
        "#X_train.corr()\n",
        "# plot the heatmap\n",
        "#https://stackoverflow.com/questions/39409866/correlation-heatmap\n",
        "#https://stackoverflow.com/questions/31594549/how-do-i-change-the-figure-size-for-a-seaborn-plot\n",
        "from matplotlib import pyplot\n",
        "a4_dims = (11.7, 8.27)\n",
        "fig, ax = pyplot.subplots(figsize=a4_dims)\n",
        "\n",
        "import seaborn as sns\n",
        "sns.heatmap(df_boston.corr(), ax=ax,\n",
        "        xticklabels=df_boston.corr().columns,\n",
        "        yticklabels=df_boston.corr().columns, annot=True)"
      ],
      "execution_count": 53,
      "outputs": [
        {
          "output_type": "execute_result",
          "data": {
            "text/plain": [
              "<matplotlib.axes._subplots.AxesSubplot at 0x7f100dd1bb70>"
            ]
          },
          "metadata": {
            "tags": []
          },
          "execution_count": 53
        },
        {
          "output_type": "display_data",
          "data": {
            "image/png": "[encoded data removed]",
            "text/plain": [
              "<Figure size 842.4x595.44 with 2 Axes>"
            ]
          },
          "metadata": {
            "tags": []
          }
        }
      ]
    },
    {
      "cell_type": "markdown",
      "metadata": {
        "id": "ZgvVnpzjn8CR",
        "colab_type": "text"
      },
      "source": [
        "### Above chart displays the correlation amoung the various features in the dataset"
      ]
    },
    {
      "cell_type": "markdown",
      "metadata": {
        "id": "69cUr-Dln8CI",
        "colab_type": "text"
      },
      "source": [
        "# 3. Splitting Data into Train and Test Datasets"
      ]
    },
    {
      "cell_type": "code",
      "metadata": {
        "id": "vkRwS5Wdn8CJ",
        "colab_type": "code",
        "outputId": "1d542968-1431-409f-f057-7889bc5ebe8a",
        "colab": {
          "base_uri": "https://localhost:8080/",
          "height": 84
        }
      },
      "source": [
        "#https://machinelearningmastery.com/implement-linear-regression-stochastic-gradient-descent-scratch-python/\n",
        "from sklearn.model_selection import train_test_split\n",
        "X_train, X_test, Y_train, Y_test = train_test_split( X_total, Y_total, test_size=0.15, random_state=42)\n",
        "print(X_train.shape)\n",
        "print(X_test.shape)\n",
        "print(Y_train.shape)\n",
        "print(Y_test.shape)"
      ],
      "execution_count": 54,
      "outputs": [
        {
          "output_type": "stream",
          "text": [
            "(430, 13)\n",
            "(76, 13)\n",
            "(430,)\n",
            "(76,)\n"
          ],
          "name": "stdout"
        }
      ]
    },
    {
      "cell_type": "markdown",
      "metadata": {
        "id": "hSDROtv2n8CS",
        "colab_type": "text"
      },
      "source": [
        "# 4. Performing column stardarisation of all features of the dataset"
      ]
    },
    {
      "cell_type": "code",
      "metadata": {
        "colab_type": "code",
        "id": "FgUW39s6Be0U",
        "colab": {}
      },
      "source": [
        "scaler= preprocessing.StandardScaler()\n",
        "x_train_scaler = scaler.fit_transform(X_train)\n",
        "x_test_scaler= scaler.transform(X_test)"
      ],
      "execution_count": 0,
      "outputs": []
    },
    {
      "cell_type": "markdown",
      "metadata": {
        "id": "4IjUZqWwn8Cj",
        "colab_type": "text"
      },
      "source": [
        "## Defining Root Mean Square error funtion \n",
        " - Function takes as input actual and predicted values of output i.e. Y and Y^\n",
        " - Function returns the = square root of ( mean error in prediction given by predicted value (y^) - actual value(y) )"
      ]
    },
    {
      "cell_type": "code",
      "metadata": {
        "id": "fKqXNb2Fn8Ck",
        "colab_type": "code",
        "colab": {}
      },
      "source": [
        "# Calculate root mean squared error\n",
        "def rmse_metric(actual, predicted):\n",
        "    sum_error = 0.0\n",
        "    for i in range(len(actual)):\n",
        "        prediction_error = predicted[i] - actual[i]\n",
        "        sum_error += (prediction_error ** 2)\n",
        "    mean_error = sum_error / float(len(actual))\n",
        "    return sqrt(mean_error)"
      ],
      "execution_count": 0,
      "outputs": []
    },
    {
      "cell_type": "code",
      "metadata": {
        "id": "pNcwO6qP2053",
        "colab_type": "code",
        "outputId": "74fb386b-1db3-477a-fd6d-c7883ee7a465",
        "colab": {
          "base_uri": "https://localhost:8080/",
          "height": 50
        }
      },
      "source": [
        "#https://stackoverflow.com/questions/22596827/nameerror-name-random-is-not-defined\n",
        "#https://stackoverflow.com/questions/17192158/nameerror-global-name-xrange-is-not-defined-in-python-3\n",
        "#https://stackoverflow.com/questions/12167863/big-array-with-random-numbers-with-python\n",
        "#https://www.geeksforgeeks.org/random-seed-in-python/\n",
        "\n",
        "import random\n",
        "random.seed(42) \n",
        "bias = random.random()\n",
        "weights = np.array([random.random() for _ in range(13)]).reshape(1,-1)\n",
        "print(weights.shape)\n",
        "print(bias)"
      ],
      "execution_count": 57,
      "outputs": [
        {
          "output_type": "stream",
          "text": [
            "(1, 13)\n",
            "0.6394267984578837\n"
          ],
          "name": "stdout"
        }
      ]
    },
    {
      "cell_type": "markdown",
      "metadata": {
        "colab_type": "text",
        "id": "90cXq8BGd1Ry"
      },
      "source": [
        "## Defining Predict funtion \n",
        " - Function takes a data row and cofficients as inputs and returns predicted values of y^ \n",
        " - Function uses the equation y^= w0 + w1*x1 + w2*x2 ... wn*xn\n",
        " - Row 0 is considered for w0 intercept information"
      ]
    },
    {
      "cell_type": "code",
      "metadata": {
        "id": "mWDWjZ8w4y3v",
        "colab_type": "code",
        "outputId": "467461a0-0071-4680-d3f0-8ccf22f9f388",
        "colab": {
          "base_uri": "https://localhost:8080/",
          "height": 34
        }
      },
      "source": [
        "#def predict_outcome(x,weight):\n",
        "#  yhat = np.dot(weight,x.T) \n",
        "#  return yhat.T\n",
        "\n",
        "def predict_yhat(X, weight,bias):\n",
        "  return (X.dot(weight.T) + bias)\n",
        "\n",
        "print(predict_yhat(x_train_scaler,weights,bias).shape)"
      ],
      "execution_count": 59,
      "outputs": [
        {
          "output_type": "stream",
          "text": [
            "(430, 1)\n"
          ],
          "name": "stdout"
        }
      ]
    },
    {
      "cell_type": "markdown",
      "metadata": {
        "id": "suKAQOe7n8Cm",
        "colab_type": "text"
      },
      "source": [
        "## Defining Coefficient funtion \n",
        " - Purpose of the function is to find the optiomal value of weights"
      ]
    },
    {
      "cell_type": "code",
      "metadata": {
        "id": "wnV3xUkWkWfW",
        "colab_type": "code",
        "colab": {}
      },
      "source": [
        "# implemented SGD Classifier\n",
        "def sgd_return_weights(train_data,output,test_data,test_output,learning_rate,epochs):\n",
        "    weights_cur=np.zeros(shape=(1,train_data.shape[1]))\n",
        "    bias_cur=0\n",
        "    loss_train = []\n",
        "    loss_test = []\n",
        "    for epoch in range(epochs):\n",
        "        weights_old = weights_cur\n",
        "        bias_old = bias_cur\n",
        "        #learning_rate = learning_rate /2\n",
        "        weights_temp = np.zeros(shape=(1,train_data.shape[1]))\n",
        "        bias_temp = 0\n",
        "        for i in range(train_data.shape[0]):\n",
        "            weights_temp += train_data[i]* (output[i]-(np.dot(weights_old,train_data[i])+bias_old)) * (-2/train_data.shape[0])\n",
        "            bias_temp += (output[i]- (np.dot(weights_old,train_data[i])+bias_old)) * (-2/train_data.shape[0])\n",
        "        weights_cur= weights_old - learning_rate * weights_temp\n",
        "        bias_cur=bias_old - learning_rate * bias_temp\n",
        "\n",
        "        #learning_rate = learning_rate /4\n",
        "\n",
        "        #calculating loss at the end of each epoch\n",
        "        loss_train.append(rmse_metric(output,predict_yhat(train_data,weights_cur,bias_cur)))\n",
        "        loss_test.append(rmse_metric(test_output,predict_yhat(test_data,weights_cur,bias_cur)))\n",
        "\n",
        "        if(weights_old==weights_cur).all():\n",
        "            break\n",
        "          \n",
        "    return weights_cur,bias_cur,loss_train,loss_test"
      ],
      "execution_count": 0,
      "outputs": []
    },
    {
      "cell_type": "code",
      "metadata": {
        "id": "r4v0sT7aYoHi",
        "colab_type": "code",
        "colab": {}
      },
      "source": [
        "epochs = 500\n",
        "learning_rate = 0.001\n",
        "\n",
        "weights_train , bias_train,loss_train,loss_test = sgd_return_weights(x_train_scaler,Y_train,x_test_scaler, Y_test,learning_rate,epochs)\n",
        "#weights_test , bias_test,loss_test = "
      ],
      "execution_count": 0,
      "outputs": []
    },
    {
      "cell_type": "code",
      "metadata": {
        "id": "Z_PAkpAgYZ5_",
        "colab_type": "code",
        "colab": {
          "base_uri": "https://localhost:8080/",
          "height": 295
        },
        "outputId": "1c6e1975-d561-44d1-e887-c67c0460442f"
      },
      "source": [
        "#Line plot of predicted price per epoch\n",
        "#plt.scatter(Y_test,y_hat_test)\n",
        "plt.plot(loss_train,color = 'r',label = 'Train Loss')\n",
        "plt.plot(loss_test,color = 'g',label = 'Test Loss')\n",
        "plt.xlabel('Epochs')\n",
        "plt.ylabel('Loss')\n",
        "plt.title('Loss of Train & Test per Epoch')\n",
        "plt.legend()\n",
        "plt.show()"
      ],
      "execution_count": 123,
      "outputs": [
        {
          "output_type": "display_data",
          "data": {
            "image/png": "[encoded data removed]",
            "text/plain": [
              "<Figure size 432x288 with 1 Axes>"
            ]
          },
          "metadata": {
            "tags": []
          }
        }
      ]
    },
    {
      "cell_type": "code",
      "metadata": {
        "id": "gvEjwR1_YXAG",
        "colab_type": "code",
        "colab": {}
      },
      "source": [
        "y_hat_test = predict_yhat(x_test_scaler,weights_train,bias_train)"
      ],
      "execution_count": 0,
      "outputs": []
    },
    {
      "cell_type": "code",
      "metadata": {
        "id": "Im__TuhYn8C7",
        "colab_type": "code",
        "outputId": "4d507119-14a1-4896-9263-54a491c9dc58",
        "colab": {
          "base_uri": "https://localhost:8080/",
          "height": 295
        }
      },
      "source": [
        "#Scatter plot of actual price vs predicted price\n",
        "plt.scatter(Y_test,y_hat_test)\n",
        "plt.xlabel('Actual price')\n",
        "plt.ylabel('Predictd price')\n",
        "plt.title('Actual price vs Predicted price')\n",
        "plt.show()"
      ],
      "execution_count": 102,
      "outputs": [
        {
          "output_type": "display_data",
          "data": {
            "image/png": "[encoded data removed]",
            "text/plain": [
              "<Figure size 432x288 with 1 Axes>"
            ]
          },
          "metadata": {
            "tags": []
          }
        }
      ]
    },
    {
      "cell_type": "code",
      "metadata": {
        "id": "xV7OiDxEn8C9",
        "colab_type": "code",
        "colab": {
          "base_uri": "https://localhost:8080/",
          "height": 34
        },
        "outputId": "31de8122-2929-459c-b5d0-b8a6df59bfaf"
      },
      "source": [
        "print(rmse_metric(Y_test,y_hat_test))"
      ],
      "execution_count": 75,
      "outputs": [
        {
          "output_type": "stream",
          "text": [
            "10.125096387491638\n"
          ],
          "name": "stdout"
        }
      ]
    },
    {
      "cell_type": "code",
      "metadata": {
        "id": "fq-OKEs4n8DA",
        "colab_type": "code",
        "colab": {
          "base_uri": "https://localhost:8080/",
          "height": 34
        },
        "outputId": "523303e4-20ed-472c-a39a-a7a107cc291e"
      },
      "source": [
        "sgd_manual_error = rmse_metric(Y_test,y_hat_test)\n",
        "print(sgd_manual_error)"
      ],
      "execution_count": 76,
      "outputs": [
        {
          "output_type": "stream",
          "text": [
            "10.125096387491638\n"
          ],
          "name": "stdout"
        }
      ]
    },
    {
      "cell_type": "markdown",
      "metadata": {
        "id": "Wy-lkPUZwPW_",
        "colab_type": "text"
      },
      "source": [
        "## Using SGD classifier for Predicting Prices"
      ]
    },
    {
      "cell_type": "code",
      "metadata": {
        "id": "HvsW_cSDn8DB",
        "colab_type": "code",
        "colab": {
          "base_uri": "https://localhost:8080/",
          "height": 295
        },
        "outputId": "8b01d16a-5323-4912-94b9-0d7c2e3e7d13"
      },
      "source": [
        "sgd=SGDRegressor(max_iter=500)\n",
        "sgd.fit(x_train_scaler,Y_train)\n",
        "y_pred_sgd=sgd.predict(x_test_scaler)\n",
        "\n",
        "#Scatter plot of actual price vs predicted price\n",
        "\n",
        "plt.scatter(Y_test,y_pred_sgd)\n",
        "plt.xlabel('Actual price')\n",
        "plt.ylabel('Predictd price')\n",
        "plt.title('Actual price vs Predicted price')\n",
        "plt.show()"
      ],
      "execution_count": 77,
      "outputs": [
        {
          "output_type": "display_data",
          "data": {
            "image/png": "[encoded data removed]",
            "text/plain": [
              "<Figure size 432x288 with 1 Axes>"
            ]
          },
          "metadata": {
            "tags": []
          }
        }
      ]
    },
    {
      "cell_type": "code",
      "metadata": {
        "id": "LsX2Nnl5n8DE",
        "colab_type": "code",
        "colab": {
          "base_uri": "https://localhost:8080/",
          "height": 84
        },
        "outputId": "ea8050cf-5028-4ea6-dd9f-65d63d172839"
      },
      "source": [
        "print(\"Coefficients of SGD : \", sgd.coef_)\n",
        "print(\"Y_intercept of SGD : \", sgd.intercept_)"
      ],
      "execution_count": 78,
      "outputs": [
        {
          "output_type": "stream",
          "text": [
            "Coefficients of SGD :  [-0.97999767  0.74551268 -0.05467548  0.69698392 -2.07796553  2.81643884\n",
            "  0.03826154 -3.19215557  2.00835735 -1.12169304 -2.07123004  1.04249962\n",
            " -3.9186421 ]\n",
            "Y_intercept of SGD :  [22.69578727]\n"
          ],
          "name": "stdout"
        }
      ]
    },
    {
      "cell_type": "code",
      "metadata": {
        "id": "Qtss3szrn8DG",
        "colab_type": "code",
        "colab": {
          "base_uri": "https://localhost:8080/",
          "height": 295
        },
        "outputId": "2c47c8ba-30ac-4513-985f-823bfe1026b8"
      },
      "source": [
        "#Scatter plot of Manual Methof Coef vs SGDRegressor Coefficients\n",
        "\n",
        "plt.scatter(sgd.coef_,weights_train)\n",
        "plt.xlabel('SGDRegressor Classifier')\n",
        "plt.ylabel('Manual Method SGD')\n",
        "plt.title('anual Methof Coef vs SGDRegressor Coefficients')\n",
        "plt.show()"
      ],
      "execution_count": 81,
      "outputs": [
        {
          "output_type": "display_data",
          "data": {
            "image/png": "[encoded data removed]",
            "text/plain": [
              "<Figure size 432x288 with 1 Axes>"
            ]
          },
          "metadata": {
            "tags": []
          }
        }
      ]
    },
    {
      "cell_type": "code",
      "metadata": {
        "id": "-Osfh5NLn8DI",
        "colab_type": "code",
        "colab": {
          "base_uri": "https://localhost:8080/",
          "height": 50
        },
        "outputId": "064434eb-515c-431a-fcd0-0e93064ea529"
      },
      "source": [
        "#comparison between MSE of own implementation and SGD sklearn implementation\n",
        "print('Mean Square error by manual method :'+ str(rmse_metric(Y_test,y_hat_test)))\n",
        "print('Mean Square error by SKLEARN SGDRegressor :'+ str(rmse_metric(Y_test,y_pred_sgd)))"
      ],
      "execution_count": 83,
      "outputs": [
        {
          "output_type": "stream",
          "text": [
            "Mean Square error by manual method :10.125096387491638\n",
            "Mean Square error by SKLEARN SGDRegressor :3.7103835997758807\n"
          ],
          "name": "stdout"
        }
      ]
    },
    {
      "cell_type": "markdown",
      "metadata": {
        "id": "_6WZYun9X8r3",
        "colab_type": "text"
      },
      "source": [
        "## Conclusion"
      ]
    },
    {
      "cell_type": "code",
      "metadata": {
        "id": "PPyPlY6MX7e0",
        "colab_type": "code",
        "colab": {
          "base_uri": "https://localhost:8080/",
          "height": 185
        },
        "outputId": "05a93d39-bedc-44e7-9549-49b4cd8eab4b"
      },
      "source": [
        "#http://zetcode.com/python/prettytable/\n",
        "from prettytable import PrettyTable\n",
        "x = PrettyTable()\n",
        "\n",
        "x.field_names = [\"Method\", \"Mean Square Error\",\"Weights\",\"Intercept\"]\n",
        "x.add_row([\"SGD Classifier\",rmse_metric(Y_test,y_pred_sgd),sgd.coef_,sgd.intercept_])\n",
        "x.add_row([\"Manual SGD\",rmse_metric(Y_test,y_hat_test),weights,bias])\n",
        "print(x)"
      ],
      "execution_count": 124,
      "outputs": [
        {
          "output_type": "stream",
          "text": [
            "+----------------+--------------------+--------------------------------------------------------------------------+--------------------+\n",
            "|     Method     | Mean Square Error  |                                 Weights                                  |     Intercept      |\n",
            "+----------------+--------------------+--------------------------------------------------------------------------+--------------------+\n",
            "| SGD Classifier | 3.7103835997758807 | [-0.97999767  0.74551268 -0.05467548  0.69698392 -2.07796553  2.81643884 |   [22.69578727]    |\n",
            "|                |                    |   0.03826154 -3.19215557  2.00835735 -1.12169304 -2.07123004  1.04249962 |                    |\n",
            "|                |                    |                               -3.9186421 ]                               |                    |\n",
            "|   Manual SGD   | 8.698340084307992  |   [[0.02501076 0.27502932 0.22321074 0.73647121 0.67669949 0.89217957    | 0.6394267984578837 |\n",
            "|                |                    |     0.08693883 0.42192182 0.02979722 0.21863797 0.50535529 0.02653597    |                    |\n",
            "|                |                    |                                0.19883765]]                              |                    |\n",
            "+----------------+--------------------+--------------------------------------------------------------------------+--------------------+\n"
          ],
          "name": "stdout"
        }
      ]
    },
    {
      "cell_type": "code",
      "metadata": {
        "id": "1Nl0L9aw1bNh",
        "colab_type": "code",
        "colab": {}
      },
      "source": [
        ""
      ],
      "execution_count": 0,
      "outputs": []
    }
  ]
}