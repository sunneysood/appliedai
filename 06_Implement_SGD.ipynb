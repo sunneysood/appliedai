{
  "nbformat": 4,
  "nbformat_minor": 0,
  "metadata": {
    "colab": {
      "name": "06 Implement SGD.ipynb",
      "provenance": [],
      "collapsed_sections": [],
      "include_colab_link": true
    },
    "kernelspec": {
      "display_name": "Python 3",
      "language": "python",
      "name": "python3"
    },
    "language_info": {
      "codemirror_mode": {
        "name": "ipython",
        "version": 3
      },
      "file_extension": ".py",
      "mimetype": "text/x-python",
      "name": "python",
      "nbconvert_exporter": "python",
      "pygments_lexer": "ipython3",
      "version": "3.5.3"
    }
  },
  "cells": [
    {
      "cell_type": "markdown",
      "metadata": {
        "id": "view-in-github",
        "colab_type": "text"
      },
      "source": [
        "<a href=\"https://colab.research.google.com/github/sunneysood/appliedai/blob/master/06_Implement_SGD.ipynb\" target=\"_parent\"><img src=\"https://colab.research.google.com/assets/colab-badge.svg\" alt=\"Open In Colab\"/></a>"
      ]
    },
    {
      "cell_type": "markdown",
      "metadata": {
        "id": "hvUECP88n8Bw",
        "colab_type": "text"
      },
      "source": [
        "# 1. Importing Necessary Files"
      ]
    },
    {
      "cell_type": "code",
      "metadata": {
        "colab_type": "code",
        "id": "REYPoTJ1Af7u",
        "colab": {}
      },
      "source": [
        "import warnings\n",
        "warnings.filterwarnings(\"ignore\")\n",
        "from sklearn.datasets import load_boston\n",
        "from random import seed\n",
        "from random import randrange\n",
        "from csv import reader\n",
        "from math import sqrt\n",
        "import pandas as pd\n",
        "import numpy as np\n",
        "import matplotlib.pyplot as plt\n",
        "from prettytable import PrettyTable\n",
        "from sklearn.linear_model import SGDRegressor\n",
        "from sklearn import preprocessing\n",
        "from sklearn.metrics import mean_squared_error"
      ],
      "execution_count": 0,
      "outputs": []
    },
    {
      "cell_type": "markdown",
      "metadata": {
        "id": "o-HyqTxkn8B6",
        "colab_type": "text"
      },
      "source": [
        "# 2. Importing Dataset from Sklearn Datasets"
      ]
    },
    {
      "cell_type": "code",
      "metadata": {
        "id": "xpu-bVC3n8B7",
        "colab_type": "code",
        "outputId": "7a1b1d23-3a09-4ade-c494-95df410bbdfd",
        "colab": {
          "base_uri": "https://localhost:8080/",
          "height": 894
        }
      },
      "source": [
        "#https://www.programcreek.com/python/example/82897/sklearn.datasets.load_boston\n",
        "boston = load_boston()\n",
        "#to understand datasets\n",
        "print(boston.DESCR)"
      ],
      "execution_count": 2,
      "outputs": [
        {
          "output_type": "stream",
          "text": [
            ".. _boston_dataset:\n",
            "\n",
            "Boston house prices dataset\n",
            "---------------------------\n",
            "\n",
            "**Data Set Characteristics:**  \n",
            "\n",
            "    :Number of Instances: 506 \n",
            "\n",
            "    :Number of Attributes: 13 numeric/categorical predictive. Median Value (attribute 14) is usually the target.\n",
            "\n",
            "    :Attribute Information (in order):\n",
            "        - CRIM     per capita crime rate by town\n",
            "        - ZN       proportion of residential land zoned for lots over 25,000 sq.ft.\n",
            "        - INDUS    proportion of non-retail business acres per town\n",
            "        - CHAS     Charles River dummy variable (= 1 if tract bounds river; 0 otherwise)\n",
            "        - NOX      nitric oxides concentration (parts per 10 million)\n",
            "        - RM       average number of rooms per dwelling\n",
            "        - AGE      proportion of owner-occupied units built prior to 1940\n",
            "        - DIS      weighted distances to five Boston employment centres\n",
            "        - RAD      index of accessibility to radial highways\n",
            "        - TAX      full-value property-tax rate per $10,000\n",
            "        - PTRATIO  pupil-teacher ratio by town\n",
            "        - B        1000(Bk - 0.63)^2 where Bk is the proportion of blacks by town\n",
            "        - LSTAT    % lower status of the population\n",
            "        - MEDV     Median value of owner-occupied homes in $1000's\n",
            "\n",
            "    :Missing Attribute Values: None\n",
            "\n",
            "    :Creator: Harrison, D. and Rubinfeld, D.L.\n",
            "\n",
            "This is a copy of UCI ML housing dataset.\n",
            "https://archive.ics.uci.edu/ml/machine-learning-databases/housing/\n",
            "\n",
            "\n",
            "This dataset was taken from the StatLib library which is maintained at Carnegie Mellon University.\n",
            "\n",
            "The Boston house-price data of Harrison, D. and Rubinfeld, D.L. 'Hedonic\n",
            "prices and the demand for clean air', J. Environ. Economics & Management,\n",
            "vol.5, 81-102, 1978.   Used in Belsley, Kuh & Welsch, 'Regression diagnostics\n",
            "...', Wiley, 1980.   N.B. Various transformations are used in the table on\n",
            "pages 244-261 of the latter.\n",
            "\n",
            "The Boston house-price data has been used in many machine learning papers that address regression\n",
            "problems.   \n",
            "     \n",
            ".. topic:: References\n",
            "\n",
            "   - Belsley, Kuh & Welsch, 'Regression diagnostics: Identifying Influential Data and Sources of Collinearity', Wiley, 1980. 244-261.\n",
            "   - Quinlan,R. (1993). Combining Instance-Based and Model-Based Learning. In Proceedings on the Tenth International Conference of Machine Learning, 236-243, University of Massachusetts, Amherst. Morgan Kaufmann.\n",
            "\n"
          ],
          "name": "stdout"
        }
      ]
    },
    {
      "cell_type": "code",
      "metadata": {
        "id": "1hw7wDMcn8B_",
        "colab_type": "code",
        "outputId": "9429cad9-58d4-4511-f21f-e2bf6121ec1a",
        "colab": {
          "base_uri": "https://localhost:8080/",
          "height": 50
        }
      },
      "source": [
        "#https://www.programcreek.com/python/example/82897/sklearn.datasets.load_boston\n",
        "X_total = boston[\"data\"]\n",
        "Y_total = boston[\"target\"]\n",
        "names = boston[\"feature_names\"]\n",
        "names"
      ],
      "execution_count": 3,
      "outputs": [
        {
          "output_type": "execute_result",
          "data": {
            "text/plain": [
              "array(['CRIM', 'ZN', 'INDUS', 'CHAS', 'NOX', 'RM', 'AGE', 'DIS', 'RAD',\n",
              "       'TAX', 'PTRATIO', 'B', 'LSTAT'], dtype='<U7')"
            ]
          },
          "metadata": {
            "tags": []
          },
          "execution_count": 3
        }
      ]
    },
    {
      "cell_type": "markdown",
      "metadata": {
        "id": "lLBnNXrqn8CH",
        "colab_type": "text"
      },
      "source": [
        "### Dataset has 13 columns namely 'CRIM', 'ZN', 'INDUS', 'CHAS', 'NOX', 'RM', 'AGE', 'DIS', 'RAD', 'TAX', 'PTRATIO', 'B' and  'LSTAT'"
      ]
    },
    {
      "cell_type": "code",
      "metadata": {
        "id": "VH-S46jln8CC",
        "colab_type": "code",
        "outputId": "1ed47f50-fc14-46fb-d549-84417db745f5",
        "colab": {
          "base_uri": "https://localhost:8080/",
          "height": 136
        }
      },
      "source": [
        "df_boston= pd.DataFrame(X_total,columns=names)\n",
        "df_boston.head(3)"
      ],
      "execution_count": 4,
      "outputs": [
        {
          "output_type": "execute_result",
          "data": {
            "text/html": [
              "<div>\n",
              "<style scoped>\n",
              "    .dataframe tbody tr th:only-of-type {\n",
              "        vertical-align: middle;\n",
              "    }\n",
              "\n",
              "    .dataframe tbody tr th {\n",
              "        vertical-align: top;\n",
              "    }\n",
              "\n",
              "    .dataframe thead th {\n",
              "        text-align: right;\n",
              "    }\n",
              "</style>\n",
              "<table border=\"1\" class=\"dataframe\">\n",
              "  <thead>\n",
              "    <tr style=\"text-align: right;\">\n",
              "      <th></th>\n",
              "      <th>CRIM</th>\n",
              "      <th>ZN</th>\n",
              "      <th>INDUS</th>\n",
              "      <th>CHAS</th>\n",
              "      <th>NOX</th>\n",
              "      <th>RM</th>\n",
              "      <th>AGE</th>\n",
              "      <th>DIS</th>\n",
              "      <th>RAD</th>\n",
              "      <th>TAX</th>\n",
              "      <th>PTRATIO</th>\n",
              "      <th>B</th>\n",
              "      <th>LSTAT</th>\n",
              "    </tr>\n",
              "  </thead>\n",
              "  <tbody>\n",
              "    <tr>\n",
              "      <th>0</th>\n",
              "      <td>0.00632</td>\n",
              "      <td>18.0</td>\n",
              "      <td>2.31</td>\n",
              "      <td>0.0</td>\n",
              "      <td>0.538</td>\n",
              "      <td>6.575</td>\n",
              "      <td>65.2</td>\n",
              "      <td>4.0900</td>\n",
              "      <td>1.0</td>\n",
              "      <td>296.0</td>\n",
              "      <td>15.3</td>\n",
              "      <td>396.90</td>\n",
              "      <td>4.98</td>\n",
              "    </tr>\n",
              "    <tr>\n",
              "      <th>1</th>\n",
              "      <td>0.02731</td>\n",
              "      <td>0.0</td>\n",
              "      <td>7.07</td>\n",
              "      <td>0.0</td>\n",
              "      <td>0.469</td>\n",
              "      <td>6.421</td>\n",
              "      <td>78.9</td>\n",
              "      <td>4.9671</td>\n",
              "      <td>2.0</td>\n",
              "      <td>242.0</td>\n",
              "      <td>17.8</td>\n",
              "      <td>396.90</td>\n",
              "      <td>9.14</td>\n",
              "    </tr>\n",
              "    <tr>\n",
              "      <th>2</th>\n",
              "      <td>0.02729</td>\n",
              "      <td>0.0</td>\n",
              "      <td>7.07</td>\n",
              "      <td>0.0</td>\n",
              "      <td>0.469</td>\n",
              "      <td>7.185</td>\n",
              "      <td>61.1</td>\n",
              "      <td>4.9671</td>\n",
              "      <td>2.0</td>\n",
              "      <td>242.0</td>\n",
              "      <td>17.8</td>\n",
              "      <td>392.83</td>\n",
              "      <td>4.03</td>\n",
              "    </tr>\n",
              "  </tbody>\n",
              "</table>\n",
              "</div>"
            ],
            "text/plain": [
              "      CRIM    ZN  INDUS  CHAS    NOX  ...  RAD    TAX  PTRATIO       B  LSTAT\n",
              "0  0.00632  18.0   2.31   0.0  0.538  ...  1.0  296.0     15.3  396.90   4.98\n",
              "1  0.02731   0.0   7.07   0.0  0.469  ...  2.0  242.0     17.8  396.90   9.14\n",
              "2  0.02729   0.0   7.07   0.0  0.469  ...  2.0  242.0     17.8  392.83   4.03\n",
              "\n",
              "[3 rows x 13 columns]"
            ]
          },
          "metadata": {
            "tags": []
          },
          "execution_count": 4
        }
      ]
    },
    {
      "cell_type": "code",
      "metadata": {
        "id": "YhimUn8OvLtp",
        "colab_type": "code",
        "outputId": "64e1e185-04da-48a7-a764-7ab373f38910",
        "colab": {
          "base_uri": "https://localhost:8080/",
          "height": 432
        }
      },
      "source": [
        "df_boston.describe().T"
      ],
      "execution_count": 5,
      "outputs": [
        {
          "output_type": "execute_result",
          "data": {
            "text/html": [
              "<div>\n",
              "<style scoped>\n",
              "    .dataframe tbody tr th:only-of-type {\n",
              "        vertical-align: middle;\n",
              "    }\n",
              "\n",
              "    .dataframe tbody tr th {\n",
              "        vertical-align: top;\n",
              "    }\n",
              "\n",
              "    .dataframe thead th {\n",
              "        text-align: right;\n",
              "    }\n",
              "</style>\n",
              "<table border=\"1\" class=\"dataframe\">\n",
              "  <thead>\n",
              "    <tr style=\"text-align: right;\">\n",
              "      <th></th>\n",
              "      <th>count</th>\n",
              "      <th>mean</th>\n",
              "      <th>std</th>\n",
              "      <th>min</th>\n",
              "      <th>25%</th>\n",
              "      <th>50%</th>\n",
              "      <th>75%</th>\n",
              "      <th>max</th>\n",
              "    </tr>\n",
              "  </thead>\n",
              "  <tbody>\n",
              "    <tr>\n",
              "      <th>CRIM</th>\n",
              "      <td>506.0</td>\n",
              "      <td>3.613524</td>\n",
              "      <td>8.601545</td>\n",
              "      <td>0.00632</td>\n",
              "      <td>0.082045</td>\n",
              "      <td>0.25651</td>\n",
              "      <td>3.677083</td>\n",
              "      <td>88.9762</td>\n",
              "    </tr>\n",
              "    <tr>\n",
              "      <th>ZN</th>\n",
              "      <td>506.0</td>\n",
              "      <td>11.363636</td>\n",
              "      <td>23.322453</td>\n",
              "      <td>0.00000</td>\n",
              "      <td>0.000000</td>\n",
              "      <td>0.00000</td>\n",
              "      <td>12.500000</td>\n",
              "      <td>100.0000</td>\n",
              "    </tr>\n",
              "    <tr>\n",
              "      <th>INDUS</th>\n",
              "      <td>506.0</td>\n",
              "      <td>11.136779</td>\n",
              "      <td>6.860353</td>\n",
              "      <td>0.46000</td>\n",
              "      <td>5.190000</td>\n",
              "      <td>9.69000</td>\n",
              "      <td>18.100000</td>\n",
              "      <td>27.7400</td>\n",
              "    </tr>\n",
              "    <tr>\n",
              "      <th>CHAS</th>\n",
              "      <td>506.0</td>\n",
              "      <td>0.069170</td>\n",
              "      <td>0.253994</td>\n",
              "      <td>0.00000</td>\n",
              "      <td>0.000000</td>\n",
              "      <td>0.00000</td>\n",
              "      <td>0.000000</td>\n",
              "      <td>1.0000</td>\n",
              "    </tr>\n",
              "    <tr>\n",
              "      <th>NOX</th>\n",
              "      <td>506.0</td>\n",
              "      <td>0.554695</td>\n",
              "      <td>0.115878</td>\n",
              "      <td>0.38500</td>\n",
              "      <td>0.449000</td>\n",
              "      <td>0.53800</td>\n",
              "      <td>0.624000</td>\n",
              "      <td>0.8710</td>\n",
              "    </tr>\n",
              "    <tr>\n",
              "      <th>RM</th>\n",
              "      <td>506.0</td>\n",
              "      <td>6.284634</td>\n",
              "      <td>0.702617</td>\n",
              "      <td>3.56100</td>\n",
              "      <td>5.885500</td>\n",
              "      <td>6.20850</td>\n",
              "      <td>6.623500</td>\n",
              "      <td>8.7800</td>\n",
              "    </tr>\n",
              "    <tr>\n",
              "      <th>AGE</th>\n",
              "      <td>506.0</td>\n",
              "      <td>68.574901</td>\n",
              "      <td>28.148861</td>\n",
              "      <td>2.90000</td>\n",
              "      <td>45.025000</td>\n",
              "      <td>77.50000</td>\n",
              "      <td>94.075000</td>\n",
              "      <td>100.0000</td>\n",
              "    </tr>\n",
              "    <tr>\n",
              "      <th>DIS</th>\n",
              "      <td>506.0</td>\n",
              "      <td>3.795043</td>\n",
              "      <td>2.105710</td>\n",
              "      <td>1.12960</td>\n",
              "      <td>2.100175</td>\n",
              "      <td>3.20745</td>\n",
              "      <td>5.188425</td>\n",
              "      <td>12.1265</td>\n",
              "    </tr>\n",
              "    <tr>\n",
              "      <th>RAD</th>\n",
              "      <td>506.0</td>\n",
              "      <td>9.549407</td>\n",
              "      <td>8.707259</td>\n",
              "      <td>1.00000</td>\n",
              "      <td>4.000000</td>\n",
              "      <td>5.00000</td>\n",
              "      <td>24.000000</td>\n",
              "      <td>24.0000</td>\n",
              "    </tr>\n",
              "    <tr>\n",
              "      <th>TAX</th>\n",
              "      <td>506.0</td>\n",
              "      <td>408.237154</td>\n",
              "      <td>168.537116</td>\n",
              "      <td>187.00000</td>\n",
              "      <td>279.000000</td>\n",
              "      <td>330.00000</td>\n",
              "      <td>666.000000</td>\n",
              "      <td>711.0000</td>\n",
              "    </tr>\n",
              "    <tr>\n",
              "      <th>PTRATIO</th>\n",
              "      <td>506.0</td>\n",
              "      <td>18.455534</td>\n",
              "      <td>2.164946</td>\n",
              "      <td>12.60000</td>\n",
              "      <td>17.400000</td>\n",
              "      <td>19.05000</td>\n",
              "      <td>20.200000</td>\n",
              "      <td>22.0000</td>\n",
              "    </tr>\n",
              "    <tr>\n",
              "      <th>B</th>\n",
              "      <td>506.0</td>\n",
              "      <td>356.674032</td>\n",
              "      <td>91.294864</td>\n",
              "      <td>0.32000</td>\n",
              "      <td>375.377500</td>\n",
              "      <td>391.44000</td>\n",
              "      <td>396.225000</td>\n",
              "      <td>396.9000</td>\n",
              "    </tr>\n",
              "    <tr>\n",
              "      <th>LSTAT</th>\n",
              "      <td>506.0</td>\n",
              "      <td>12.653063</td>\n",
              "      <td>7.141062</td>\n",
              "      <td>1.73000</td>\n",
              "      <td>6.950000</td>\n",
              "      <td>11.36000</td>\n",
              "      <td>16.955000</td>\n",
              "      <td>37.9700</td>\n",
              "    </tr>\n",
              "  </tbody>\n",
              "</table>\n",
              "</div>"
            ],
            "text/plain": [
              "         count        mean         std  ...        50%         75%       max\n",
              "CRIM     506.0    3.613524    8.601545  ...    0.25651    3.677083   88.9762\n",
              "ZN       506.0   11.363636   23.322453  ...    0.00000   12.500000  100.0000\n",
              "INDUS    506.0   11.136779    6.860353  ...    9.69000   18.100000   27.7400\n",
              "CHAS     506.0    0.069170    0.253994  ...    0.00000    0.000000    1.0000\n",
              "NOX      506.0    0.554695    0.115878  ...    0.53800    0.624000    0.8710\n",
              "RM       506.0    6.284634    0.702617  ...    6.20850    6.623500    8.7800\n",
              "AGE      506.0   68.574901   28.148861  ...   77.50000   94.075000  100.0000\n",
              "DIS      506.0    3.795043    2.105710  ...    3.20745    5.188425   12.1265\n",
              "RAD      506.0    9.549407    8.707259  ...    5.00000   24.000000   24.0000\n",
              "TAX      506.0  408.237154  168.537116  ...  330.00000  666.000000  711.0000\n",
              "PTRATIO  506.0   18.455534    2.164946  ...   19.05000   20.200000   22.0000\n",
              "B        506.0  356.674032   91.294864  ...  391.44000  396.225000  396.9000\n",
              "LSTAT    506.0   12.653063    7.141062  ...   11.36000   16.955000   37.9700\n",
              "\n",
              "[13 rows x 8 columns]"
            ]
          },
          "metadata": {
            "tags": []
          },
          "execution_count": 5
        }
      ]
    },
    {
      "cell_type": "code",
      "metadata": {
        "id": "td66f7eJn8CO",
        "colab_type": "code",
        "outputId": "c4cb799c-d368-4369-b03e-8e5b8e301107",
        "colab": {
          "base_uri": "https://localhost:8080/",
          "height": 518
        }
      },
      "source": [
        "#X_train.corr()\n",
        "# plot the heatmap\n",
        "#https://stackoverflow.com/questions/39409866/correlation-heatmap\n",
        "#https://stackoverflow.com/questions/31594549/how-do-i-change-the-figure-size-for-a-seaborn-plot\n",
        "from matplotlib import pyplot\n",
        "a4_dims = (11.7, 8.27)\n",
        "fig, ax = pyplot.subplots(figsize=a4_dims)\n",
        "\n",
        "import seaborn as sns\n",
        "sns.heatmap(df_boston.corr(), ax=ax,\n",
        "        xticklabels=df_boston.corr().columns,\n",
        "        yticklabels=df_boston.corr().columns, annot=True)"
      ],
      "execution_count": 6,
      "outputs": [
        {
          "output_type": "execute_result",
          "data": {
            "text/plain": [
              "<matplotlib.axes._subplots.AxesSubplot at 0x7f2b21bf30b8>"
            ]
          },
          "metadata": {
            "tags": []
          },
          "execution_count": 6
        },
        {
          "output_type": "display_data",
          "data": {
            "image/png": "[encoded data removed]",
            "text/plain": [
              "<Figure size 842.4x595.44 with 2 Axes>"
            ]
          },
          "metadata": {
            "tags": []
          }
        }
      ]
    },
    {
      "cell_type": "markdown",
      "metadata": {
        "id": "69cUr-Dln8CI",
        "colab_type": "text"
      },
      "source": [
        "# 3. Splitting Data into Train and Test Datasets"
      ]
    },
    {
      "cell_type": "code",
      "metadata": {
        "id": "vkRwS5Wdn8CJ",
        "colab_type": "code",
        "outputId": "c5b596c1-1e3e-40a8-8a7e-652a69e6f128",
        "colab": {
          "base_uri": "https://localhost:8080/",
          "height": 84
        }
      },
      "source": [
        "#https://machinelearningmastery.com/implement-linear-regression-stochastic-gradient-descent-scratch-python/\n",
        "from sklearn.model_selection import train_test_split\n",
        "X_train, X_test, Y_train, Y_test = train_test_split( X_total, Y_total, test_size=0.15, random_state=42)\n",
        "print(X_train.shape)\n",
        "print(X_test.shape)\n",
        "print(Y_train.shape)\n",
        "print(Y_test.shape)"
      ],
      "execution_count": 7,
      "outputs": [
        {
          "output_type": "stream",
          "text": [
            "(430, 13)\n",
            "(76, 13)\n",
            "(430,)\n",
            "(76,)\n"
          ],
          "name": "stdout"
        }
      ]
    },
    {
      "cell_type": "markdown",
      "metadata": {
        "id": "ZgvVnpzjn8CR",
        "colab_type": "text"
      },
      "source": [
        "### Above chart displays the correlation amoung the various features in the dataset"
      ]
    },
    {
      "cell_type": "markdown",
      "metadata": {
        "id": "hSDROtv2n8CS",
        "colab_type": "text"
      },
      "source": [
        "# 4. Performing column stardarisation of all features of the dataset"
      ]
    },
    {
      "cell_type": "code",
      "metadata": {
        "colab_type": "code",
        "id": "FgUW39s6Be0U",
        "colab": {}
      },
      "source": [
        "scaler= preprocessing.StandardScaler()\n",
        "x_train_scaler = scaler.fit_transform(X_train)\n",
        "x_test_scaler= scaler.transform(X_test)"
      ],
      "execution_count": 0,
      "outputs": []
    },
    {
      "cell_type": "code",
      "metadata": {
        "id": "zTGndewUDx7N",
        "colab_type": "code",
        "colab": {}
      },
      "source": [
        "#Y_train[23]"
      ],
      "execution_count": 0,
      "outputs": []
    },
    {
      "cell_type": "code",
      "metadata": {
        "id": "XjC98BMfn8CW",
        "colab_type": "code",
        "colab": {}
      },
      "source": [
        "y_train_scaler =  scaler.fit_transform(Y_train.reshape(-1, 1))\n",
        "y_test_scaler =  scaler.fit_transform(Y_test.reshape(-1, 1))\n"
      ],
      "execution_count": 0,
      "outputs": []
    },
    {
      "cell_type": "code",
      "metadata": {
        "id": "qWl6KCq3n8Ca",
        "colab_type": "code",
        "outputId": "c6c5ab6a-8772-47ea-a14c-7254d41ca7d7",
        "colab": {
          "base_uri": "https://localhost:8080/",
          "height": 34
        }
      },
      "source": [
        "#https://stackoverflow.com/questions/49885007/how-to-use-scikit-learn-inverse-transform-with-new-values\n",
        "y_train_inverse = scaler.inverse_transform(y_train_scaler)\n",
        "y_train_inverse[23]"
      ],
      "execution_count": 23,
      "outputs": [
        {
          "output_type": "execute_result",
          "data": {
            "text/plain": [
              "array([16.9087976])"
            ]
          },
          "metadata": {
            "tags": []
          },
          "execution_count": 23
        }
      ]
    },
    {
      "cell_type": "markdown",
      "metadata": {
        "id": "LYZBZqhzn8Cg",
        "colab_type": "text"
      },
      "source": [
        "## Defining Predict funtion \n",
        " - Function takes a data row and cofficients as inputs and returns predicted values of y^ \n",
        " - Function uses the equation y^= w0 + w1*x1 + w2*x2 ... wn*xn\n",
        " - Row 0 is considered for w0 intercept information"
      ]
    },
    {
      "cell_type": "markdown",
      "metadata": {
        "id": "4IjUZqWwn8Cj",
        "colab_type": "text"
      },
      "source": [
        "## Defining Root Mean Square error funtion \n",
        " - Function takes as input actual and predicted values of output i.e. Y and Y^\n",
        " - Function returns the = square root of ( mean error in prediction given by predicted value (y^) - actual value(y) )"
      ]
    },
    {
      "cell_type": "code",
      "metadata": {
        "id": "fKqXNb2Fn8Ck",
        "colab_type": "code",
        "colab": {}
      },
      "source": [
        "# Calculate root mean squared error\n",
        "def rmse_metric(actual, predicted):\n",
        "    sum_error = 0.0\n",
        "    for i in range(len(actual)):\n",
        "        prediction_error = predicted[i] - actual[i]\n",
        "        sum_error += (prediction_error ** 2)\n",
        "    mean_error = sum_error / float(len(actual))\n",
        "    return sqrt(mean_error)"
      ],
      "execution_count": 0,
      "outputs": []
    },
    {
      "cell_type": "code",
      "metadata": {
        "id": "AqltHKqVG9cm",
        "colab_type": "code",
        "colab": {
          "base_uri": "https://localhost:8080/",
          "height": 34
        },
        "outputId": "1f2841be-4cb0-4a9c-b8da-c6302ba71355"
      },
      "source": [
        "#https://stackoverflow.com/questions/49885007/how-to-use-scikit-learn-inverse-transform-with-new-values\n",
        "rmse_metric(Y_train,y_train_inverse)"
      ],
      "execution_count": 27,
      "outputs": [
        {
          "output_type": "execute_result",
          "data": {
            "text/plain": [
              "1.6506831645104922"
            ]
          },
          "metadata": {
            "tags": []
          },
          "execution_count": 27
        }
      ]
    },
    {
      "cell_type": "markdown",
      "metadata": {
        "id": "suKAQOe7n8Cm",
        "colab_type": "text"
      },
      "source": [
        "## Defining Coefficient funtion \n",
        " - Purpose of the function is to find the optiomal value of weights"
      ]
    },
    {
      "cell_type": "code",
      "metadata": {
        "id": "pNcwO6qP2053",
        "colab_type": "code",
        "outputId": "6d6e438a-c16d-46a9-cf21-5e1386a8ae6d",
        "colab": {
          "base_uri": "https://localhost:8080/",
          "height": 50
        }
      },
      "source": [
        "#https://stackoverflow.com/questions/22596827/nameerror-name-random-is-not-defined\n",
        "#https://stackoverflow.com/questions/17192158/nameerror-global-name-xrange-is-not-defined-in-python-3\n",
        "#https://stackoverflow.com/questions/12167863/big-array-with-random-numbers-with-python\n",
        "#https://www.geeksforgeeks.org/random-seed-in-python/\n",
        "\n",
        "import random\n",
        "random.seed(42) \n",
        "co_efficient = random.random()\n",
        "weights = np.array([random.random() for _ in range(13)]).reshape(1,-1)\n",
        "print(weights.shape)\n",
        "print(co_efficient)"
      ],
      "execution_count": 15,
      "outputs": [
        {
          "output_type": "stream",
          "text": [
            "(1, 13)\n",
            "0.6394267984578837\n"
          ],
          "name": "stdout"
        }
      ]
    },
    {
      "cell_type": "code",
      "metadata": {
        "id": "zmi4Ylr48Sfn",
        "colab_type": "code",
        "outputId": "78592f52-81f5-4818-bc0a-445b571298c1",
        "colab": {
          "base_uri": "https://localhost:8080/",
          "height": 34
        }
      },
      "source": [
        "x_train_scaler.T.shape"
      ],
      "execution_count": 16,
      "outputs": [
        {
          "output_type": "execute_result",
          "data": {
            "text/plain": [
              "(13, 430)"
            ]
          },
          "metadata": {
            "tags": []
          },
          "execution_count": 16
        }
      ]
    },
    {
      "cell_type": "code",
      "metadata": {
        "id": "5vfhF8YMJ3Uc",
        "colab_type": "code",
        "colab": {
          "base_uri": "https://localhost:8080/",
          "height": 34
        },
        "outputId": "5c856da2-68e3-4e38-f2bf-2a776b16aeee"
      },
      "source": [
        "y_train_scaler.shape"
      ],
      "execution_count": 29,
      "outputs": [
        {
          "output_type": "execute_result",
          "data": {
            "text/plain": [
              "(430, 1)"
            ]
          },
          "metadata": {
            "tags": []
          },
          "execution_count": 29
        }
      ]
    },
    {
      "cell_type": "code",
      "metadata": {
        "id": "mWDWjZ8w4y3v",
        "colab_type": "code",
        "outputId": "ff58b761-ab84-421c-c1d6-856c2c14590b",
        "colab": {
          "base_uri": "https://localhost:8080/",
          "height": 34
        }
      },
      "source": [
        "def predict_yhat(x,weight,bias):\n",
        "  yhat = np.dot(weight,x.T) + bias\n",
        "  return yhat.T\n",
        "\n",
        "print(predict_yhat(x_train_scaler,weights,co_efficient).shape)"
      ],
      "execution_count": 30,
      "outputs": [
        {
          "output_type": "stream",
          "text": [
            "(430, 1)\n"
          ],
          "name": "stdout"
        }
      ]
    },
    {
      "cell_type": "code",
      "metadata": {
        "id": "PJWUKuZsIiSY",
        "colab_type": "code",
        "outputId": "f0626900-7121-4e8e-90f8-674741a689ce",
        "colab": {
          "base_uri": "https://localhost:8080/",
          "height": 84
        }
      },
      "source": [
        "def derivative_wrt_w(X,Y,w,b):\n",
        "  dw =np.zeros(13)\n",
        "  for i in range(X.shape[0]):\n",
        "    dw += (-2*X[i]) * (Y[i] - (np.dot(w,X[i].T) + b))\n",
        "  return dw \n",
        "\n",
        "print(derivative_wrt_w(x_train_scaler,y_train_scaler,weights,co_efficient))"
      ],
      "execution_count": 32,
      "outputs": [
        {
          "output_type": "stream",
          "text": [
            "[ 2.21380043e+26 -2.29089317e+26  3.09282028e+26  1.00874840e+25\n",
            "  3.05240705e+26 -1.65407189e+26  2.78422918e+26 -2.89847029e+26\n",
            "  2.85296607e+26  3.01372577e+26  1.83662018e+26 -1.83728289e+26\n",
            "  2.73616060e+26]\n"
          ],
          "name": "stdout"
        }
      ]
    },
    {
      "cell_type": "code",
      "metadata": {
        "id": "KFXhFdF1bQN8",
        "colab_type": "code",
        "colab": {
          "base_uri": "https://localhost:8080/",
          "height": 34
        },
        "outputId": "5a9e0b15-e00a-4260-c6cf-0d4a71de2d6a"
      },
      "source": [
        "def derivative_wrt_b(X,Y,w,b):\n",
        "  db =0\n",
        "  for i in range(X.shape[0]):\n",
        "    db += (-2* (Y[i] - (np.dot(w,X[i].T) + b)))\n",
        "  return db \n",
        "\n",
        "print(derivative_wrt_b(x_train_scaler,y_train_scaler,weights,co_efficient))"
      ],
      "execution_count": 33,
      "outputs": [
        {
          "output_type": "stream",
          "text": [
            "[7.19028696e+17]\n"
          ],
          "name": "stdout"
        }
      ]
    },
    {
      "cell_type": "code",
      "metadata": {
        "id": "x4BaBmTjbQKU",
        "colab_type": "code",
        "colab": {
          "base_uri": "https://localhost:8080/",
          "height": 185
        },
        "outputId": "c089d66f-af6d-4aa0-f545-d4e811a368a6"
      },
      "source": [
        "epochs = 10\n",
        "learning_rate = 1\n",
        "\n",
        "for epoch in range(epochs):\n",
        "  error = 0\n",
        "  #y_hat = np.zeros(13)\n",
        "  y_hat = predict_yhat(x_train_scaler,weights,co_efficient)\n",
        "  error = rmse_metric(y_train_scaler,y_hat)\n",
        "  print('>epoch=%d, lrate=%.3f, error=%.3f' % (epoch, learning_rate, error))\n",
        "\n",
        "  # Update weights and bias\n",
        "  weights = weights - learning_rate * derivative_wrt_w(x_train_scaler,y_train_scaler,weights,co_efficient)\n",
        "  co_efficient = co_efficient - learning_rate * derivative_wrt_b(x_train_scaler,y_train_scaler,weights,co_efficient)\n",
        "\n",
        "  #update learning rate\n",
        "  learning_rate = learning_rate / 2\n"
      ],
      "execution_count": 31,
      "outputs": [
        {
          "output_type": "stream",
          "text": [
            ">epoch=0, lrate=1.000, error=1.772\n",
            ">epoch=1, lrate=0.500, error=6020.151\n",
            ">epoch=2, lrate=0.250, error=15633575.321\n",
            ">epoch=3, lrate=0.125, error=20497184151.798\n",
            ">epoch=4, lrate=0.062, error=13430527636512.572\n",
            ">epoch=5, lrate=0.031, error=4393418914744441.500\n",
            ">epoch=6, lrate=0.016, error=716395157129298176.000\n",
            ">epoch=7, lrate=0.008, error=58049848295506714624.000\n",
            ">epoch=8, lrate=0.004, error=2322878808748920406016.000\n",
            ">epoch=9, lrate=0.002, error=45313841054164495368192.000\n"
          ],
          "name": "stdout"
        }
      ]
    },
    {
      "cell_type": "code",
      "metadata": {
        "id": "Im__TuhYn8C7",
        "colab_type": "code",
        "outputId": "7626ab4a-9ac6-4384-ef87-526f70becf87",
        "colab": {}
      },
      "source": [
        "#Scatter plot of actual price vs predicted price\n",
        "plt.scatter(y_test_scaler,predicted_housing)\n",
        "plt.xlabel('Actual price')\n",
        "plt.ylabel('Predictd price')\n",
        "plt.title('Actual price vs Predicted price')\n",
        "plt.show()"
      ],
      "execution_count": 0,
      "outputs": [
        {
          "output_type": "display_data",
          "data": {
            "image/png": "[encoded data removed]",
            "text/plain": [
              "<Figure size 432x288 with 1 Axes>"
            ]
          },
          "metadata": {
            "tags": [],
            "needs_background": "light"
          }
        }
      ]
    },
    {
      "cell_type": "code",
      "metadata": {
        "id": "xV7OiDxEn8C9",
        "colab_type": "code",
        "outputId": "e78b31c7-c058-4d48-9af1-1baa0db1e5d4",
        "colab": {}
      },
      "source": [
        "print(rmse_metric(y_test_scaler,predicted_housing))"
      ],
      "execution_count": 0,
      "outputs": [
        {
          "output_type": "stream",
          "text": [
            "1.649719322512088\n"
          ],
          "name": "stdout"
        }
      ]
    },
    {
      "cell_type": "code",
      "metadata": {
        "id": "fq-OKEs4n8DA",
        "colab_type": "code",
        "colab": {}
      },
      "source": [
        ""
      ],
      "execution_count": 0,
      "outputs": []
    },
    {
      "cell_type": "markdown",
      "metadata": {
        "id": "Wy-lkPUZwPW_",
        "colab_type": "text"
      },
      "source": [
        "## Using SGD classifier for Predicting Prices"
      ]
    },
    {
      "cell_type": "code",
      "metadata": {
        "id": "HvsW_cSDn8DB",
        "colab_type": "code",
        "outputId": "6f2c504a-b6d5-480a-f7ca-8be67990882a",
        "colab": {}
      },
      "source": [
        "sgd=SGDRegressor(max_iter=500)\n",
        "sgd.fit(x_train_scaler,y_train_scaler)\n",
        "y_pred_sgd=sgd.predict(x_test_scaler)\n",
        "\n",
        "#Scatter plot of actual price vs predicted price\n",
        "\n",
        "plt.scatter(y_test_scaler,y_pred_sgd)\n",
        "plt.xlabel('Actual price')\n",
        "plt.ylabel('Predictd price')\n",
        "plt.title('Actual price vs Predicted price')\n",
        "plt.show()"
      ],
      "execution_count": 0,
      "outputs": [
        {
          "output_type": "display_data",
          "data": {
            "image/png": "[encoded data removed]",
            "text/plain": [
              "<Figure size 432x288 with 1 Axes>"
            ]
          },
          "metadata": {
            "tags": [],
            "needs_background": "light"
          }
        }
      ]
    },
    {
      "cell_type": "code",
      "metadata": {
        "id": "LsX2Nnl5n8DE",
        "colab_type": "code",
        "outputId": "c07a3798-fd7d-4845-cfae-3ce02cc61cef",
        "colab": {}
      },
      "source": [
        "print(\"Coefficients of SGD : \", sgd.coef_)\n",
        "print(\"Y_intercept of SGD : \", sgd.intercept_)"
      ],
      "execution_count": 0,
      "outputs": [
        {
          "output_type": "stream",
          "text": [
            "Coefficients of SGD :  [-1.02212603e-01  6.49029815e-02 -2.08336863e-02  7.76297083e-02\n",
            " -1.91245224e-01  3.11475417e-01 -3.66511299e-04 -3.12497442e-01\n",
            "  1.69340155e-01 -8.19903946e-02 -2.15283167e-01  1.10726385e-01\n",
            " -4.13084653e-01]\n",
            "Y_intercept of SGD :  [0.00193932]\n"
          ],
          "name": "stdout"
        }
      ]
    },
    {
      "cell_type": "code",
      "metadata": {
        "id": "Qtss3szrn8DG",
        "colab_type": "code",
        "outputId": "e6ac3f9f-2416-4a62-8f14-d3aeeadcd7a2",
        "colab": {}
      },
      "source": [
        "#Scatter plot of Manual Methof Coef vs SGDRegressor Coefficients\n",
        "\n",
        "plt.scatter(sgd.coef_,coef)\n",
        "plt.xlabel('SGDRegressor Classifier')\n",
        "plt.ylabel('Manual Method SGD')\n",
        "plt.title('anual Methof Coef vs SGDRegressor Coefficients')\n",
        "plt.show()"
      ],
      "execution_count": 0,
      "outputs": [
        {
          "output_type": "display_data",
          "data": {
            "image/png": "[encoded data removed]",
            "text/plain": [
              "<Figure size 432x288 with 1 Axes>"
            ]
          },
          "metadata": {
            "tags": [],
            "needs_background": "light"
          }
        }
      ]
    },
    {
      "cell_type": "code",
      "metadata": {
        "id": "-Osfh5NLn8DI",
        "colab_type": "code",
        "outputId": "17240b3c-edce-496a-ee79-c6d80efc7238",
        "colab": {}
      },
      "source": [
        "#comparison between MSE of own implementation and SGD sklearn implementation\n",
        "print('Mean Square error by manual method :'+ str(rmse_metric(y_test_scaler,predicted_housing)))\n",
        "print('Mean Square error by SKLEARN SGDRegressor :'+ str(rmse_metric(y_test_scaler,y_pred_sgd)))"
      ],
      "execution_count": 0,
      "outputs": [
        {
          "output_type": "stream",
          "text": [
            "Mean Square error by manual method :1.649719322512088\n",
            "Mean Square error by SKLEARN SGDRegressor :0.4645387205620291\n"
          ],
          "name": "stdout"
        }
      ]
    },
    {
      "cell_type": "code",
      "metadata": {
        "id": "J5_LGYjzn8DL",
        "colab_type": "code",
        "colab": {}
      },
      "source": [
        ""
      ],
      "execution_count": 0,
      "outputs": []
    }
  ]
}