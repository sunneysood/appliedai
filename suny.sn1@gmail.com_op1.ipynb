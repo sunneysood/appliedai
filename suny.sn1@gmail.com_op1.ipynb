{
 "cells": [
  {
   "cell_type": "code",
   "execution_count": 2,
   "metadata": {},
   "outputs": [
    {
     "name": "stdout",
     "output_type": "stream",
     "text": [
      "10 * 1 = 10\n",
      "10 * 2 = 20\n",
      "10 * 3 = 30\n",
      "10 * 4 = 40\n",
      "10 * 5 = 50\n",
      "10 * 6 = 60\n",
      "10 * 7 = 70\n",
      "10 * 8 = 80\n",
      "10 * 9 = 90\n",
      "10 * 10 = 100\n"
     ]
    }
   ],
   "source": [
    "'''Write a function that inputs a number and prints the multiplication table of that number'''\n",
    "def mult_tab(num):\n",
    "    for i in range(1,11):\n",
    "        print(\"{0} * {1} = {2}\".format(num,i,num*i))\n",
    "\n",
    "mult_tab(10)"
   ]
  },
  {
   "cell_type": "code",
   "execution_count": 13,
   "metadata": {},
   "outputs": [
    {
     "name": "stdout",
     "output_type": "stream",
     "text": [
      "[3, 5, 7, 11, 13, 17, 19, 29, 31, 41, 43, 59, 61, 71, 73, 101, 103, 107, 109, 137, 139, 149, 151, 179, 181, 191, 193, 197, 199, 227, 229, 239, 241, 269, 271, 281, 283, 311, 313, 347, 349, 419, 421, 431, 433, 461, 463, 521, 523, 569, 571, 599, 601, 617, 619, 641, 643, 659, 661, 809, 811, 821, 823, 827, 829, 857, 859, 881, 883]\n"
     ]
    }
   ],
   "source": [
    "'''Write a program to print twin primes less than 1000. If two consecutive odd numbers are\n",
    "both prime then they are known as twin primes'''\n",
    "\n",
    "def twin_prime(num):\n",
    "    lst=[]\n",
    "    for i in range(2,num):\n",
    "        for j in range(2,i):\n",
    "            if i%j==0:\n",
    "                break\n",
    "        else:\n",
    "            lst.append(i)\n",
    "    \n",
    "    final=set()\n",
    "    no= len(lst)\n",
    "    for i in range(len(lst)):\n",
    "        if i<no-1:\n",
    "            if lst[i]+2==lst[i+1]:\n",
    "                final.update([lst[i],lst[i+1]])\n",
    "    return sorted(final)\n",
    "        \n",
    "    \n",
    "print(twin_prime(1000))"
   ]
  },
  {
   "cell_type": "code",
   "execution_count": 20,
   "metadata": {},
   "outputs": [
    {
     "name": "stdout",
     "output_type": "stream",
     "text": [
      "[2, 2, 2, 7]\n"
     ]
    }
   ],
   "source": [
    "'''Write a program to find out the prime factors of a number. Example: prime factors of 56 -\n",
    "2, 2, 2, 7'''\n",
    "\n",
    "def prime_factors(num):\n",
    "    lst=[]\n",
    "    input=num\n",
    "    divide=2\n",
    "    while input>1:   \n",
    "        if input%divide==0:\n",
    "            lst.append(divide)\n",
    "            input=input/divide\n",
    "            divide=2\n",
    "        elif divide*2>num:\n",
    "            break\n",
    "        else:\n",
    "            divide=divide+1        \n",
    "    return lst\n",
    "\n",
    "print(prime_factors(56))"
   ]
  },
  {
   "cell_type": "code",
   "execution_count": 32,
   "metadata": {},
   "outputs": [
    {
     "name": "stdout",
     "output_type": "stream",
     "text": [
      "12.0\n",
      "6.0\n"
     ]
    }
   ],
   "source": [
    "'''Write a program to implement these formulae of permutations and combinations.\n",
    "Number of permutations of n objects taken r at a time: p(n, r) = n! / (n-r)!. Number of\n",
    "combinations of n objects taken r at a time is: c(n, r) = n! / (r!*(n-r)!) = p(n,r) / r!'''\n",
    "\n",
    "def factorial(n):\n",
    "    if n==1:\n",
    "        return 1\n",
    "    else: \n",
    "        return n*factorial(n-1)\n",
    "\n",
    "def permutation(n,r):\n",
    "    return factorial(n)/(factorial(n-r))\n",
    "\n",
    "def combination(n,r):\n",
    "    return permutation(n,r)/factorial(r)\n",
    "\n",
    "print(permutation(4,2))\n",
    "print(combination(4,2))"
   ]
  },
  {
   "cell_type": "code",
   "execution_count": 41,
   "metadata": {},
   "outputs": [
    {
     "name": "stdout",
     "output_type": "stream",
     "text": [
      "101010\n"
     ]
    }
   ],
   "source": [
    "'''Write a function that converts a decimal number to binary number'''\n",
    "def dec_to_bin(num):\n",
    "    s=''\n",
    "    while num>1:\n",
    "        s= s + str (int(num%2))\n",
    "        #print(s)\n",
    "        num=num/2\n",
    "    return \"\".join(reversed(s))\n",
    "\n",
    "print(dec_to_bin(42))"
   ]
  },
  {
   "cell_type": "code",
   "execution_count": 56,
   "metadata": {},
   "outputs": [
    {
     "name": "stdout",
     "output_type": "stream",
     "text": [
      "143 is not an Armstrong number\n"
     ]
    }
   ],
   "source": [
    "'''Write a function cubesum() that accepts an integer and returns the sum of the cubes of\n",
    "individual digits of that number. Use this function to make functions PrintArmstrong() and\n",
    "isArmstrong() to print Armstrong numbers and to find whether is an Armstrong number.'''\n",
    "\n",
    "def cubesum(num):\n",
    "    s=0\n",
    "    while num>1:\n",
    "       s = s+  (num%10)**3 \n",
    "       num=int(num/10)\n",
    "       #print(s,num) \n",
    "    \n",
    "    return s + num\n",
    "\n",
    "#print(cubesum(153))\n",
    "\n",
    "def isArmstrong(num):\n",
    "    if num==cubesum(num):\n",
    "        return True\n",
    "    else:\n",
    "        return False\n",
    "\n",
    "\n",
    "def PrintArmstrong(num):\n",
    "    if isArmstrong(num)==True:\n",
    "        print(num,\"is an Armstrong number.\")\n",
    "    else:\n",
    "        print(num,\"is not an Armstrong number.\")\n",
    "    \n",
    "\n",
    "PrintArmstrong(143)"
   ]
  },
  {
   "cell_type": "code",
   "execution_count": 17,
   "metadata": {},
   "outputs": [
    {
     "name": "stdout",
     "output_type": "stream",
     "text": [
      "15\n"
     ]
    }
   ],
   "source": [
    "'''Write a function prodDigits() that inputs a number and returns the product of digits of that\n",
    "number.'''\n",
    "def prodDigits(num):\n",
    "    s=1\n",
    "    while num>1:\n",
    "       if num%10==0:\n",
    "            num=int(num/10)\n",
    "            #continue\n",
    "       else:\n",
    "            s = s *  (num%10) \n",
    "            #if num%10!=0:\n",
    "            num=int(num/10)\n",
    "    #print(s,num)\n",
    "    \n",
    "    if num==0:\n",
    "        return s\n",
    "    else:\n",
    "        return s * num\n",
    "\n",
    "print(prodDigits(153))"
   ]
  },
  {
   "cell_type": "code",
   "execution_count": 21,
   "metadata": {},
   "outputs": [
    {
     "name": "stdout",
     "output_type": "stream",
     "text": [
      "2\n",
      "2\n"
     ]
    }
   ],
   "source": [
    "'''If all digits of a number n are multiplied by each other repeating with the product, the one\n",
    "digit number obtained at last is called the multiplicative digital root of n. The number of\n",
    "times digits need to be multiplied to reach one digit is called the multiplicative\n",
    "persistance of n.\n",
    "Example: 86 -> 48 -> 32 -> 6 (MDR 6, MPersistence 3)\n",
    "341 -> 12->2 (MDR 2, MPersistence 2)\n",
    "Using the function prodDigits() of previous exercise write functions MDR() and\n",
    "MPersistence() that input a number and return its multiplicative digital root and\n",
    "multiplicative persistence respectively'''\n",
    "\n",
    "def MDR(num):\n",
    "    while num>10:\n",
    "        num=prodDigits(num)\n",
    "        #print(num)\n",
    "    return num\n",
    "\n",
    "print(MDR(341))\n",
    "\n",
    "def MPersistence(num):\n",
    "    count=0\n",
    "    while num>10:\n",
    "        num=prodDigits(num)\n",
    "        count+=1\n",
    "        #print(num)\n",
    "    return count\n",
    "\n",
    "print(MPersistence(341))\n",
    "    "
   ]
  },
  {
   "cell_type": "code",
   "execution_count": 29,
   "metadata": {},
   "outputs": [
    {
     "name": "stdout",
     "output_type": "stream",
     "text": [
      "55\n"
     ]
    }
   ],
   "source": [
    "'''Write a function sumPdivisors() that finds the sum of proper divisors of a number. Proper\n",
    "divisors of a number are those numbers by which the number is divisible, except the\n",
    "number itself. For example proper divisors of 36 are 1, 2, 3, 4, 6, 9, 18'''\n",
    "\n",
    "def sumPdivisors(num):\n",
    "    s=0\n",
    "    for i in range(1,num):\n",
    "        if num%i==0:\n",
    "            #print \n",
    "            s= s + i\n",
    "            #print(s,num,i)\n",
    "    return s\n",
    "\n",
    "print(sumPdivisors(36))"
   ]
  },
  {
   "cell_type": "code",
   "execution_count": 34,
   "metadata": {},
   "outputs": [
    {
     "name": "stdout",
     "output_type": "stream",
     "text": [
      "[6, 28, 496, 8128]\n"
     ]
    }
   ],
   "source": [
    "'''A number is called perfect if the sum of proper divisors of that number is equal to the\n",
    "number. For example 28 is perfect number, since 1+2+4+7+14=28. Write a program to\n",
    "print all the perfect numbers in a given range'''\n",
    "def allPerfect(num1,num2):\n",
    "    lst=[]\n",
    "    for i in range(num1,num2+1):\n",
    "        if i==sumPdivisors(i):\n",
    "            lst.append(i)\n",
    "    return lst\n",
    "\n",
    "print(allPerfect(1,12900))"
   ]
  },
  {
   "cell_type": "code",
   "execution_count": 47,
   "metadata": {},
   "outputs": [
    {
     "name": "stdout",
     "output_type": "stream",
     "text": [
      "{(246, 258), (248, 232), (286, 218), (250, 218), (272, 286), (230, 202), (220, 284), (224, 280), (208, 226), (200, 265), (222, 234), (256, 255), (268, 208), (258, 270), (290, 250), (232, 218), (266, 214)}\n"
     ]
    }
   ],
   "source": [
    "'''Two different numbers are called amicable numbers if the sum of the proper divisors of\n",
    "each is equal to the other number. For example 220 and 284 are amicable numbers.\n",
    "\n",
    "Sum of proper divisors of 220 = 1+2+4+5+10+11+20+22+44+55+110 = 284\n",
    "Sum of proper divisors of 284 = 1+2+4+71+142 = 220\n",
    "Write a function to print pairs of amicable numbers in a range'''\n",
    "def amNum(num1,num2):\n",
    "    s=set()\n",
    "    for i in range(num1,num2+1):\n",
    "        sProper=sumPdivisors(i)\n",
    "        #print(sProper)\n",
    "        if sProper <= num2 and sProper>=num1:\n",
    "            if (i,sProper) in s or (sProper,i) in s:\n",
    "                continue\n",
    "            else:\n",
    "                s.update([(i,sProper)])\n",
    "            #print(s)\n",
    "    return s\n",
    "\n",
    "print(amNum(200,290))"
   ]
  },
  {
   "cell_type": "code",
   "execution_count": 23,
   "metadata": {},
   "outputs": [
    {
     "name": "stdout",
     "output_type": "stream",
     "text": [
      "[3, 45, 7]\n"
     ]
    }
   ],
   "source": [
    "'''Write a program which can filter odd numbers in a list by using filter function'''\n",
    "\n",
    "def offnum(no):\n",
    "    if no%2==0:\n",
    "        return False\n",
    "    else:\n",
    "        return True\n",
    "\n",
    "    \n",
    "def filter_odd(list):\n",
    "    new= filter(offnum,list)\n",
    "    lst=[]\n",
    "    for s in new:\n",
    "        lst.append(s)\n",
    "    return lst\n",
    "\n",
    "print(filter_odd([2,3,45,6,7,8]))"
   ]
  },
  {
   "cell_type": "code",
   "execution_count": 27,
   "metadata": {},
   "outputs": [
    {
     "name": "stdout",
     "output_type": "stream",
     "text": [
      "[8, 39304, 125, 216]\n"
     ]
    }
   ],
   "source": [
    "'''Write a program which can map() to make a list whose elements are cube of elements in\n",
    "a given list'''\n",
    "\n",
    "def cube(lst):\n",
    "    return list(map(lambda x:x**3,lst))\n",
    "\n",
    "print(cube([2,34,5,6]))"
   ]
  },
  {
   "cell_type": "code",
   "execution_count": 29,
   "metadata": {},
   "outputs": [
    {
     "name": "stdout",
     "output_type": "stream",
     "text": [
      "[27, 125, 343, 729]\n"
     ]
    }
   ],
   "source": [
    "'''Write a program which can map() and filter() to make a list whose elements are cube of\n",
    "even number in a given list'''\n",
    "\n",
    "def cube_of_even(lst):\n",
    "    return list(map(lambda x:x**3,list(filter(lambda x: x%2!=0,lst))))\n",
    "\n",
    "print(cube_of_even([2,3,4,5,6,7,8,9]))\n"
   ]
  },
  {
   "cell_type": "code",
   "execution_count": null,
   "metadata": {},
   "outputs": [],
   "source": []
  }
 ],
 "metadata": {
  "kernelspec": {
   "display_name": "Python 3",
   "language": "python",
   "name": "python3"
  },
  "language_info": {
   "codemirror_mode": {
    "name": "ipython",
    "version": 3
   },
   "file_extension": ".py",
   "mimetype": "text/x-python",
   "name": "python",
   "nbconvert_exporter": "python",
   "pygments_lexer": "ipython3",
   "version": "3.5.6"
  }
 },
 "nbformat": 4,
 "nbformat_minor": 2
}
