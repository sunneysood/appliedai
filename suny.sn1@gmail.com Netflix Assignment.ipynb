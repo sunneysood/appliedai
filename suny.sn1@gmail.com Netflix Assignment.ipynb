{
 "cells": [
  {
   "cell_type": "code",
   "execution_count": 1,
   "metadata": {},
   "outputs": [],
   "source": [
    "# this is just to know how much time will it take to run this entire ipython notebook \n",
    "from datetime import datetime\n",
    "# globalstart = datetime.now()\n",
    "import pandas as pd\n",
    "import numpy as np\n",
    "import matplotlib\n",
    "matplotlib.use('nbagg')\n",
    "\n",
    "%matplotlib inline\n",
    "import matplotlib.pyplot as plt\n",
    "plt.rcParams.update({'figure.max_open_warning': 0})\n",
    "\n",
    "import seaborn as sns\n",
    "sns.set_style('whitegrid')\n",
    "import os\n",
    "from scipy import sparse\n",
    "from scipy.sparse import csr_matrix\n",
    "\n",
    "from sklearn.decomposition import TruncatedSVD\n",
    "from sklearn.metrics.pairwise import cosine_similarity\n",
    "import random"
   ]
  },
  {
   "cell_type": "markdown",
   "metadata": {},
   "source": [
    "<h1> 3. Exploratory Data Analysis </h1>"
   ]
  },
  {
   "cell_type": "markdown",
   "metadata": {},
   "source": [
    "<h2> 3.1 Preprocessing</h2> "
   ]
  },
  {
   "cell_type": "code",
   "execution_count": 2,
   "metadata": {},
   "outputs": [
    {
     "name": "stdout",
     "output_type": "stream",
     "text": [
      "Time taken : 0:00:00.000256\n"
     ]
    }
   ],
   "source": [
    "start = datetime.now()\n",
    "if not os.path.isfile('data.csv'):\n",
    "    # Create a file 'data.csv' before reading it\n",
    "    # Read all the files in netflix and store them in one big file('data.csv')\n",
    "    # We re reading from each of the four files and appendig each rating to a global file 'train.csv'\n",
    "    data = open('data.csv', mode='w')\n",
    "    \n",
    "    row = list()\n",
    "    files=['data_folder/combined_data_1.txt','data_folder/combined_data_2.txt', \n",
    "           'data_folder/combined_data_3.txt', 'data_folder/combined_data_4.txt']\n",
    "    for file in files:\n",
    "        print(\"Reading ratings from {}...\".format(file))\n",
    "        with open(file) as f:\n",
    "            for line in f: \n",
    "                del row[:] # you don't have to do this.\n",
    "                line = line.strip()\n",
    "                if line.endswith(':'):\n",
    "                    # All below are ratings for this movie, until another movie appears.\n",
    "                    movie_id = line.replace(':', '')\n",
    "                else:\n",
    "                    row = [x for x in line.split(',')]\n",
    "                    row.insert(0, movie_id)\n",
    "                    data.write(','.join(row))\n",
    "                    data.write('\\n')\n",
    "        print(\"Done.\\n\")\n",
    "    data.close()\n",
    "print('Time taken :', datetime.now() - start)"
   ]
  },
  {
   "cell_type": "code",
   "execution_count": 3,
   "metadata": {},
   "outputs": [
    {
     "name": "stdout",
     "output_type": "stream",
     "text": [
      "creating the dataframe from data.csv file..\n",
      "Done.\n",
      "\n",
      "Sorting the dataframe by date..\n",
      "Done..\n"
     ]
    }
   ],
   "source": [
    "print(\"creating the dataframe from data.csv file..\")\n",
    "df = pd.read_csv('data.csv', sep=',', \n",
    "                       names=['movie', 'user','rating','date'])\n",
    "df.date = pd.to_datetime(df.date)\n",
    "print('Done.\\n')\n",
    "\n",
    "# we are arranging the ratings according to time.\n",
    "print('Sorting the dataframe by date..')\n",
    "df.sort_values(by='date', inplace=True)\n",
    "print('Done..')"
   ]
  },
  {
   "cell_type": "code",
   "execution_count": 4,
   "metadata": {},
   "outputs": [
    {
     "data": {
      "text/html": [
       "<div>\n",
       "<style scoped>\n",
       "    .dataframe tbody tr th:only-of-type {\n",
       "        vertical-align: middle;\n",
       "    }\n",
       "\n",
       "    .dataframe tbody tr th {\n",
       "        vertical-align: top;\n",
       "    }\n",
       "\n",
       "    .dataframe thead th {\n",
       "        text-align: right;\n",
       "    }\n",
       "</style>\n",
       "<table border=\"1\" class=\"dataframe\">\n",
       "  <thead>\n",
       "    <tr style=\"text-align: right;\">\n",
       "      <th></th>\n",
       "      <th>movie</th>\n",
       "      <th>user</th>\n",
       "      <th>rating</th>\n",
       "      <th>date</th>\n",
       "    </tr>\n",
       "  </thead>\n",
       "  <tbody>\n",
       "    <tr>\n",
       "      <th>56431994</th>\n",
       "      <td>10341</td>\n",
       "      <td>510180</td>\n",
       "      <td>4</td>\n",
       "      <td>1999-11-11</td>\n",
       "    </tr>\n",
       "    <tr>\n",
       "      <th>9056171</th>\n",
       "      <td>1798</td>\n",
       "      <td>510180</td>\n",
       "      <td>5</td>\n",
       "      <td>1999-11-11</td>\n",
       "    </tr>\n",
       "    <tr>\n",
       "      <th>58698779</th>\n",
       "      <td>10774</td>\n",
       "      <td>510180</td>\n",
       "      <td>3</td>\n",
       "      <td>1999-11-11</td>\n",
       "    </tr>\n",
       "    <tr>\n",
       "      <th>48101611</th>\n",
       "      <td>8651</td>\n",
       "      <td>510180</td>\n",
       "      <td>2</td>\n",
       "      <td>1999-11-11</td>\n",
       "    </tr>\n",
       "    <tr>\n",
       "      <th>81893208</th>\n",
       "      <td>14660</td>\n",
       "      <td>510180</td>\n",
       "      <td>2</td>\n",
       "      <td>1999-11-11</td>\n",
       "    </tr>\n",
       "  </tbody>\n",
       "</table>\n",
       "</div>"
      ],
      "text/plain": [
       "          movie    user  rating       date\n",
       "56431994  10341  510180       4 1999-11-11\n",
       "9056171    1798  510180       5 1999-11-11\n",
       "58698779  10774  510180       3 1999-11-11\n",
       "48101611   8651  510180       2 1999-11-11\n",
       "81893208  14660  510180       2 1999-11-11"
      ]
     },
     "execution_count": 4,
     "metadata": {},
     "output_type": "execute_result"
    }
   ],
   "source": [
    "df.head()"
   ]
  },
  {
   "cell_type": "code",
   "execution_count": 5,
   "metadata": {},
   "outputs": [
    {
     "data": {
      "text/plain": [
       "count    1.004805e+08\n",
       "mean     3.604290e+00\n",
       "std      1.085219e+00\n",
       "min      1.000000e+00\n",
       "25%      3.000000e+00\n",
       "50%      4.000000e+00\n",
       "75%      4.000000e+00\n",
       "max      5.000000e+00\n",
       "Name: rating, dtype: float64"
      ]
     },
     "execution_count": 5,
     "metadata": {},
     "output_type": "execute_result"
    }
   ],
   "source": [
    "df.describe()['rating']"
   ]
  },
  {
   "cell_type": "code",
   "execution_count": 6,
   "metadata": {},
   "outputs": [
    {
     "name": "stdout",
     "output_type": "stream",
     "text": [
      "No of Nan values in our dataframe :  0\n"
     ]
    }
   ],
   "source": [
    "# just to make sure that all Nan containing rows are deleted..\n",
    "print(\"No of Nan values in our dataframe : \", sum(df.isnull().any()))"
   ]
  },
  {
   "cell_type": "code",
   "execution_count": 7,
   "metadata": {},
   "outputs": [
    {
     "name": "stdout",
     "output_type": "stream",
     "text": [
      "There are 0 duplicate rating entries in the data..\n"
     ]
    }
   ],
   "source": [
    "dup_bool = df.duplicated(['movie','user','rating'])\n",
    "dups = sum(dup_bool) # by considering all columns..( including timestamp)\n",
    "print(\"There are {} duplicate rating entries in the data..\".format(dups))"
   ]
  },
  {
   "cell_type": "code",
   "execution_count": 8,
   "metadata": {},
   "outputs": [
    {
     "name": "stdout",
     "output_type": "stream",
     "text": [
      "Total data \n",
      "--------------------------------------------------\n",
      "\n",
      "Total no of ratings : 100480507\n",
      "Total No of Users   : 480189\n",
      "Total No of movies  : 17770\n"
     ]
    }
   ],
   "source": [
    "print(\"Total data \")\n",
    "print(\"-\"*50)\n",
    "print(\"\\nTotal no of ratings :\",df.shape[0])\n",
    "print(\"Total No of Users   :\", len(np.unique(df.user)))\n",
    "print(\"Total No of movies  :\", len(np.unique(df.movie)))"
   ]
  },
  {
   "cell_type": "markdown",
   "metadata": {},
   "source": [
    "<h2>3.2 Spliting data into Train and Test(80:20) </h2>"
   ]
  },
  {
   "cell_type": "code",
   "execution_count": 9,
   "metadata": {},
   "outputs": [],
   "source": [
    "if not os.path.isfile('train.csv'):\n",
    "    # create the dataframe and store it in the disk for offline purposes..\n",
    "    df.iloc[:int(df.shape[0]*0.80)].to_csv(\"train.csv\", index=False)\n",
    "\n",
    "if not os.path.isfile('test.csv'):\n",
    "    # create the dataframe and store it in the disk for offline purposes..\n",
    "    df.iloc[int(df.shape[0]*0.80):].to_csv(\"test.csv\", index=False)\n",
    "\n",
    "train_df = pd.read_csv(\"train.csv\", parse_dates=['date'])\n",
    "test_df = pd.read_csv(\"test.csv\")"
   ]
  },
  {
   "cell_type": "code",
   "execution_count": 10,
   "metadata": {},
   "outputs": [
    {
     "name": "stdout",
     "output_type": "stream",
     "text": [
      "Training data \n",
      "--------------------------------------------------\n",
      "\n",
      "Total no of ratings : 80384405\n",
      "Total No of Users   : 405041\n",
      "Total No of movies  : 17424\n"
     ]
    }
   ],
   "source": [
    "# movies = train_df.movie.value_counts()\n",
    "# users = train_df.user.value_counts()\n",
    "print(\"Training data \")\n",
    "print(\"-\"*50)\n",
    "print(\"\\nTotal no of ratings :\",train_df.shape[0])\n",
    "print(\"Total No of Users   :\", len(np.unique(train_df.user)))\n",
    "print(\"Total No of movies  :\", len(np.unique(train_df.movie)))"
   ]
  },
  {
   "cell_type": "code",
   "execution_count": 11,
   "metadata": {},
   "outputs": [
    {
     "name": "stdout",
     "output_type": "stream",
     "text": [
      "Test data \n",
      "--------------------------------------------------\n",
      "\n",
      "Total no of ratings : 20096102\n",
      "Total No of Users   : 349312\n",
      "Total No of movies  : 17757\n"
     ]
    }
   ],
   "source": [
    "print(\"Test data \")\n",
    "print(\"-\"*50)\n",
    "print(\"\\nTotal no of ratings :\",test_df.shape[0])\n",
    "print(\"Total No of Users   :\", len(np.unique(test_df.user)))\n",
    "print(\"Total No of movies  :\", len(np.unique(test_df.movie)))"
   ]
  },
  {
   "cell_type": "markdown",
   "metadata": {},
   "source": [
    "## Creating sparse matrix from data frame "
   ]
  },
  {
   "cell_type": "code",
   "execution_count": 12,
   "metadata": {},
   "outputs": [
    {
     "name": "stdout",
     "output_type": "stream",
     "text": [
      "It is present in your pwd, getting it from disk....\n",
      "DONE..\n",
      "0:00:04.711829\n",
      "Sparsity Of Train matrix : 99.8292709259195 % \n"
     ]
    }
   ],
   "source": [
    "start = datetime.now()\n",
    "if os.path.isfile('train_sparse_matrix.npz'):\n",
    "    print(\"It is present in your pwd, getting it from disk....\")\n",
    "    # just get it from the disk instead of computing it\n",
    "    train_sparse_matrix = sparse.load_npz('train_sparse_matrix.npz')\n",
    "    print(\"DONE..\")\n",
    "else: \n",
    "    print(\"We are creating sparse_matrix from the dataframe..\")\n",
    "    # create sparse_matrix and store it for after usage.\n",
    "    # csr_matrix(data_values, (row_index, col_index), shape_of_matrix)\n",
    "    # It should be in such a way that, MATRIX[row, col] = data\n",
    "    train_sparse_matrix = sparse.csr_matrix((train_df.rating.values, (train_df.user.values,\n",
    "                                               train_df.movie.values)),)\n",
    "    \n",
    "    print('Done. It\\'s shape is : (user, movie) : ',train_sparse_matrix.shape)\n",
    "    print('Saving it into disk for furthur usage..')\n",
    "    # save it into disk\n",
    "    sparse.save_npz(\"train_sparse_matrix.npz\", train_sparse_matrix)\n",
    "    print('Done..\\n')\n",
    "\n",
    "print(datetime.now() - start)\n",
    "\n",
    "us,mv = train_sparse_matrix.shape\n",
    "elem = train_sparse_matrix.count_nonzero()\n",
    "\n",
    "print(\"Sparsity Of Train matrix : {} % \".format(  (1-(elem/(us*mv))) * 100) )"
   ]
  },
  {
   "cell_type": "code",
   "execution_count": 13,
   "metadata": {},
   "outputs": [
    {
     "name": "stdout",
     "output_type": "stream",
     "text": [
      "It is present in your pwd, getting it from disk....\n",
      "DONE..\n",
      "0:00:01.467995\n",
      "Sparsity Of Test matrix : 99.95731772988694 % \n"
     ]
    }
   ],
   "source": [
    "start = datetime.now()\n",
    "if os.path.isfile('test_sparse_matrix.npz'):\n",
    "    print(\"It is present in your pwd, getting it from disk....\")\n",
    "    # just get it from the disk instead of computing it\n",
    "    test_sparse_matrix = sparse.load_npz('test_sparse_matrix.npz')\n",
    "    print(\"DONE..\")\n",
    "else: \n",
    "    print(\"We are creating sparse_matrix from the dataframe..\")\n",
    "    # create sparse_matrix and store it for after usage.\n",
    "    # csr_matrix(data_values, (row_index, col_index), shape_of_matrix)\n",
    "    # It should be in such a way that, MATRIX[row, col] = data\n",
    "    test_sparse_matrix = sparse.csr_matrix((test_df.rating.values, (test_df.user.values,\n",
    "                                               test_df.movie.values)))\n",
    "    \n",
    "    print('Done. It\\'s shape is : (user, movie) : ',test_sparse_matrix.shape)\n",
    "    print('Saving it into disk for furthur usage..')\n",
    "    # save it into disk\n",
    "    sparse.save_npz(\"test_sparse_matrix.npz\", test_sparse_matrix)\n",
    "    print('Done..\\n')\n",
    "    \n",
    "print(datetime.now() - start)\n",
    "\n",
    "us,mv = test_sparse_matrix.shape\n",
    "elem = test_sparse_matrix.count_nonzero()\n",
    "\n",
    "print(\"Sparsity Of Test matrix : {} % \".format(  (1-(elem/(us*mv))) * 100) )"
   ]
  },
  {
   "cell_type": "markdown",
   "metadata": {},
   "source": [
    "## Finding Global average of all movie ratings, Average rating per user, and Average rating per movie"
   ]
  },
  {
   "cell_type": "code",
   "execution_count": 14,
   "metadata": {},
   "outputs": [],
   "source": [
    "# get the user averages in dictionary (key: user_id/movie_id, value: avg rating)\n",
    "\n",
    "def get_average_ratings(sparse_matrix, of_users):\n",
    "    \n",
    "    # average ratings of user/axes\n",
    "    ax = 1 if of_users else 0 # 1 - User axes,0 - Movie axes\n",
    "\n",
    "    # \".A1\" is for converting Column_Matrix to 1-D numpy array \n",
    "    sum_of_ratings = sparse_matrix.sum(axis=ax).A1\n",
    "    # Boolean matrix of ratings ( whether a user rated that movie or not)\n",
    "    is_rated = sparse_matrix!=0\n",
    "    # no of ratings that each user OR movie..\n",
    "    no_of_ratings = is_rated.sum(axis=ax).A1\n",
    "    \n",
    "    # max_user  and max_movie ids in sparse matrix \n",
    "    u,m = sparse_matrix.shape\n",
    "    # creae a dictonary of users and their average ratigns..\n",
    "    average_ratings = { i : sum_of_ratings[i]/no_of_ratings[i]\n",
    "                                 for i in range(u if of_users else m) \n",
    "                                    if no_of_ratings[i] !=0}\n",
    "\n",
    "    # return that dictionary of average ratings\n",
    "    return average_ratings"
   ]
  },
  {
   "cell_type": "code",
   "execution_count": 15,
   "metadata": {},
   "outputs": [
    {
     "data": {
      "text/plain": [
       "{'global': 3.582890686321557}"
      ]
     },
     "execution_count": 15,
     "metadata": {},
     "output_type": "execute_result"
    }
   ],
   "source": [
    "train_averages = dict()\n",
    "# get the global average of ratings in our train set.\n",
    "train_global_average = train_sparse_matrix.sum()/train_sparse_matrix.count_nonzero()\n",
    "train_averages['global'] = train_global_average\n",
    "train_averages"
   ]
  },
  {
   "cell_type": "code",
   "execution_count": 16,
   "metadata": {},
   "outputs": [
    {
     "name": "stdout",
     "output_type": "stream",
     "text": [
      "\n",
      "Average rating of user 10 : 3.3781094527363185\n"
     ]
    }
   ],
   "source": [
    "train_averages['user'] = get_average_ratings(train_sparse_matrix, of_users=True)\n",
    "print('\\nAverage rating of user 10 :',train_averages['user'][10])"
   ]
  },
  {
   "cell_type": "code",
   "execution_count": 17,
   "metadata": {},
   "outputs": [
    {
     "name": "stdout",
     "output_type": "stream",
     "text": [
      "\n",
      " AVerage rating of movie 15 : 3.3038461538461537\n"
     ]
    }
   ],
   "source": [
    "train_averages['movie'] =  get_average_ratings(train_sparse_matrix, of_users=False)\n",
    "print('\\n AVerage rating of movie 15 :',train_averages['movie'][15])"
   ]
  },
  {
   "cell_type": "markdown",
   "metadata": {},
   "source": [
    "## Computing Movie-Movie Similarity matrix "
   ]
  },
  {
   "cell_type": "code",
   "execution_count": 18,
   "metadata": {},
   "outputs": [
    {
     "name": "stdout",
     "output_type": "stream",
     "text": [
      "It is there, We will get it.\n",
      "Done ...\n",
      "It's a  (17771, 17771)  dimensional matrix\n",
      "0:00:48.809419\n",
      "(17771, 17771)\n"
     ]
    }
   ],
   "source": [
    "start = datetime.now()\n",
    "if not os.path.isfile('m_m_sim_sparse.npz'):\n",
    "    print(\"It seems you don't have that file. Computing movie_movie similarity...\")\n",
    "    start = datetime.now()\n",
    "    m_m_sim_sparse = cosine_similarity(X=train_sparse_matrix.T, dense_output=False)\n",
    "    print(\"Done..\")\n",
    "    # store this sparse matrix in disk before using it. For future purposes.\n",
    "    print(\"Saving it to disk without the need of re-computing it again.. \")\n",
    "    sparse.save_npz(\"m_m_sim_sparse.npz\", m_m_sim_sparse)\n",
    "    print(\"Done..\")\n",
    "else:\n",
    "    print(\"It is there, We will get it.\")\n",
    "    m_m_sim_sparse = sparse.load_npz(\"m_m_sim_sparse.npz\")\n",
    "    print(\"Done ...\")\n",
    "\n",
    "print(\"It's a \",m_m_sim_sparse.shape,\" dimensional matrix\")\n",
    "\n",
    "print(datetime.now() - start)\n",
    "print(m_m_sim_sparse.shape)"
   ]
  },
  {
   "cell_type": "code",
   "execution_count": 19,
   "metadata": {},
   "outputs": [
    {
     "name": "stdout",
     "output_type": "stream",
     "text": [
      "0:00:29.914661\n"
     ]
    },
    {
     "data": {
      "text/plain": [
       "array([ 8279,  8013, 16528,  5927, 13105, 12049,  4424, 10193, 17590,\n",
       "        4549,  3755,   590, 14059, 15144, 15054,  9584,  9071,  6349,\n",
       "       16402,  3973,  1720,  5370, 16309,  9376,  6116,  4706,  2818,\n",
       "         778, 15331,  1416, 12979, 17139, 17710,  5452,  2534,   164,\n",
       "       15188,  8323,  2450, 16331,  9566, 15301, 13213, 14308, 15984,\n",
       "       10597,  6426,  5500,  7068,  7328,  5720,  9802,   376, 13013,\n",
       "        8003, 10199,  3338, 15390,  9688, 16455, 11730,  4513,   598,\n",
       "       12762,  2187,   509,  5865,  9166, 17115, 16334,  1942,  7282,\n",
       "       17584,  4376,  8988,  8873,  5921,  2716, 14679, 11947, 11981,\n",
       "        4649,   565, 12954, 10788, 10220, 10963,  9427,  1690,  5107,\n",
       "        7859,  5969,  1510,  2429,   847,  7845,  6410, 13931,  9840,\n",
       "        3706])"
      ]
     },
     "execution_count": 19,
     "metadata": {},
     "output_type": "execute_result"
    }
   ],
   "source": [
    "movie_ids = np.unique(m_m_sim_sparse.nonzero()[1])\n",
    "\n",
    "start = datetime.now()\n",
    "similar_movies = dict()\n",
    "for movie in movie_ids:\n",
    "    # get the top similar movies and store them in the dictionary\n",
    "    sim_movies = m_m_sim_sparse[movie].toarray().ravel().argsort()[::-1][1:]\n",
    "    similar_movies[movie] = sim_movies[:100]\n",
    "print(datetime.now() - start)\n",
    "\n",
    "# just testing similar movies for movie_15\n",
    "similar_movies[15]"
   ]
  },
  {
   "cell_type": "markdown",
   "metadata": {},
   "source": [
    "## Finding most similar movies using similarity matrix "
   ]
  },
  {
   "cell_type": "code",
   "execution_count": 20,
   "metadata": {},
   "outputs": [
    {
     "data": {
      "text/plain": [
       "'/home/sunney_sood/netflix'"
      ]
     },
     "execution_count": 20,
     "metadata": {},
     "output_type": "execute_result"
    }
   ],
   "source": [
    "import os\n",
    "os.getcwd()\n",
    "\n",
    "#os.chdir('/home/sunney_sood/netflix/')"
   ]
  },
  {
   "cell_type": "code",
   "execution_count": 21,
   "metadata": {},
   "outputs": [
    {
     "data": {
      "text/plain": [
       "'/home/sunney_sood/netflix'"
      ]
     },
     "execution_count": 21,
     "metadata": {},
     "output_type": "execute_result"
    }
   ],
   "source": [
    "os.getcwd()"
   ]
  },
  {
   "cell_type": "code",
   "execution_count": 22,
   "metadata": {},
   "outputs": [
    {
     "name": "stdout",
     "output_type": "stream",
     "text": [
      "Tokenization took: 54.64 ms\n",
      "Type conversion took: 10.11 ms\n",
      "Parser memory cleanup took: 0.01 ms\n"
     ]
    },
    {
     "data": {
      "text/html": [
       "<div>\n",
       "<style scoped>\n",
       "    .dataframe tbody tr th:only-of-type {\n",
       "        vertical-align: middle;\n",
       "    }\n",
       "\n",
       "    .dataframe tbody tr th {\n",
       "        vertical-align: top;\n",
       "    }\n",
       "\n",
       "    .dataframe thead th {\n",
       "        text-align: right;\n",
       "    }\n",
       "</style>\n",
       "<table border=\"1\" class=\"dataframe\">\n",
       "  <thead>\n",
       "    <tr style=\"text-align: right;\">\n",
       "      <th></th>\n",
       "      <th>year_of_release</th>\n",
       "      <th>title</th>\n",
       "    </tr>\n",
       "    <tr>\n",
       "      <th>movie_id</th>\n",
       "      <th></th>\n",
       "      <th></th>\n",
       "    </tr>\n",
       "  </thead>\n",
       "  <tbody>\n",
       "    <tr>\n",
       "      <th>1</th>\n",
       "      <td>2003.0</td>\n",
       "      <td>Dinosaur Planet</td>\n",
       "    </tr>\n",
       "    <tr>\n",
       "      <th>2</th>\n",
       "      <td>2004.0</td>\n",
       "      <td>Isle of Man TT 2004 Review</td>\n",
       "    </tr>\n",
       "    <tr>\n",
       "      <th>3</th>\n",
       "      <td>1997.0</td>\n",
       "      <td>Character</td>\n",
       "    </tr>\n",
       "    <tr>\n",
       "      <th>4</th>\n",
       "      <td>1994.0</td>\n",
       "      <td>Paula Abdul's Get Up &amp; Dance</td>\n",
       "    </tr>\n",
       "    <tr>\n",
       "      <th>5</th>\n",
       "      <td>2004.0</td>\n",
       "      <td>The Rise and Fall of ECW</td>\n",
       "    </tr>\n",
       "  </tbody>\n",
       "</table>\n",
       "</div>"
      ],
      "text/plain": [
       "          year_of_release                         title\n",
       "movie_id                                               \n",
       "1                  2003.0               Dinosaur Planet\n",
       "2                  2004.0    Isle of Man TT 2004 Review\n",
       "3                  1997.0                     Character\n",
       "4                  1994.0  Paula Abdul's Get Up & Dance\n",
       "5                  2004.0      The Rise and Fall of ECW"
      ]
     },
     "execution_count": 22,
     "metadata": {},
     "output_type": "execute_result"
    }
   ],
   "source": [
    "# First Let's load the movie details into soe dataframe..\n",
    "# movie details are in 'netflix/movie_titles.csv'\n",
    "\n",
    "movie_titles = pd.read_csv(\"movie_titles.csv\", sep=',', header = None,\n",
    "                           names=['movie_id', 'year_of_release', 'title'], verbose=True,\n",
    "                      index_col = 'movie_id', encoding = \"ISO-8859-1\")\n",
    "\n",
    "movie_titles.head()"
   ]
  },
  {
   "cell_type": "markdown",
   "metadata": {},
   "source": [
    "# 4.1 Sampling Data "
   ]
  },
  {
   "cell_type": "code",
   "execution_count": 23,
   "metadata": {},
   "outputs": [],
   "source": [
    "def get_sample_sparse_matrix(sparse_matrix, no_users, no_movies, path, verbose = True):\n",
    "    \"\"\"\n",
    "        It will get it from the ''path'' if it is present  or It will create \n",
    "        and store the sampled sparse matrix in the path specified.\n",
    "    \"\"\"\n",
    "\n",
    "    # get (row, col) and (rating) tuple from sparse_matrix...\n",
    "    row_ind, col_ind, ratings = sparse.find(sparse_matrix)\n",
    "    users = np.unique(row_ind)\n",
    "    movies = np.unique(col_ind)\n",
    "\n",
    "    print(\"Original Matrix : (users, movies) -- ({} {})\".format(len(users), len(movies)))\n",
    "    print(\"Original Matrix : Ratings -- {}\\n\".format(len(ratings)))\n",
    "\n",
    "    # It just to make sure to get same sample everytime we run this program..\n",
    "    # and pick without replacement....\n",
    "    np.random.seed(15)\n",
    "    sample_users = np.random.choice(users, no_users, replace=False)\n",
    "    sample_movies = np.random.choice(movies, no_movies, replace=False)\n",
    "    # get the boolean mask or these sampled_items in originl row/col_inds..\n",
    "    mask = np.logical_and( np.isin(row_ind, sample_users),\n",
    "                      np.isin(col_ind, sample_movies) )\n",
    "    \n",
    "    sample_sparse_matrix = sparse.csr_matrix((ratings[mask], (row_ind[mask], col_ind[mask])),\n",
    "                                             shape=(max(sample_users)+1, max(sample_movies)+1))\n",
    "\n",
    "    if verbose:\n",
    "        print(\"Sampled Matrix : (users, movies) -- ({} {})\".format(len(sample_users), len(sample_movies)))\n",
    "        print(\"Sampled Matrix : Ratings --\", format(ratings[mask].shape[0]))\n",
    "\n",
    "    print('Saving it into disk for furthur usage..')\n",
    "    # save it into disk\n",
    "    sparse.save_npz(path, sample_sparse_matrix)\n",
    "    if verbose:\n",
    "            print('Done..\\n')\n",
    "    \n",
    "    return sample_sparse_matrix"
   ]
  },
  {
   "cell_type": "markdown",
   "metadata": {},
   "source": [
    "### Build sample train data from the train & test data"
   ]
  },
  {
   "cell_type": "code",
   "execution_count": 24,
   "metadata": {},
   "outputs": [
    {
     "name": "stdout",
     "output_type": "stream",
     "text": [
      "It is present in your pwd, getting it from disk....\n",
      "DONE..\n",
      "0:00:00.193343\n"
     ]
    }
   ],
   "source": [
    "start = datetime.now()\n",
    "path = \"sample_train_sparse_matrix.npz\"\n",
    "if os.path.isfile(path):\n",
    "    print(\"It is present in your pwd, getting it from disk....\")\n",
    "    # just get it from the disk instead of computing it\n",
    "    sample_train_sparse_matrix = sparse.load_npz(path)\n",
    "    print(\"DONE..\")\n",
    "else: \n",
    "    # get 10k users and 1k movies from available data \n",
    "    sample_train_sparse_matrix = get_sample_sparse_matrix(train_sparse_matrix, no_users=25000, no_movies=3000,\n",
    "                                             path = path)\n",
    "\n",
    "print(datetime.now() - start)"
   ]
  },
  {
   "cell_type": "code",
   "execution_count": 25,
   "metadata": {},
   "outputs": [
    {
     "name": "stdout",
     "output_type": "stream",
     "text": [
      "It is present in your pwd, getting it from disk....\n",
      "DONE..\n",
      "0:00:00.064426\n"
     ]
    }
   ],
   "source": [
    "start = datetime.now()\n",
    "\n",
    "path = \"sample_test_sparse_matrix.npz\"\n",
    "if os.path.isfile(path):\n",
    "    print(\"It is present in your pwd, getting it from disk....\")\n",
    "    # just get it from the disk instead of computing it\n",
    "    sample_test_sparse_matrix = sparse.load_npz(path)\n",
    "    print(\"DONE..\")\n",
    "else:\n",
    "    # get 5k users and 500 movies from available data \n",
    "    sample_test_sparse_matrix = get_sample_sparse_matrix(test_sparse_matrix, no_users=10000, no_movies=1500,\n",
    "                                                 path = path)\n",
    "print(datetime.now() - start)"
   ]
  },
  {
   "cell_type": "markdown",
   "metadata": {},
   "source": [
    "## 4.2 Finding Global Average of all movie ratings, Average rating per User, and Average rating per Movie (from sampled train)"
   ]
  },
  {
   "cell_type": "code",
   "execution_count": 26,
   "metadata": {},
   "outputs": [],
   "source": [
    "sample_train_averages = dict()\n"
   ]
  },
  {
   "cell_type": "code",
   "execution_count": 27,
   "metadata": {},
   "outputs": [
    {
     "data": {
      "text/plain": [
       "{'global': 3.5875813607223455}"
      ]
     },
     "execution_count": 27,
     "metadata": {},
     "output_type": "execute_result"
    }
   ],
   "source": [
    "# get the global average of ratings in our train set.\n",
    "global_average = sample_train_sparse_matrix.sum()/sample_train_sparse_matrix.count_nonzero()\n",
    "sample_train_averages['global'] = global_average\n",
    "sample_train_averages"
   ]
  },
  {
   "cell_type": "code",
   "execution_count": 28,
   "metadata": {},
   "outputs": [
    {
     "name": "stdout",
     "output_type": "stream",
     "text": [
      "\n",
      "Average rating of user 1515220 : 3.923076923076923\n"
     ]
    }
   ],
   "source": [
    "sample_train_averages['user'] = get_average_ratings(sample_train_sparse_matrix, of_users=True)\n",
    "print('\\nAverage rating of user 1515220 :',sample_train_averages['user'][1515220])"
   ]
  },
  {
   "cell_type": "code",
   "execution_count": 29,
   "metadata": {},
   "outputs": [
    {
     "name": "stdout",
     "output_type": "stream",
     "text": [
      "\n",
      " AVerage rating of movie 15153 : 2.752\n"
     ]
    }
   ],
   "source": [
    "sample_train_averages['movie'] =  get_average_ratings(sample_train_sparse_matrix, of_users=False)\n",
    "print('\\n AVerage rating of movie 15153 :',sample_train_averages['movie'][15153])"
   ]
  },
  {
   "cell_type": "code",
   "execution_count": 30,
   "metadata": {},
   "outputs": [
    {
     "name": "stdout",
     "output_type": "stream",
     "text": [
      "No of ratings in Our Sampled train matrix is : 856986\n",
      "No of ratings in Our Sampled test  matrix is : 55123\n"
     ]
    }
   ],
   "source": [
    "print('No of ratings in Our Sampled train matrix is : {}'.format(sample_train_sparse_matrix.count_nonzero()))\n",
    "print('No of ratings in Our Sampled test  matrix is : {}'.format(sample_test_sparse_matrix.count_nonzero()))"
   ]
  },
  {
   "cell_type": "code",
   "execution_count": 31,
   "metadata": {},
   "outputs": [
    {
     "name": "stdout",
     "output_type": "stream",
     "text": [
      "No of ratings in Our Sampled test matrix is : 55123\n",
      "No of ratings in Our Sampled test  matrix is : 55123\n"
     ]
    }
   ],
   "source": [
    "sample_test_averages = dict()\n",
    "# get the global average of ratings in our test set.\n",
    "global_average = sample_test_sparse_matrix.sum()/sample_test_sparse_matrix.count_nonzero()\n",
    "sample_test_averages['global'] = global_average\n",
    "sample_test_averages\n",
    "\n",
    "sample_test_averages['user'] = get_average_ratings(sample_test_sparse_matrix, of_users=True)\n",
    "#print('\\nAverage rating of user 1515220 :',sample_test_averages['user'][1515220])\n",
    "\n",
    "sample_test_averages['movie'] =  get_average_ratings(sample_test_sparse_matrix, of_users=False)\n",
    "#print('\\n AVerage rating of movie 15153 :',sample_test_averages['movie'][15153])\n",
    "\n",
    "print('No of ratings in Our Sampled test matrix is : {}'.format(sample_test_sparse_matrix.count_nonzero()))\n",
    "print('No of ratings in Our Sampled test  matrix is : {}'.format(sample_test_sparse_matrix.count_nonzero()))"
   ]
  },
  {
   "cell_type": "markdown",
   "metadata": {},
   "source": [
    "### Featurizing train data"
   ]
  },
  {
   "cell_type": "code",
   "execution_count": 32,
   "metadata": {},
   "outputs": [],
   "source": [
    "# get users, movies and ratings from our samples train sparse matrix\n",
    "sample_train_users, sample_train_movies, sample_train_ratings = sparse.find(sample_train_sparse_matrix)"
   ]
  },
  {
   "cell_type": "code",
   "execution_count": 33,
   "metadata": {},
   "outputs": [],
   "source": [
    "def user_movie_pair(sample_train_users,sample_train_movies,sample_train_ratings,sample_train_sparse_matrix,file_name):\n",
    "    print('preparing {} tuples for the dataset..\\n'.format(len(sample_train_ratings)))\n",
    "    with open(file_name, mode='w') as reg_data_file:\n",
    "        count = 0\n",
    "        for (user, movie, rating)  in zip(sample_train_users, sample_train_movies, sample_train_ratings):\n",
    "                #st = datetime.now()\n",
    "            #     print(user, movie)    \n",
    "                #--------------------- Ratings of \"movie\" by similar users of \"user\" ---------------------\n",
    "                # compute the similar Users of the \"user\"        \n",
    "                user_sim = cosine_similarity(sample_train_sparse_matrix[user], sample_train_sparse_matrix).ravel()\n",
    "                top_sim_users = user_sim.argsort()[::-1][1:] # we are ignoring 'The User' from its similar users.\n",
    "                # get the ratings of most similar users for this movie\n",
    "                top_ratings = sample_train_sparse_matrix[top_sim_users, movie].toarray().ravel()\n",
    "                # we will make it's length \"5\" by adding movie averages to .\n",
    "                top_sim_users_ratings = list(top_ratings[top_ratings != 0][:5])\n",
    "                top_sim_users_ratings.extend([sample_train_averages['movie'][movie]]*(5 - len(top_sim_users_ratings)))\n",
    "            #     print(top_sim_users_ratings, end=\" \") \n",
    "                        #--------------------- Ratings by \"user\"  to similar movies of \"movie\" ---------------------\n",
    "                # compute the similar movies of the \"movie\"        \n",
    "                movie_sim = cosine_similarity(sample_train_sparse_matrix[:,movie].T, sample_train_sparse_matrix.T).ravel()\n",
    "                top_sim_movies = movie_sim.argsort()[::-1][1:] # we are ignoring 'The User' from its similar users.\n",
    "                # get the ratings of most similar movie rated by this user..\n",
    "                top_ratings = sample_train_sparse_matrix[user, top_sim_movies].toarray().ravel()\n",
    "                # we will make it's length \"5\" by adding user averages to.\n",
    "                top_sim_movies_ratings = list(top_ratings[top_ratings != 0][:5])\n",
    "                top_sim_movies_ratings.extend([sample_train_averages['user'][user]]*(5-len(top_sim_movies_ratings))) \n",
    "            #     print(top_sim_movies_ratings, end=\" : -- \")\n",
    "\n",
    "                #-----------------prepare the row to be stores in a file-----------------#\n",
    "                row = list()\n",
    "                row.append(user)\n",
    "                row.append(movie)\n",
    "                # Now add the other features to this data...\n",
    "                row.append(sample_train_averages['global']) # first feature\n",
    "                # next 5 features are similar_users \"movie\" ratings\n",
    "                row.extend(top_sim_users_ratings)\n",
    "                # next 5 features are \"user\" ratings for similar_movies\n",
    "                row.extend(top_sim_movies_ratings)\n",
    "                # Avg_user rating\n",
    "                row.append(sample_train_averages['user'][user])\n",
    "                # Avg_movie rating\n",
    "                row.append(sample_train_averages['movie'][movie])\n",
    "\n",
    "                # finalley, The actual Rating of this user-movie pair...\n",
    "                row.append(rating)\n",
    "                count = count + 1\n",
    "\n",
    "                #return row\n",
    "                # add rows to the file opened..\n",
    "                reg_data_file.write(','.join(map(str, row)))\n",
    "                reg_data_file.write('\\n')        \n",
    "                if (count)%10000 == 0:\n",
    "                    # print(','.join(map(str, row)))\n",
    "                    print(\"Done for {} rows----- {}\".format(count, datetime.now() - start))\n",
    "    "
   ]
  },
  {
   "cell_type": "code",
   "execution_count": 34,
   "metadata": {},
   "outputs": [
    {
     "name": "stdout",
     "output_type": "stream",
     "text": [
      "856986\n"
     ]
    }
   ],
   "source": [
    "#print(type(sample_train_users))\n",
    "#print(len(sample_train_movies))\n",
    "print(len(sample_train_ratings))\n",
    "\n",
    "sample_train_ratings[:107123]\n",
    "\n",
    "process_step = np.arange(len(sample_train_ratings)//8,len(sample_train_ratings),len(sample_train_ratings)//8)\n",
    "process_step\n",
    "\n",
    "#file_name = []\n",
    "initial = \"sample\\reg_train\""
   ]
  },
  {
   "cell_type": "code",
   "execution_count": 35,
   "metadata": {},
   "outputs": [
    {
     "name": "stdout",
     "output_type": "stream",
     "text": [
      "File already exists you don't have to prepare again...\n"
     ]
    }
   ],
   "source": [
    "############################################################\n",
    "# It took me almost 10 hours to prepare this train dataset.#\n",
    "############################################################\n",
    "import os\n",
    "from multiprocessing import Process, current_process\n",
    "\n",
    "processes = []\n",
    "\n",
    "start = datetime.now()\n",
    "if os.path.isfile('reg_train.csv'):\n",
    "    print(\"File already exists you don't have to prepare again...\" )\n",
    "else:\n",
    "    st = datetime.now()\n",
    "    process = Process(target = user_movie_pair, \n",
    "                      args = (sample_train_users[:107123],sample_train_movies[:107123],\n",
    "                              sample_train_ratings[:107123],sample_train_sparse_matrix,initial + \"_1\"))\n",
    "    processes.append(process)\n",
    "    process.start()\n",
    "    process = Process(target = user_movie_pair, \n",
    "                      args = (sample_train_users[107123:214246],sample_train_movies[107123:214246],\n",
    "                              sample_train_ratings[107123:214246],sample_train_sparse_matrix,initial + \"_2\") )\n",
    "    processes.append(process)\n",
    "    process.start()\n",
    "    process = Process(target = user_movie_pair, \n",
    "                      args = (sample_train_users[214246:321369],sample_train_movies[214246:321369],\n",
    "                              sample_train_ratings[214246:321369],sample_train_sparse_matrix,initial + \"_3\") )\n",
    "    processes.append(process)\n",
    "    process.start()\n",
    "    \n",
    "    process = Process(target = user_movie_pair, \n",
    "                      args = (sample_train_users[321369:428492],sample_train_movies[321369:428492],\n",
    "                              sample_train_ratings[321369:428492],sample_train_sparse_matrix,initial + \"_4\") )\n",
    "    processes.append(process)\n",
    "    process.start()\n",
    "    \n",
    "    process = Process(target = user_movie_pair, \n",
    "                      args = (sample_train_users[428492:535615],sample_train_movies[428492:535615],\n",
    "                              sample_train_ratings[428492:535615],sample_train_sparse_matrix,initial + \"_5\") )\n",
    "    processes.append(process)\n",
    "    process.start()\n",
    "    \n",
    "    process = Process(target = user_movie_pair, \n",
    "                      args = (sample_train_users[535615:642738],sample_train_movies[535615:642738],\n",
    "                              sample_train_ratings[535615:642738],sample_train_sparse_matrix,initial + \"_6\") )\n",
    "    processes.append(process)\n",
    "    process.start()\n",
    "    \n",
    "    process = Process(target = user_movie_pair, \n",
    "                      args = (sample_train_users[642738:749861],sample_train_movies[642738:749861],\n",
    "                              sample_train_ratings[642738:749861],sample_train_sparse_matrix,initial + \"_7\") )\n",
    "    processes.append(process)\n",
    "    process.start()\n",
    "    \n",
    "    process = Process(target = user_movie_pair, \n",
    "                      args = (sample_train_users[749861:],sample_train_movies[749861:],\n",
    "                              sample_train_ratings[749861:],sample_train_sparse_matrix,initial + \"_8\") )\n",
    "    processes.append(process)\n",
    "    process.start()\n",
    "    \n",
    "    #user_movie_pair(sample_train_users,sample_train_movies,sample_train_ratings,sample_train_sparse_matrix)\n",
    "    print(datetime.now() - start)"
   ]
  },
  {
   "cell_type": "code",
   "execution_count": 36,
   "metadata": {},
   "outputs": [
    {
     "data": {
      "text/html": [
       "<div>\n",
       "<style scoped>\n",
       "    .dataframe tbody tr th:only-of-type {\n",
       "        vertical-align: middle;\n",
       "    }\n",
       "\n",
       "    .dataframe tbody tr th {\n",
       "        vertical-align: top;\n",
       "    }\n",
       "\n",
       "    .dataframe thead th {\n",
       "        text-align: right;\n",
       "    }\n",
       "</style>\n",
       "<table border=\"1\" class=\"dataframe\">\n",
       "  <thead>\n",
       "    <tr style=\"text-align: right;\">\n",
       "      <th></th>\n",
       "      <th>user</th>\n",
       "      <th>movie</th>\n",
       "      <th>GAvg</th>\n",
       "      <th>sur1</th>\n",
       "      <th>sur2</th>\n",
       "      <th>sur3</th>\n",
       "      <th>sur4</th>\n",
       "      <th>sur5</th>\n",
       "      <th>smr1</th>\n",
       "      <th>smr2</th>\n",
       "      <th>smr3</th>\n",
       "      <th>smr4</th>\n",
       "      <th>smr5</th>\n",
       "      <th>UAvg</th>\n",
       "      <th>MAvg</th>\n",
       "      <th>rating</th>\n",
       "    </tr>\n",
       "  </thead>\n",
       "  <tbody>\n",
       "    <tr>\n",
       "      <th>0</th>\n",
       "      <td>174683</td>\n",
       "      <td>10</td>\n",
       "      <td>3.587581</td>\n",
       "      <td>5</td>\n",
       "      <td>5</td>\n",
       "      <td>3</td>\n",
       "      <td>4</td>\n",
       "      <td>4.0</td>\n",
       "      <td>3</td>\n",
       "      <td>5.0</td>\n",
       "      <td>4.0</td>\n",
       "      <td>3.0</td>\n",
       "      <td>2.0</td>\n",
       "      <td>3.882353</td>\n",
       "      <td>3.611111</td>\n",
       "      <td>5</td>\n",
       "    </tr>\n",
       "    <tr>\n",
       "      <th>1</th>\n",
       "      <td>233949</td>\n",
       "      <td>10</td>\n",
       "      <td>3.587581</td>\n",
       "      <td>4</td>\n",
       "      <td>4</td>\n",
       "      <td>5</td>\n",
       "      <td>1</td>\n",
       "      <td>3.0</td>\n",
       "      <td>2</td>\n",
       "      <td>3.0</td>\n",
       "      <td>2.0</td>\n",
       "      <td>3.0</td>\n",
       "      <td>3.0</td>\n",
       "      <td>2.692308</td>\n",
       "      <td>3.611111</td>\n",
       "      <td>3</td>\n",
       "    </tr>\n",
       "    <tr>\n",
       "      <th>2</th>\n",
       "      <td>555770</td>\n",
       "      <td>10</td>\n",
       "      <td>3.587581</td>\n",
       "      <td>4</td>\n",
       "      <td>5</td>\n",
       "      <td>4</td>\n",
       "      <td>4</td>\n",
       "      <td>5.0</td>\n",
       "      <td>4</td>\n",
       "      <td>2.0</td>\n",
       "      <td>5.0</td>\n",
       "      <td>4.0</td>\n",
       "      <td>4.0</td>\n",
       "      <td>3.795455</td>\n",
       "      <td>3.611111</td>\n",
       "      <td>4</td>\n",
       "    </tr>\n",
       "    <tr>\n",
       "      <th>3</th>\n",
       "      <td>767518</td>\n",
       "      <td>10</td>\n",
       "      <td>3.587581</td>\n",
       "      <td>2</td>\n",
       "      <td>5</td>\n",
       "      <td>4</td>\n",
       "      <td>4</td>\n",
       "      <td>3.0</td>\n",
       "      <td>5</td>\n",
       "      <td>5.0</td>\n",
       "      <td>4.0</td>\n",
       "      <td>4.0</td>\n",
       "      <td>3.0</td>\n",
       "      <td>3.884615</td>\n",
       "      <td>3.611111</td>\n",
       "      <td>5</td>\n",
       "    </tr>\n",
       "    <tr>\n",
       "      <th>4</th>\n",
       "      <td>894393</td>\n",
       "      <td>10</td>\n",
       "      <td>3.587581</td>\n",
       "      <td>3</td>\n",
       "      <td>5</td>\n",
       "      <td>4</td>\n",
       "      <td>4</td>\n",
       "      <td>3.0</td>\n",
       "      <td>4</td>\n",
       "      <td>4.0</td>\n",
       "      <td>4.0</td>\n",
       "      <td>4.0</td>\n",
       "      <td>4.0</td>\n",
       "      <td>4.000000</td>\n",
       "      <td>3.611111</td>\n",
       "      <td>4</td>\n",
       "    </tr>\n",
       "  </tbody>\n",
       "</table>\n",
       "</div>"
      ],
      "text/plain": [
       "     user  movie      GAvg  sur1  sur2  sur3  sur4  sur5  smr1  smr2  smr3  \\\n",
       "0  174683     10  3.587581     5     5     3     4   4.0     3   5.0   4.0   \n",
       "1  233949     10  3.587581     4     4     5     1   3.0     2   3.0   2.0   \n",
       "2  555770     10  3.587581     4     5     4     4   5.0     4   2.0   5.0   \n",
       "3  767518     10  3.587581     2     5     4     4   3.0     5   5.0   4.0   \n",
       "4  894393     10  3.587581     3     5     4     4   3.0     4   4.0   4.0   \n",
       "\n",
       "   smr4  smr5      UAvg      MAvg  rating  \n",
       "0   3.0   2.0  3.882353  3.611111       5  \n",
       "1   3.0   3.0  2.692308  3.611111       3  \n",
       "2   4.0   4.0  3.795455  3.611111       4  \n",
       "3   4.0   3.0  3.884615  3.611111       5  \n",
       "4   4.0   4.0  4.000000  3.611111       4  "
      ]
     },
     "execution_count": 36,
     "metadata": {},
     "output_type": "execute_result"
    }
   ],
   "source": [
    "reg_train = pd.read_csv('reg_train.csv', names = ['user', 'movie', 'GAvg', 'sur1', 'sur2', 'sur3', 'sur4', 'sur5','smr1', 'smr2', 'smr3', 'smr4', 'smr5', 'UAvg', 'MAvg', 'rating'], header=None)\n",
    "#reg_train.columns = ['user', 'movie', 'GAvg', 'sur1', 'sur2', 'sur3', 'sur4', 'sur5','smr1', 'smr2', 'smr3', 'smr4', 'smr5', 'UAvg', 'MAvg', 'rating']\n",
    "reg_train.head()"
   ]
  },
  {
   "cell_type": "markdown",
   "metadata": {},
   "source": [
    "### Featurizing test data "
   ]
  },
  {
   "cell_type": "code",
   "execution_count": 37,
   "metadata": {},
   "outputs": [
    {
     "data": {
      "text/plain": [
       "3.630861890680841"
      ]
     },
     "execution_count": 37,
     "metadata": {},
     "output_type": "execute_result"
    }
   ],
   "source": [
    "# get users, movies and ratings from the Sampled Test \n",
    "sample_test_users, sample_test_movies, sample_test_ratings = sparse.find(sample_test_sparse_matrix)\n",
    "sample_test_averages['global']"
   ]
  },
  {
   "cell_type": "code",
   "execution_count": 38,
   "metadata": {},
   "outputs": [
    {
     "name": "stdout",
     "output_type": "stream",
     "text": [
      "It is already created...\n"
     ]
    }
   ],
   "source": [
    "start = datetime.now()\n",
    "\n",
    "if os.path.isfile('reg_test.csv'):\n",
    "    print(\"It is already created...\")\n",
    "else:\n",
    "\n",
    "    print('preparing {} tuples for the dataset..\\n'.format(len(sample_test_ratings)))\n",
    "    with open('reg_test.csv', mode='w') as reg_data_file:\n",
    "        count = 0 \n",
    "        for (user, movie, rating)  in zip(sample_test_users, sample_test_movies, sample_test_ratings):\n",
    "            st = datetime.now()\n",
    "\n",
    "        #--------------------- Ratings of \"movie\" by similar users of \"user\" ---------------------\n",
    "            #print(user, movie)\n",
    "            try:\n",
    "                # compute the similar Users of the \"user\"        \n",
    "                user_sim = cosine_similarity(sample_train_sparse_matrix[user], sample_train_sparse_matrix).ravel()\n",
    "                top_sim_users = user_sim.argsort()[::-1][1:] # we are ignoring 'The User' from its similar users.\n",
    "                # get the ratings of most similar users for this movie\n",
    "                top_ratings = sample_train_sparse_matrix[top_sim_users, movie].toarray().ravel()\n",
    "                # we will make it's length \"5\" by adding movie averages to .\n",
    "                top_sim_users_ratings = list(top_ratings[top_ratings != 0][:5])\n",
    "                top_sim_users_ratings.extend([sample_train_averages['movie'][movie]]*(5 - len(top_sim_users_ratings)))\n",
    "                # print(top_sim_users_ratings, end=\"--\")\n",
    "\n",
    "            except (IndexError, KeyError):\n",
    "                # It is a new User or new Movie or there are no ratings for given user for top similar movies...\n",
    "                ########## Cold STart Problem ##########\n",
    "                top_sim_users_ratings.extend([sample_train_averages['global']]*(5 - len(top_sim_users_ratings)))\n",
    "                #print(top_sim_users_ratings)\n",
    "            except:\n",
    "                print(user, movie)\n",
    "                # we just want KeyErrors to be resolved. Not every Exception...\n",
    "                raise\n",
    "\n",
    "\n",
    "\n",
    "            #--------------------- Ratings by \"user\"  to similar movies of \"movie\" ---------------------\n",
    "            try:\n",
    "                # compute the similar movies of the \"movie\"        \n",
    "                movie_sim = cosine_similarity(sample_train_sparse_matrix[:,movie].T, sample_train_sparse_matrix.T).ravel()\n",
    "                top_sim_movies = movie_sim.argsort()[::-1][1:] # we are ignoring 'The User' from its similar users.\n",
    "                # get the ratings of most similar movie rated by this user..\n",
    "                top_ratings = sample_train_sparse_matrix[user, top_sim_movies].toarray().ravel()\n",
    "                # we will make it's length \"5\" by adding user averages to.\n",
    "                top_sim_movies_ratings = list(top_ratings[top_ratings != 0][:5])\n",
    "                top_sim_movies_ratings.extend([sample_train_averages['user'][user]]*(5-len(top_sim_movies_ratings))) \n",
    "                #print(top_sim_movies_ratings)\n",
    "            except (IndexError, KeyError):\n",
    "                #print(top_sim_movies_ratings, end=\" : -- \")\n",
    "                top_sim_movies_ratings.extend([sample_train_averages['global']]*(5-len(top_sim_movies_ratings)))\n",
    "                #print(top_sim_movies_ratings)\n",
    "            except :\n",
    "                raise\n",
    "\n",
    "            #-----------------prepare the row to be stores in a file-----------------#\n",
    "            row = list()\n",
    "            # add usser and movie name first\n",
    "            row.append(user)\n",
    "            row.append(movie)\n",
    "            row.append(sample_train_averages['global']) # first feature\n",
    "            #print(row)\n",
    "            # next 5 features are similar_users \"movie\" ratings\n",
    "            row.extend(top_sim_users_ratings)\n",
    "            #print(row)\n",
    "            # next 5 features are \"user\" ratings for similar_movies\n",
    "            row.extend(top_sim_movies_ratings)\n",
    "            #print(row)\n",
    "            # Avg_user rating\n",
    "            try:\n",
    "                row.append(sample_train_averages['user'][user])\n",
    "            except KeyError:\n",
    "                row.append(sample_train_averages['global'])\n",
    "            except:\n",
    "                raise\n",
    "            #print(row)\n",
    "            # Avg_movie rating\n",
    "            try:\n",
    "                row.append(sample_train_averages['movie'][movie])\n",
    "            except KeyError:\n",
    "                row.append(sample_train_averages['global'])\n",
    "            except:\n",
    "                raise\n",
    "            #print(row)\n",
    "            # finalley, The actual Rating of this user-movie pair...\n",
    "            row.append(rating)\n",
    "            #print(row)\n",
    "            count = count + 1\n",
    "\n",
    "            # add rows to the file opened..\n",
    "            reg_data_file.write(','.join(map(str, row)))\n",
    "            #print(','.join(map(str, row)))\n",
    "            reg_data_file.write('\\n')        \n",
    "            if (count)%1000 == 0:\n",
    "                #print(','.join(map(str, row)))\n",
    "                print(\"Done for {} rows----- {}\".format(count, datetime.now() - start))\n",
    "    print(\"\",datetime.now() - start)"
   ]
  },
  {
   "cell_type": "code",
   "execution_count": 39,
   "metadata": {},
   "outputs": [
    {
     "data": {
      "text/html": [
       "<div>\n",
       "<style scoped>\n",
       "    .dataframe tbody tr th:only-of-type {\n",
       "        vertical-align: middle;\n",
       "    }\n",
       "\n",
       "    .dataframe tbody tr th {\n",
       "        vertical-align: top;\n",
       "    }\n",
       "\n",
       "    .dataframe thead th {\n",
       "        text-align: right;\n",
       "    }\n",
       "</style>\n",
       "<table border=\"1\" class=\"dataframe\">\n",
       "  <thead>\n",
       "    <tr style=\"text-align: right;\">\n",
       "      <th></th>\n",
       "      <th>user</th>\n",
       "      <th>movie</th>\n",
       "      <th>GAvg</th>\n",
       "      <th>sur1</th>\n",
       "      <th>sur2</th>\n",
       "      <th>sur3</th>\n",
       "      <th>sur4</th>\n",
       "      <th>sur5</th>\n",
       "      <th>smr1</th>\n",
       "      <th>smr2</th>\n",
       "      <th>smr3</th>\n",
       "      <th>smr4</th>\n",
       "      <th>smr5</th>\n",
       "      <th>UAvg</th>\n",
       "      <th>MAvg</th>\n",
       "      <th>rating</th>\n",
       "    </tr>\n",
       "  </thead>\n",
       "  <tbody>\n",
       "    <tr>\n",
       "      <th>0</th>\n",
       "      <td>808635</td>\n",
       "      <td>71</td>\n",
       "      <td>3.587581</td>\n",
       "      <td>3.587581</td>\n",
       "      <td>3.587581</td>\n",
       "      <td>3.587581</td>\n",
       "      <td>3.587581</td>\n",
       "      <td>3.587581</td>\n",
       "      <td>3.587581</td>\n",
       "      <td>3.587581</td>\n",
       "      <td>3.587581</td>\n",
       "      <td>3.587581</td>\n",
       "      <td>3.587581</td>\n",
       "      <td>3.587581</td>\n",
       "      <td>3.587581</td>\n",
       "      <td>5</td>\n",
       "    </tr>\n",
       "    <tr>\n",
       "      <th>1</th>\n",
       "      <td>898730</td>\n",
       "      <td>71</td>\n",
       "      <td>3.587581</td>\n",
       "      <td>3.587581</td>\n",
       "      <td>3.587581</td>\n",
       "      <td>3.587581</td>\n",
       "      <td>3.587581</td>\n",
       "      <td>3.587581</td>\n",
       "      <td>3.587581</td>\n",
       "      <td>3.587581</td>\n",
       "      <td>3.587581</td>\n",
       "      <td>3.587581</td>\n",
       "      <td>3.587581</td>\n",
       "      <td>3.587581</td>\n",
       "      <td>3.587581</td>\n",
       "      <td>3</td>\n",
       "    </tr>\n",
       "    <tr>\n",
       "      <th>2</th>\n",
       "      <td>941866</td>\n",
       "      <td>71</td>\n",
       "      <td>3.587581</td>\n",
       "      <td>3.587581</td>\n",
       "      <td>3.587581</td>\n",
       "      <td>3.587581</td>\n",
       "      <td>3.587581</td>\n",
       "      <td>3.587581</td>\n",
       "      <td>3.587581</td>\n",
       "      <td>3.587581</td>\n",
       "      <td>3.587581</td>\n",
       "      <td>3.587581</td>\n",
       "      <td>3.587581</td>\n",
       "      <td>3.587581</td>\n",
       "      <td>3.587581</td>\n",
       "      <td>4</td>\n",
       "    </tr>\n",
       "    <tr>\n",
       "      <th>3</th>\n",
       "      <td>1280761</td>\n",
       "      <td>71</td>\n",
       "      <td>3.587581</td>\n",
       "      <td>3.587581</td>\n",
       "      <td>3.587581</td>\n",
       "      <td>3.587581</td>\n",
       "      <td>3.587581</td>\n",
       "      <td>3.587581</td>\n",
       "      <td>3.587581</td>\n",
       "      <td>3.587581</td>\n",
       "      <td>3.587581</td>\n",
       "      <td>3.587581</td>\n",
       "      <td>3.587581</td>\n",
       "      <td>3.587581</td>\n",
       "      <td>3.587581</td>\n",
       "      <td>1</td>\n",
       "    </tr>\n",
       "  </tbody>\n",
       "</table>\n",
       "</div>"
      ],
      "text/plain": [
       "      user  movie      GAvg      sur1      sur2      sur3      sur4      sur5  \\\n",
       "0   808635     71  3.587581  3.587581  3.587581  3.587581  3.587581  3.587581   \n",
       "1   898730     71  3.587581  3.587581  3.587581  3.587581  3.587581  3.587581   \n",
       "2   941866     71  3.587581  3.587581  3.587581  3.587581  3.587581  3.587581   \n",
       "3  1280761     71  3.587581  3.587581  3.587581  3.587581  3.587581  3.587581   \n",
       "\n",
       "       smr1      smr2      smr3      smr4      smr5      UAvg      MAvg  \\\n",
       "0  3.587581  3.587581  3.587581  3.587581  3.587581  3.587581  3.587581   \n",
       "1  3.587581  3.587581  3.587581  3.587581  3.587581  3.587581  3.587581   \n",
       "2  3.587581  3.587581  3.587581  3.587581  3.587581  3.587581  3.587581   \n",
       "3  3.587581  3.587581  3.587581  3.587581  3.587581  3.587581  3.587581   \n",
       "\n",
       "   rating  \n",
       "0       5  \n",
       "1       3  \n",
       "2       4  \n",
       "3       1  "
      ]
     },
     "execution_count": 39,
     "metadata": {},
     "output_type": "execute_result"
    }
   ],
   "source": [
    "reg_test_df = pd.read_csv('reg_test.csv', names = ['user', 'movie', 'GAvg', 'sur1', 'sur2', 'sur3', 'sur4', 'sur5',\n",
    "                                                          'smr1', 'smr2', 'smr3', 'smr4', 'smr5',\n",
    "                                                          'UAvg', 'MAvg', 'rating'], header=None)\n",
    "reg_test_df.head(4)"
   ]
  },
  {
   "cell_type": "markdown",
   "metadata": {},
   "source": [
    "### Transforming data for Surprise models"
   ]
  },
  {
   "cell_type": "code",
   "execution_count": 40,
   "metadata": {},
   "outputs": [],
   "source": [
    "from surprise import Reader, Dataset"
   ]
  },
  {
   "cell_type": "code",
   "execution_count": 41,
   "metadata": {},
   "outputs": [],
   "source": [
    "# It is to specify how to read the dataframe.\n",
    "# for our dataframe, we don't have to specify anything extra..\n",
    "reader = Reader(rating_scale=(1,5))\n",
    "\n",
    "# create the traindata from the dataframe...\n",
    "train_data = Dataset.load_from_df(reg_train[['user', 'movie', 'rating']], reader)\n",
    "\n",
    "# build the trainset from traindata.., It is of dataset format from surprise library..\n",
    "trainset = train_data.build_full_trainset() "
   ]
  },
  {
   "cell_type": "code",
   "execution_count": 42,
   "metadata": {},
   "outputs": [
    {
     "data": {
      "text/plain": [
       "[(808635, 71, 5), (898730, 71, 3), (941866, 71, 4)]"
      ]
     },
     "execution_count": 42,
     "metadata": {},
     "output_type": "execute_result"
    }
   ],
   "source": [
    "testset = list(zip(reg_test_df.user.values, reg_test_df.movie.values, reg_test_df.rating.values))\n",
    "testset[:3]"
   ]
  },
  {
   "cell_type": "markdown",
   "metadata": {},
   "source": [
    "<h2> 4.4 Applying Machine Learning models </h2>"
   ]
  },
  {
   "cell_type": "code",
   "execution_count": 43,
   "metadata": {},
   "outputs": [
    {
     "data": {
      "text/plain": [
       "({}, {})"
      ]
     },
     "execution_count": 43,
     "metadata": {},
     "output_type": "execute_result"
    }
   ],
   "source": [
    "models_evaluation_train = dict()\n",
    "models_evaluation_test = dict()\n",
    "\n",
    "models_evaluation_train, models_evaluation_test"
   ]
  },
  {
   "cell_type": "code",
   "execution_count": 44,
   "metadata": {},
   "outputs": [],
   "source": [
    "# to get rmse and mape given actual and predicted ratings..\n",
    "def get_error_metrics(y_true, y_pred):\n",
    "    rmse = np.sqrt(np.mean([ (y_true[i] - y_pred[i])**2 for i in range(len(y_pred)) ]))\n",
    "    mape = np.mean(np.abs( (y_true - y_pred)/y_true )) * 100\n",
    "    return rmse, mape\n",
    "\n",
    "###################################################################\n",
    "###################################################################\n",
    "def run_xgboost(algo,  x_train, y_train, x_test, y_test, verbose=True):\n",
    "    \"\"\"\n",
    "    It will return train_results and test_results\n",
    "    \"\"\"\n",
    "    \n",
    "    # dictionaries for storing train and test results\n",
    "    train_results = dict()\n",
    "    test_results = dict()\n",
    "    \n",
    "    \n",
    "    # fit the model\n",
    "    print('Training the model..')\n",
    "    start =datetime.now()\n",
    "    algo.fit(x_train, y_train, eval_metric = 'rmse')\n",
    "    print('Done. Time taken : {}\\n'.format(datetime.now()-start))\n",
    "    print('Done \\n')\n",
    "\n",
    "    # from the trained model, get the predictions....\n",
    "    print('Evaluating the model with TRAIN data...')\n",
    "    start =datetime.now()\n",
    "    y_train_pred = algo.predict(x_train)\n",
    "    # get the rmse and mape of train data...\n",
    "    rmse_train, mape_train = get_error_metrics(y_train.values, y_train_pred)\n",
    "    \n",
    "    # store the results in train_results dictionary..\n",
    "    train_results = {'rmse': rmse_train,\n",
    "                    'mape' : mape_train,\n",
    "                    'predictions' : y_train_pred}\n",
    "    \n",
    "    #######################################\n",
    "    # get the test data predictions and compute rmse and mape\n",
    "    print('Evaluating Test data')\n",
    "    y_test_pred = algo.predict(x_test) \n",
    "    rmse_test, mape_test = get_error_metrics(y_true=y_test.values, y_pred=y_test_pred)\n",
    "    # store them in our test results dictionary.\n",
    "    test_results = {'rmse': rmse_test,\n",
    "                    'mape' : mape_test,\n",
    "                    'predictions':y_test_pred}\n",
    "    if verbose:\n",
    "        print('\\nTEST DATA')\n",
    "        print('-'*30)\n",
    "        print('RMSE : ', rmse_test)\n",
    "        print('MAPE : ', mape_test)\n",
    "        \n",
    "    # return these train and test results...\n",
    "    return train_results, test_results\n",
    "    "
   ]
  },
  {
   "cell_type": "code",
   "execution_count": 45,
   "metadata": {},
   "outputs": [],
   "source": [
    "# it is just to makesure that all of our algorithms should produce same results\n",
    "# everytime they run...\n",
    "\n",
    "my_seed = 15\n",
    "random.seed(my_seed)\n",
    "np.random.seed(my_seed)\n",
    "\n",
    "##########################################################\n",
    "# get  (actual_list , predicted_list) ratings given list \n",
    "# of predictions (prediction is a class in Surprise).    \n",
    "##########################################################\n",
    "def get_ratings(predictions):\n",
    "    actual = np.array([pred.r_ui for pred in predictions])\n",
    "    pred = np.array([pred.est for pred in predictions])\n",
    "    \n",
    "    return actual, pred\n",
    "\n",
    "################################################################\n",
    "# get ''rmse'' and ''mape'' , given list of prediction objecs \n",
    "################################################################\n",
    "def get_errors(predictions, print_them=False):\n",
    "\n",
    "    actual, pred = get_ratings(predictions)\n",
    "    rmse = np.sqrt(np.mean((pred - actual)**2))\n",
    "    mape = np.mean(np.abs(pred - actual)/actual)\n",
    "\n",
    "    return rmse, mape*100\n",
    "\n",
    "##################################################################################\n",
    "# It will return predicted ratings, rmse and mape of both train and test data   #\n",
    "##################################################################################\n",
    "def run_surprise(algo, trainset, testset, verbose=True): \n",
    "    '''\n",
    "        return train_dict, test_dict\n",
    "    \n",
    "        It returns two dictionaries, one for train and the other is for test\n",
    "        Each of them have 3 key-value pairs, which specify ''rmse'', ''mape'', and ''predicted ratings''.\n",
    "    '''\n",
    "    start = datetime.now()\n",
    "    # dictionaries that stores metrics for train and test..\n",
    "    train = dict()\n",
    "    test = dict()\n",
    "    \n",
    "    # train the algorithm with the trainset\n",
    "    st = datetime.now()\n",
    "    print('Training the model...')\n",
    "    algo.fit(trainset)\n",
    "    print('Done. time taken : {} \\n'.format(datetime.now()-st))\n",
    "    \n",
    "    # ---------------- Evaluating train data--------------------#\n",
    "    st = datetime.now()\n",
    "    print('Evaluating the model with train data..')\n",
    "    # get the train predictions (list of prediction class inside Surprise)\n",
    "    train_preds = algo.test(trainset.build_testset())\n",
    "    # get predicted ratings from the train predictions..\n",
    "    train_actual_ratings, train_pred_ratings = get_ratings(train_preds)\n",
    "    # get ''rmse'' and ''mape'' from the train predictions.\n",
    "    train_rmse, train_mape = get_errors(train_preds)\n",
    "    print('time taken : {}'.format(datetime.now()-st))\n",
    "    \n",
    "    if verbose:\n",
    "        print('-'*15)\n",
    "        print('Train Data')\n",
    "        print('-'*15)\n",
    "        print(\"RMSE : {}\\n\\nMAPE : {}\\n\".format(train_rmse, train_mape))\n",
    "    \n",
    "    #store them in the train dictionary\n",
    "    if verbose:\n",
    "        print('adding train results in the dictionary..')\n",
    "    train['rmse'] = train_rmse\n",
    "    train['mape'] = train_mape\n",
    "    train['predictions'] = train_pred_ratings\n",
    "    \n",
    "    #------------ Evaluating Test data---------------#\n",
    "    st = datetime.now()\n",
    "    print('\\nEvaluating for test data...')\n",
    "    # get the predictions( list of prediction classes) of test data\n",
    "    test_preds = algo.test(testset)\n",
    "    # get the predicted ratings from the list of predictions\n",
    "    test_actual_ratings, test_pred_ratings = get_ratings(test_preds)\n",
    "    # get error metrics from the predicted and actual ratings\n",
    "    test_rmse, test_mape = get_errors(test_preds)\n",
    "    print('time taken : {}'.format(datetime.now()-st))\n",
    "    \n",
    "    if verbose:\n",
    "        print('-'*15)\n",
    "        print('Test Data')\n",
    "        print('-'*15)\n",
    "        print(\"RMSE : {}\\n\\nMAPE : {}\\n\".format(test_rmse, test_mape))\n",
    "    # store them in test dictionary\n",
    "    if verbose:\n",
    "        print('storing the test results in test dictionary...')\n",
    "    test['rmse'] = test_rmse\n",
    "    test['mape'] = test_mape\n",
    "    test['predictions'] = test_pred_ratings\n",
    "    \n",
    "    print('\\n'+'-'*45)\n",
    "    print('Total time taken to run this algorithm :', datetime.now() - start)\n",
    "    \n",
    "    # return two dictionaries train and test\n",
    "    return train, test"
   ]
  },
  {
   "cell_type": "markdown",
   "metadata": {},
   "source": [
    "## XGBoost with initial 13 features "
   ]
  },
  {
   "cell_type": "code",
   "execution_count": 46,
   "metadata": {},
   "outputs": [],
   "source": [
    "import xgboost as xgb\n",
    "\n",
    "from xgboost import XGBClassifier\n",
    "from tqdm import tqdm\n",
    "from sklearn.metrics import roc_auc_score\n",
    "from sklearn.metrics import roc_curve, auc\n",
    "\n",
    "# prepare Train data\n",
    "x_train = reg_train.drop(['user','movie','rating'], axis=1)\n",
    "y_train = reg_train['rating']\n",
    "\n",
    "# Prepare Test data\n",
    "x_test = reg_test_df.drop(['user','movie','rating'], axis=1)\n",
    "y_test = reg_test_df['rating']"
   ]
  },
  {
   "cell_type": "code",
   "execution_count": 47,
   "metadata": {},
   "outputs": [
    {
     "data": {
      "text/plain": [
       "(856986, 1)"
      ]
     },
     "execution_count": 47,
     "metadata": {},
     "output_type": "execute_result"
    }
   ],
   "source": [
    "y_train.values.reshape(-1,1).shape"
   ]
  },
  {
   "cell_type": "code",
   "execution_count": 48,
   "metadata": {},
   "outputs": [
    {
     "data": {
      "text/plain": [
       "1    3\n",
       "2    4\n",
       "3    5\n",
       "4    4\n",
       "Name: rating, dtype: int64"
      ]
     },
     "execution_count": 48,
     "metadata": {},
     "output_type": "execute_result"
    }
   ],
   "source": [
    "y_train[1:5]"
   ]
  },
  {
   "cell_type": "code",
   "execution_count": 49,
   "metadata": {},
   "outputs": [
    {
     "name": "stderr",
     "output_type": "stream",
     "text": [
      "/home/sunney_sood/.local/lib/python3.5/site-packages/xgboost/core.py:587: FutureWarning: Series.base is deprecated and will be removed in a future version\n",
      "  if getattr(data, 'base', None) is not None and \\\n",
      "/home/sunney_sood/.local/lib/python3.5/site-packages/xgboost/core.py:588: FutureWarning: Series.base is deprecated and will be removed in a future version\n",
      "  data.base is not None and isinstance(data, np.ndarray) \\\n"
     ]
    },
    {
     "name": "stdout",
     "output_type": "stream",
     "text": [
      "[18:29:35] WARNING: /workspace/src/objective/regression_obj.cu:152: reg:linear is now deprecated in favor of reg:squarederror.\n",
      "Best: -0.924586 using {'n_estimators': 9, 'max_depth': 9, 'subsample': 0.9, 'colsample_bytree': 1.0, 'num_boost_round': 100, 'eta': 0.05}\n",
      "Execution time: 589.4488108158112 ms\n"
     ]
    }
   ],
   "source": [
    "import time\n",
    "from sklearn.model_selection import GridSearchCV\n",
    "\n",
    "start_time = time.time()\n",
    "\n",
    "parameters = {\n",
    "    'num_boost_round': [100, 250, 500],\n",
    "    'eta': [0.05, 0.1, 0.3],\n",
    "    'max_depth': [6, 9, 12],\n",
    "    'subsample': [0.9, 1.0],\n",
    "    'colsample_bytree': [0.9, 1.0],\n",
    "    'n_estimators' : [3,5,7,9]\n",
    "}\n",
    "\n",
    "model = xgb.XGBRegressor()\n",
    "grid = GridSearchCV(estimator=model, param_grid = parameters, cv = 2, n_jobs=-1)\n",
    "grid.fit(x_train, y_train)  \n",
    "\n",
    "# Summarize results\n",
    "print(\"Best: %f using %s\" % (grid.best_score_, grid.best_params_))\n",
    "print(\"Execution time: \" + str((time.time() - start_time)) + ' ms')"
   ]
  },
  {
   "cell_type": "markdown",
   "metadata": {},
   "source": [
    "### Conclusion:\n"
   ]
  },
  {
   "cell_type": "code",
   "execution_count": 50,
   "metadata": {},
   "outputs": [],
   "source": [
    "depth_gbdt = grid.best_params_['max_depth']\n",
    "eta_gbdt = grid.best_params_['eta']\n",
    "num_boost_rount_gbdt = grid.best_params_['num_boost_round']\n",
    "subsample_gbdt = grid.best_params_['subsample']\n",
    "colsample_bytree_gbdt = grid.best_params_['colsample_bytree']\n",
    "best_n_estimators = grid.best_params_['n_estimators']"
   ]
  },
  {
   "cell_type": "code",
   "execution_count": 51,
   "metadata": {},
   "outputs": [
    {
     "name": "stdout",
     "output_type": "stream",
     "text": [
      "Training the model..\n",
      "[18:29:52] WARNING: /workspace/src/objective/regression_obj.cu:152: reg:linear is now deprecated in favor of reg:squarederror.\n",
      "Done. Time taken : 0:00:16.687278\n",
      "\n",
      "Done \n",
      "\n",
      "Evaluating the model with TRAIN data...\n",
      "Evaluating Test data\n",
      "\n",
      "TEST DATA\n",
      "------------------------------\n",
      "RMSE :  1.629753225231773\n",
      "MAPE :  39.711677766442264\n"
     ]
    }
   ],
   "source": [
    "# initialize Our first XGBoost model...\n",
    "#first_xgb = xgb.XGBRegressor(silent=False, n_jobs=best_n_jobs, random_state=15, n_estimators=best_n_estimators)\n",
    "first_xgb = xgb.XGBRegressor(silent=False, random_state=15, \n",
    "                             max_depth=depth_gbdt\n",
    "                           ,num_boost_round = num_boost_rount_gbdt\n",
    "                           ,eta = eta_gbdt\n",
    "                           ,subsample = subsample_gbdt\n",
    "                           ,colsample_bytree = colsample_bytree_gbdt\n",
    "                             ,n_estimators=best_n_estimators)\n",
    "train_results, test_results = run_xgboost(first_xgb, x_train, y_train, x_test, y_test)\n",
    "\n",
    "# store the results in models_evaluations dictionaries\n",
    "models_evaluation_train['first_algo'] = train_results\n",
    "models_evaluation_test['first_algo'] = test_results"
   ]
  },
  {
   "cell_type": "code",
   "execution_count": 52,
   "metadata": {},
   "outputs": [
    {
     "data": {
      "text/plain": [
       "<matplotlib.axes._subplots.AxesSubplot at 0x7f90e63821d0>"
      ]
     },
     "execution_count": 52,
     "metadata": {},
     "output_type": "execute_result"
    },
    {
     "data": {
      "image/png": "[encoded data removed]",
      "text/plain": [
       "<Figure size 432x288 with 1 Axes>"
      ]
     },
     "metadata": {
      "needs_background": "light"
     },
     "output_type": "display_data"
    }
   ],
   "source": [
    "%matplotlib inline\n",
    "from xgboost import plot_importance\n",
    "plot_importance(first_xgb, max_num_features=10) # top 10 most important features\n",
    "#plt.show()"
   ]
  },
  {
   "cell_type": "markdown",
   "metadata": {},
   "source": [
    "## Suprise BaselineModel "
   ]
  },
  {
   "cell_type": "code",
   "execution_count": 53,
   "metadata": {},
   "outputs": [
    {
     "data": {
      "text/plain": [
       "(856986, 13)"
      ]
     },
     "execution_count": 53,
     "metadata": {},
     "output_type": "execute_result"
    }
   ],
   "source": [
    "x_train.shape\n",
    "\n",
    "#https://surprise.readthedocs.io/en/stable/prediction_algorithms.html#baseline-estimates-configuration\n",
    "#https://github.com/NicolasHug/Surprise/issues/318\n",
    "#https://github.com/NicolasHug/Surprise/issues/190\n",
    "#https://surprise.readthedocs.io/en/stable/FAQ.html#how-to-tune-an-algorithm-parameters\n",
    "#https://surprise.readthedocs.io/en/stable/getting_started.html#tuning-algorithm-parameters"
   ]
  },
  {
   "cell_type": "code",
   "execution_count": 54,
   "metadata": {},
   "outputs": [
    {
     "name": "stdout",
     "output_type": "stream",
     "text": [
      "0.929479451452445\n",
      "{'bsl_options': {'learning_rate': 0.005, 'reg': 0.01, 'n_epochs': 35, 'method': 'sgd'}}\n"
     ]
    }
   ],
   "source": [
    "from surprise.model_selection import GridSearchCV\n",
    "from surprise import BaselineOnly \n",
    "\n",
    "parameters = { 'bsl_options': \n",
    "              {'method': ['sgd'],\n",
    "                'reg' : [0.0001,0.001,0.01,0.1,1],\n",
    "                'learning_rate': [0.0005, 0.005, 0.05,0.5],\n",
    "                'n_epochs' : [5,10,15,20,35]\n",
    "              }\n",
    "            }\n",
    "\n",
    "gs = GridSearchCV(BaselineOnly, parameters, measures=['rmse', 'mae'], cv=2,n_jobs=5)\n",
    "gs.fit(train_data)\n",
    "\n",
    "# best RMSE score\n",
    "print(gs.best_score['rmse'])\n",
    "\n",
    "# combination of parameters that gave the best RMSE score\n",
    "print(gs.best_params['rmse'])"
   ]
  },
  {
   "cell_type": "code",
   "execution_count": 55,
   "metadata": {},
   "outputs": [
    {
     "data": {
      "text/plain": [
       "0.005"
      ]
     },
     "execution_count": 55,
     "metadata": {},
     "output_type": "execute_result"
    }
   ],
   "source": [
    "gs.best_params['rmse']['bsl_options']['learning_rate']"
   ]
  },
  {
   "cell_type": "code",
   "execution_count": 56,
   "metadata": {},
   "outputs": [],
   "source": [
    "lr = gs.best_params['rmse']['bsl_options']['learning_rate']\n",
    "rg  = gs.best_params['rmse']['bsl_options']['reg']\n",
    "n_epoch = gs.best_params['rmse']['bsl_options']['n_epochs']"
   ]
  },
  {
   "cell_type": "code",
   "execution_count": 57,
   "metadata": {},
   "outputs": [
    {
     "name": "stdout",
     "output_type": "stream",
     "text": [
      "Training the model...\n",
      "Estimating biases using sgd...\n",
      "Done. time taken : 0:00:09.974028 \n",
      "\n",
      "Evaluating the model with train data..\n",
      "time taken : 0:00:07.387008\n",
      "---------------\n",
      "Train Data\n",
      "---------------\n",
      "RMSE : 0.899696058034443\n",
      "\n",
      "MAPE : 27.422880460407008\n",
      "\n",
      "adding train results in the dictionary..\n",
      "\n",
      "Evaluating for test data...\n",
      "time taken : 0:00:00.515649\n",
      "---------------\n",
      "Test Data\n",
      "---------------\n",
      "RMSE : 1.0882648990208073\n",
      "\n",
      "MAPE : 35.15438114239405\n",
      "\n",
      "storing the test results in test dictionary...\n",
      "\n",
      "---------------------------------------------\n",
      "Total time taken to run this algorithm : 0:00:17.877419\n"
     ]
    }
   ],
   "source": [
    "# options are to specify.., how to compute those user and item biases\n",
    "bsl_options = {'method': 'sgd',\n",
    "               'learning_rate': lr,\n",
    "               'reg' : rg,\n",
    "               'n_epochs': n_epoch          \n",
    "               }\n",
    "bsl_algo = BaselineOnly(bsl_options=bsl_options)\n",
    "# run this algorithm.., It will return the train and test results..\n",
    "bsl_train_results, bsl_test_results = run_surprise(bsl_algo, trainset, testset, verbose=True)\n",
    "\n",
    "\n",
    "# Just store these error metrics in our models_evaluation datastructure\n",
    "models_evaluation_train['bsl_algo'] = bsl_train_results \n",
    "models_evaluation_test['bsl_algo'] = bsl_test_results"
   ]
  },
  {
   "cell_type": "markdown",
   "metadata": {},
   "source": [
    "## XGBoost with initial 13 features + Surprise Baseline predictor"
   ]
  },
  {
   "cell_type": "code",
   "execution_count": 58,
   "metadata": {},
   "outputs": [
    {
     "data": {
      "text/html": [
       "<div>\n",
       "<style scoped>\n",
       "    .dataframe tbody tr th:only-of-type {\n",
       "        vertical-align: middle;\n",
       "    }\n",
       "\n",
       "    .dataframe tbody tr th {\n",
       "        vertical-align: top;\n",
       "    }\n",
       "\n",
       "    .dataframe thead th {\n",
       "        text-align: right;\n",
       "    }\n",
       "</style>\n",
       "<table border=\"1\" class=\"dataframe\">\n",
       "  <thead>\n",
       "    <tr style=\"text-align: right;\">\n",
       "      <th></th>\n",
       "      <th>user</th>\n",
       "      <th>movie</th>\n",
       "      <th>GAvg</th>\n",
       "      <th>sur1</th>\n",
       "      <th>sur2</th>\n",
       "      <th>sur3</th>\n",
       "      <th>sur4</th>\n",
       "      <th>sur5</th>\n",
       "      <th>smr1</th>\n",
       "      <th>smr2</th>\n",
       "      <th>smr3</th>\n",
       "      <th>smr4</th>\n",
       "      <th>smr5</th>\n",
       "      <th>UAvg</th>\n",
       "      <th>MAvg</th>\n",
       "      <th>rating</th>\n",
       "      <th>bslpr</th>\n",
       "    </tr>\n",
       "  </thead>\n",
       "  <tbody>\n",
       "    <tr>\n",
       "      <th>0</th>\n",
       "      <td>808635</td>\n",
       "      <td>71</td>\n",
       "      <td>3.587581</td>\n",
       "      <td>3.587581</td>\n",
       "      <td>3.587581</td>\n",
       "      <td>3.587581</td>\n",
       "      <td>3.587581</td>\n",
       "      <td>3.587581</td>\n",
       "      <td>3.587581</td>\n",
       "      <td>3.587581</td>\n",
       "      <td>3.587581</td>\n",
       "      <td>3.587581</td>\n",
       "      <td>3.587581</td>\n",
       "      <td>3.587581</td>\n",
       "      <td>3.587581</td>\n",
       "      <td>5</td>\n",
       "      <td>3.587581</td>\n",
       "    </tr>\n",
       "    <tr>\n",
       "      <th>1</th>\n",
       "      <td>898730</td>\n",
       "      <td>71</td>\n",
       "      <td>3.587581</td>\n",
       "      <td>3.587581</td>\n",
       "      <td>3.587581</td>\n",
       "      <td>3.587581</td>\n",
       "      <td>3.587581</td>\n",
       "      <td>3.587581</td>\n",
       "      <td>3.587581</td>\n",
       "      <td>3.587581</td>\n",
       "      <td>3.587581</td>\n",
       "      <td>3.587581</td>\n",
       "      <td>3.587581</td>\n",
       "      <td>3.587581</td>\n",
       "      <td>3.587581</td>\n",
       "      <td>3</td>\n",
       "      <td>3.587581</td>\n",
       "    </tr>\n",
       "  </tbody>\n",
       "</table>\n",
       "</div>"
      ],
      "text/plain": [
       "     user  movie      GAvg      sur1      sur2      sur3      sur4      sur5  \\\n",
       "0  808635     71  3.587581  3.587581  3.587581  3.587581  3.587581  3.587581   \n",
       "1  898730     71  3.587581  3.587581  3.587581  3.587581  3.587581  3.587581   \n",
       "\n",
       "       smr1      smr2      smr3      smr4      smr5      UAvg      MAvg  \\\n",
       "0  3.587581  3.587581  3.587581  3.587581  3.587581  3.587581  3.587581   \n",
       "1  3.587581  3.587581  3.587581  3.587581  3.587581  3.587581  3.587581   \n",
       "\n",
       "   rating     bslpr  \n",
       "0       5  3.587581  \n",
       "1       3  3.587581  "
      ]
     },
     "execution_count": 58,
     "metadata": {},
     "output_type": "execute_result"
    }
   ],
   "source": [
    "# add our baseline_predicted value as our feature..\n",
    "reg_train['bslpr'] = models_evaluation_train['bsl_algo']['predictions']\n",
    "reg_train.head(2) \n",
    "\n",
    "# add that baseline predicted ratings with Surprise to the test data as well\n",
    "reg_test_df['bslpr']  = models_evaluation_test['bsl_algo']['predictions']\n",
    "\n",
    "reg_test_df.head(2)"
   ]
  },
  {
   "cell_type": "code",
   "execution_count": 59,
   "metadata": {},
   "outputs": [],
   "source": [
    "# prepare train data\n",
    "x_train = reg_train.drop(['user', 'movie','rating'], axis=1)\n",
    "y_train = reg_train['rating']\n",
    "\n",
    "# Prepare Test data\n",
    "x_test = reg_test_df.drop(['user','movie','rating'], axis=1)\n",
    "y_test = reg_test_df['rating']"
   ]
  },
  {
   "cell_type": "code",
   "execution_count": 60,
   "metadata": {},
   "outputs": [
    {
     "name": "stdout",
     "output_type": "stream",
     "text": [
      "[19:41:27] WARNING: /workspace/src/objective/regression_obj.cu:152: reg:linear is now deprecated in favor of reg:squarederror.\n",
      "Best: -0.924616 using {'n_estimators': 9, 'max_depth': 9, 'subsample': 0.9, 'colsample_bytree': 1.0, 'num_boost_round': 100, 'eta': 0.05}\n",
      "Execution time: 662.8906471729279 ms\n"
     ]
    }
   ],
   "source": [
    "from sklearn.model_selection import GridSearchCV\n",
    "start_time = time.time()\n",
    "parameters = {\n",
    "    'num_boost_round': [100, 250, 500],\n",
    "    'eta': [0.05, 0.1, 0.3],\n",
    "    'max_depth': [6, 9, 12],\n",
    "    'subsample': [0.9, 1.0],\n",
    "    'colsample_bytree': [0.9, 1.0],\n",
    "    'n_estimators' : [3,5,7,9]\n",
    "}\n",
    "\n",
    "model = xgb.XGBRegressor()\n",
    "grid = GridSearchCV(estimator=model, param_grid = parameters, cv = 2, n_jobs=-1)\n",
    "grid.fit(x_train, y_train)  \n",
    "\n",
    "# Summarize results\n",
    "print(\"Best: %f using %s\" % (grid.best_score_, grid.best_params_))\n",
    "print(\"Execution time: \" + str((time.time() - start_time)) + ' ms')\n",
    "\n",
    "depth_gbdt = grid.best_params_['max_depth']\n",
    "eta_gbdt = grid.best_params_['eta']\n",
    "num_boost_rount_gbdt = grid.best_params_['num_boost_round']\n",
    "subsample_gbdt = grid.best_params_['subsample']\n",
    "colsample_bytree_gbdt = grid.best_params_['colsample_bytree']\n",
    "best_n_estimators = grid.best_params_['n_estimators']"
   ]
  },
  {
   "cell_type": "code",
   "execution_count": 61,
   "metadata": {},
   "outputs": [
    {
     "name": "stdout",
     "output_type": "stream",
     "text": [
      "Training the model..\n",
      "[19:41:45] WARNING: /workspace/src/objective/regression_obj.cu:152: reg:linear is now deprecated in favor of reg:squarederror.\n",
      "Done. Time taken : 0:00:18.392002\n",
      "\n",
      "Done \n",
      "\n",
      "Evaluating the model with TRAIN data...\n",
      "Evaluating Test data\n",
      "\n",
      "TEST DATA\n",
      "------------------------------\n",
      "RMSE :  1.625556549717856\n",
      "MAPE :  39.63130175233669\n"
     ]
    },
    {
     "data": {
      "image/png": "[encoded data removed]",
      "text/plain": [
       "<Figure size 432x288 with 1 Axes>"
      ]
     },
     "metadata": {
      "needs_background": "light"
     },
     "output_type": "display_data"
    }
   ],
   "source": [
    "# initialize Our first XGBoost model...\n",
    "#xgb_bsl = xgb.XGBRegressor(silent=False, n_jobs=13, random_state=15, n_estimators=100)\n",
    "xgb_bsl = xgb.XGBRegressor(silent=False, random_state=15, \n",
    "                             max_depth=depth_gbdt\n",
    "                           ,num_boost_round = num_boost_rount_gbdt\n",
    "                           ,eta = eta_gbdt\n",
    "                           ,subsample = subsample_gbdt\n",
    "                           ,colsample_bytree = colsample_bytree_gbdt\n",
    "                             ,n_estimators=best_n_estimators)\n",
    "\n",
    "train_results, test_results = run_xgboost(xgb_bsl, x_train, y_train, x_test, y_test)\n",
    "\n",
    "# store the results in models_evaluations dictionaries\n",
    "models_evaluation_train['xgb_bsl'] = train_results\n",
    "models_evaluation_test['xgb_bsl'] = test_results\n",
    "\n",
    "xgb.plot_importance(xgb_bsl)\n",
    "plt.show()"
   ]
  },
  {
   "cell_type": "markdown",
   "metadata": {},
   "source": [
    "## Surprise KNNBaseline predictor "
   ]
  },
  {
   "cell_type": "code",
   "execution_count": 62,
   "metadata": {},
   "outputs": [
    {
     "name": "stdout",
     "output_type": "stream",
     "text": [
      "0.9357276475560499\n",
      "{'bsl_options': {'k': 25, 'name': 'pearson_baseline', 'user_based': True, 'min_support': 2, 'method': 'sgd', 'shrinkage': 5}}\n"
     ]
    }
   ],
   "source": [
    "from surprise import KNNBaseline\n",
    "from surprise.model_selection import GridSearchCV\n",
    "\n",
    "parameters = { 'bsl_options': \n",
    "              {'method': ['sgd'],\n",
    "                'user_based' : [True],\n",
    "                'name': ['pearson_baseline'],\n",
    "                'min_support': [2,4,6,8],\n",
    "                'shrinkage' : [5,15,25,35],\n",
    "               'k' : [25,50,75,100]\n",
    "               \n",
    "              }\n",
    "            }\n",
    "\n",
    "gs = GridSearchCV(KNNBaseline, parameters, measures=['rmse', 'mae'], cv=2,n_jobs = 5)\n",
    "gs.fit(train_data)\n",
    "\n",
    "# best RMSE score\n",
    "print(gs.best_score['rmse'])\n",
    "\n",
    "# combination of parameters that gave the best RMSE score\n",
    "print(gs.best_params['rmse'])"
   ]
  },
  {
   "cell_type": "code",
   "execution_count": 63,
   "metadata": {},
   "outputs": [],
   "source": [
    "support = gs.best_params['rmse']['bsl_options']['min_support']\n",
    "shrink  = gs.best_params['rmse']['bsl_options']['shrinkage']\n",
    "k_value = gs.best_params['rmse']['bsl_options']['k']"
   ]
  },
  {
   "cell_type": "code",
   "execution_count": 64,
   "metadata": {},
   "outputs": [
    {
     "name": "stdout",
     "output_type": "stream",
     "text": [
      "Training the model...\n",
      "Estimating biases using sgd...\n",
      "Computing the pearson_baseline similarity matrix...\n",
      "Done computing similarity matrix.\n",
      "Done. time taken : 0:07:15.894040 \n",
      "\n",
      "Evaluating the model with train data..\n",
      "time taken : 0:25:38.163478\n",
      "---------------\n",
      "Train Data\n",
      "---------------\n",
      "RMSE : 0.4156659936100566\n",
      "\n",
      "MAPE : 11.65095489448479\n",
      "\n",
      "adding train results in the dictionary..\n",
      "\n",
      "Evaluating for test data...\n",
      "time taken : 0:00:01.042372\n",
      "---------------\n",
      "Test Data\n",
      "---------------\n",
      "RMSE : 1.087852478142926\n",
      "\n",
      "MAPE : 35.14230871672305\n",
      "\n",
      "storing the test results in test dictionary...\n",
      "\n",
      "---------------------------------------------\n",
      "Total time taken to run this algorithm : 0:32:55.100751\n"
     ]
    }
   ],
   "source": [
    "# we specify , how to compute similarities and what to consider with sim_options to our algorithm\n",
    "sim_options = {'user_based' : True,\n",
    "               'name': 'pearson_baseline',\n",
    "               'shrinkage': shrink,\n",
    "               'min_support': support\n",
    "              } \n",
    "# we keep other parameters like regularization parameter and learning_rate as default values.\n",
    "bsl_options = {'method': 'sgd'} \n",
    "\n",
    "knn_bsl_u = KNNBaseline(k=k_value, sim_options = sim_options, bsl_options = bsl_options)\n",
    "knn_bsl_u_train_results, knn_bsl_u_test_results = run_surprise(knn_bsl_u, trainset, testset, verbose=True)\n",
    "\n",
    "# Just store these error metrics in our models_evaluation datastructure\n",
    "models_evaluation_train['knn_bsl_u'] = knn_bsl_u_train_results \n",
    "models_evaluation_test['knn_bsl_u'] = knn_bsl_u_test_results"
   ]
  },
  {
   "cell_type": "markdown",
   "metadata": {},
   "source": [
    "## Surprise KNNBaseline with movie movie similarities"
   ]
  },
  {
   "cell_type": "code",
   "execution_count": 65,
   "metadata": {},
   "outputs": [
    {
     "name": "stdout",
     "output_type": "stream",
     "text": [
      "0.9357836558969945\n",
      "{'bsl_options': {'k': 25, 'name': 'pearson_baseline', 'user_based': True, 'min_support': 2, 'method': 'sgd', 'shrinkage': 5}}\n"
     ]
    }
   ],
   "source": [
    "from surprise import KNNBaseline\n",
    "from surprise.model_selection import GridSearchCV\n",
    "\n",
    "parameters = { 'bsl_options': \n",
    "              {'method': ['sgd'],\n",
    "                'user_based' : [True],\n",
    "                'name': ['pearson_baseline'],\n",
    "                'min_support': [2,4,6,8],\n",
    "                'shrinkage' : [5,15,25,35],\n",
    "                'k' : [25,50,75,100]\n",
    "               \n",
    "              }\n",
    "            }\n",
    "\n",
    "gs = GridSearchCV(KNNBaseline, parameters, measures=['rmse', 'mae'], cv=2,n_jobs = 4)\n",
    "gs.fit(train_data)\n",
    "\n",
    "# best RMSE score\n",
    "print(gs.best_score['rmse'])\n",
    "\n",
    "# combination of parameters that gave the best RMSE score\n",
    "print(gs.best_params['rmse'])"
   ]
  },
  {
   "cell_type": "code",
   "execution_count": 66,
   "metadata": {},
   "outputs": [],
   "source": [
    "support = gs.best_params['rmse']['bsl_options']['min_support']\n",
    "shrink  = gs.best_params['rmse']['bsl_options']['shrinkage']\n",
    "k_value = gs.best_params['rmse']['bsl_options']['k']"
   ]
  },
  {
   "cell_type": "code",
   "execution_count": 67,
   "metadata": {},
   "outputs": [
    {
     "name": "stdout",
     "output_type": "stream",
     "text": [
      "Training the model...\n",
      "Estimating biases using sgd...\n",
      "Computing the pearson_baseline similarity matrix...\n",
      "Done computing similarity matrix.\n",
      "Done. time taken : 0:00:13.481329 \n",
      "\n",
      "Evaluating the model with train data..\n",
      "time taken : 0:02:17.557326\n",
      "---------------\n",
      "Train Data\n",
      "---------------\n",
      "RMSE : 0.5184972304532561\n",
      "\n",
      "MAPE : 14.80923218141059\n",
      "\n",
      "adding train results in the dictionary..\n",
      "\n",
      "Evaluating for test data...\n",
      "time taken : 0:00:00.535073\n",
      "---------------\n",
      "Test Data\n",
      "---------------\n",
      "RMSE : 1.0881187106120334\n",
      "\n",
      "MAPE : 35.1472168668651\n",
      "\n",
      "storing the test results in test dictionary...\n",
      "\n",
      "---------------------------------------------\n",
      "Total time taken to run this algorithm : 0:02:31.575405\n"
     ]
    }
   ],
   "source": [
    "# we specify , how to compute similarities and what to consider with sim_options to our algorithm\n",
    "\n",
    "# 'user_based' : Fals => this considers the similarities of movies instead of users\n",
    "\n",
    "sim_options = {'user_based' : False,\n",
    "               'name': 'pearson_baseline',\n",
    "               'shrinkage': shrink,\n",
    "               'min_support': support\n",
    "              } \n",
    "# we keep other parameters like regularization parameter and learning_rate as default values.\n",
    "bsl_options = {'method': 'sgd'}\n",
    "\n",
    "\n",
    "knn_bsl_m = KNNBaseline(k=k_value, sim_options = sim_options, bsl_options = bsl_options)\n",
    "\n",
    "knn_bsl_m_train_results, knn_bsl_m_test_results = run_surprise(knn_bsl_m, trainset, testset, verbose=True)\n",
    "\n",
    "# Just store these error metrics in our models_evaluation datastructure\n",
    "models_evaluation_train['knn_bsl_m'] = knn_bsl_m_train_results \n",
    "models_evaluation_test['knn_bsl_m'] = knn_bsl_m_test_results"
   ]
  },
  {
   "cell_type": "markdown",
   "metadata": {},
   "source": [
    "## XGBoost with initial 13 features + Surprise Baseline predictor + KNNBaseline predictor"
   ]
  },
  {
   "cell_type": "code",
   "execution_count": 68,
   "metadata": {},
   "outputs": [
    {
     "data": {
      "text/html": [
       "<div>\n",
       "<style scoped>\n",
       "    .dataframe tbody tr th:only-of-type {\n",
       "        vertical-align: middle;\n",
       "    }\n",
       "\n",
       "    .dataframe tbody tr th {\n",
       "        vertical-align: top;\n",
       "    }\n",
       "\n",
       "    .dataframe thead th {\n",
       "        text-align: right;\n",
       "    }\n",
       "</style>\n",
       "<table border=\"1\" class=\"dataframe\">\n",
       "  <thead>\n",
       "    <tr style=\"text-align: right;\">\n",
       "      <th></th>\n",
       "      <th>user</th>\n",
       "      <th>movie</th>\n",
       "      <th>GAvg</th>\n",
       "      <th>sur1</th>\n",
       "      <th>sur2</th>\n",
       "      <th>sur3</th>\n",
       "      <th>sur4</th>\n",
       "      <th>sur5</th>\n",
       "      <th>smr1</th>\n",
       "      <th>smr2</th>\n",
       "      <th>smr3</th>\n",
       "      <th>smr4</th>\n",
       "      <th>smr5</th>\n",
       "      <th>UAvg</th>\n",
       "      <th>MAvg</th>\n",
       "      <th>rating</th>\n",
       "      <th>bslpr</th>\n",
       "      <th>knn_bsl_u</th>\n",
       "      <th>knn_bsl_m</th>\n",
       "    </tr>\n",
       "  </thead>\n",
       "  <tbody>\n",
       "    <tr>\n",
       "      <th>0</th>\n",
       "      <td>808635</td>\n",
       "      <td>71</td>\n",
       "      <td>3.587581</td>\n",
       "      <td>3.587581</td>\n",
       "      <td>3.587581</td>\n",
       "      <td>3.587581</td>\n",
       "      <td>3.587581</td>\n",
       "      <td>3.587581</td>\n",
       "      <td>3.587581</td>\n",
       "      <td>3.587581</td>\n",
       "      <td>3.587581</td>\n",
       "      <td>3.587581</td>\n",
       "      <td>3.587581</td>\n",
       "      <td>3.587581</td>\n",
       "      <td>3.587581</td>\n",
       "      <td>5</td>\n",
       "      <td>3.587581</td>\n",
       "      <td>3.587581</td>\n",
       "      <td>3.587581</td>\n",
       "    </tr>\n",
       "    <tr>\n",
       "      <th>1</th>\n",
       "      <td>898730</td>\n",
       "      <td>71</td>\n",
       "      <td>3.587581</td>\n",
       "      <td>3.587581</td>\n",
       "      <td>3.587581</td>\n",
       "      <td>3.587581</td>\n",
       "      <td>3.587581</td>\n",
       "      <td>3.587581</td>\n",
       "      <td>3.587581</td>\n",
       "      <td>3.587581</td>\n",
       "      <td>3.587581</td>\n",
       "      <td>3.587581</td>\n",
       "      <td>3.587581</td>\n",
       "      <td>3.587581</td>\n",
       "      <td>3.587581</td>\n",
       "      <td>3</td>\n",
       "      <td>3.587581</td>\n",
       "      <td>3.587581</td>\n",
       "      <td>3.587581</td>\n",
       "    </tr>\n",
       "  </tbody>\n",
       "</table>\n",
       "</div>"
      ],
      "text/plain": [
       "     user  movie      GAvg      sur1      sur2      sur3      sur4      sur5  \\\n",
       "0  808635     71  3.587581  3.587581  3.587581  3.587581  3.587581  3.587581   \n",
       "1  898730     71  3.587581  3.587581  3.587581  3.587581  3.587581  3.587581   \n",
       "\n",
       "       smr1      smr2      smr3      smr4      smr5      UAvg      MAvg  \\\n",
       "0  3.587581  3.587581  3.587581  3.587581  3.587581  3.587581  3.587581   \n",
       "1  3.587581  3.587581  3.587581  3.587581  3.587581  3.587581  3.587581   \n",
       "\n",
       "   rating     bslpr  knn_bsl_u  knn_bsl_m  \n",
       "0       5  3.587581   3.587581   3.587581  \n",
       "1       3  3.587581   3.587581   3.587581  "
      ]
     },
     "execution_count": 68,
     "metadata": {},
     "output_type": "execute_result"
    }
   ],
   "source": [
    "# add the predicted values from both knns to this dataframe\n",
    "reg_train['knn_bsl_u'] = models_evaluation_train['knn_bsl_u']['predictions']\n",
    "reg_train['knn_bsl_m'] = models_evaluation_train['knn_bsl_m']['predictions']\n",
    "\n",
    "reg_train.head(2)\n",
    "\n",
    "reg_test_df['knn_bsl_u'] = models_evaluation_test['knn_bsl_u']['predictions']\n",
    "reg_test_df['knn_bsl_m'] = models_evaluation_test['knn_bsl_m']['predictions']\n",
    "\n",
    "reg_test_df.head(2)"
   ]
  },
  {
   "cell_type": "code",
   "execution_count": 69,
   "metadata": {},
   "outputs": [],
   "source": [
    "# prepare the train data....\n",
    "x_train = reg_train.drop(['user', 'movie', 'rating'], axis=1)\n",
    "y_train = reg_train['rating']\n",
    "\n",
    "# prepare the train data....\n",
    "x_test = reg_test_df.drop(['user','movie','rating'], axis=1)\n",
    "y_test = reg_test_df['rating']"
   ]
  },
  {
   "cell_type": "code",
   "execution_count": 70,
   "metadata": {},
   "outputs": [
    {
     "name": "stdout",
     "output_type": "stream",
     "text": [
      "[04:28:37] WARNING: /workspace/src/objective/regression_obj.cu:152: reg:linear is now deprecated in favor of reg:squarederror.\n",
      "Best: -0.924540 using {'n_estimators': 9, 'max_depth': 9, 'subsample': 1.0, 'colsample_bytree': 1.0, 'num_boost_round': 100, 'eta': 0.05}\n",
      "Execution time: 900.0494055747986 ms\n"
     ]
    }
   ],
   "source": [
    "from sklearn.model_selection import GridSearchCV\n",
    "start_time = time.time()\n",
    "parameters = {\n",
    "    'num_boost_round': [100, 250, 500],\n",
    "    'eta': [0.05, 0.1, 0.3],\n",
    "    'max_depth': [6, 9, 12],\n",
    "    'subsample': [0.9, 1.0],\n",
    "    'colsample_bytree': [0.9, 1.0],\n",
    "    'n_estimators' : [3,5,7,9]\n",
    "}\n",
    "\n",
    "model = xgb.XGBRegressor()\n",
    "grid = GridSearchCV(estimator=model, param_grid = parameters, cv = 2, n_jobs=-1)\n",
    "grid.fit(x_train, y_train)  \n",
    "\n",
    "# Summarize results\n",
    "print(\"Best: %f using %s\" % (grid.best_score_, grid.best_params_))\n",
    "print(\"Execution time: \" + str((time.time() - start_time)) + ' ms')\n",
    "\n",
    "depth_gbdt = grid.best_params_['max_depth']\n",
    "eta_gbdt = grid.best_params_['eta']\n",
    "num_boost_rount_gbdt = grid.best_params_['num_boost_round']\n",
    "subsample_gbdt = grid.best_params_['subsample']\n",
    "colsample_bytree_gbdt = grid.best_params_['colsample_bytree']\n",
    "best_n_estimators = grid.best_params_['n_estimators']"
   ]
  },
  {
   "cell_type": "code",
   "execution_count": 71,
   "metadata": {},
   "outputs": [
    {
     "name": "stdout",
     "output_type": "stream",
     "text": [
      "Training the model..\n",
      "[04:28:59] WARNING: /workspace/src/objective/regression_obj.cu:152: reg:linear is now deprecated in favor of reg:squarederror.\n",
      "Done. Time taken : 0:00:22.473797\n",
      "\n",
      "Done \n",
      "\n",
      "Evaluating the model with TRAIN data...\n",
      "Evaluating Test data\n",
      "\n",
      "TEST DATA\n",
      "------------------------------\n",
      "RMSE :  1.6407511491605584\n",
      "MAPE :  39.88660736337124\n"
     ]
    },
    {
     "data": {
      "image/png": "[encoded data removed]",
      "text/plain": [
       "<Figure size 432x288 with 1 Axes>"
      ]
     },
     "metadata": {
      "needs_background": "light"
     },
     "output_type": "display_data"
    }
   ],
   "source": [
    "# declare the model\n",
    "#xgb_knn_bsl = xgb.XGBRegressor(n_jobs=10, random_state=15)\n",
    "xgb_knn_bsl = xgb.XGBRegressor(silent=False, random_state=15, \n",
    "                             max_depth=depth_gbdt\n",
    "                           ,num_boost_round = num_boost_rount_gbdt\n",
    "                           ,eta = eta_gbdt\n",
    "                           ,subsample = subsample_gbdt\n",
    "                           ,colsample_bytree = colsample_bytree_gbdt\n",
    "                             ,n_estimators=best_n_estimators)\n",
    "train_results, test_results = run_xgboost(xgb_knn_bsl, x_train, y_train, x_test, y_test)\n",
    "\n",
    "# store the results in models_evaluations dictionaries\n",
    "models_evaluation_train['xgb_knn_bsl'] = train_results\n",
    "models_evaluation_test['xgb_knn_bsl'] = test_results\n",
    "\n",
    "\n",
    "xgb.plot_importance(xgb_knn_bsl)\n",
    "plt.show()"
   ]
  },
  {
   "cell_type": "markdown",
   "metadata": {},
   "source": [
    "### Matrix Factorization Techniques"
   ]
  },
  {
   "cell_type": "markdown",
   "metadata": {},
   "source": [
    "#### SVD Matrix Factorization User Movie intractions "
   ]
  },
  {
   "cell_type": "code",
   "execution_count": 72,
   "metadata": {},
   "outputs": [
    {
     "name": "stdout",
     "output_type": "stream",
     "text": [
      "0.9189596486955769\n",
      "{'n_factors': 30, 'reg_all': 0.05, 'n_epochs': 15, 'lr_all': 0.01, 'biased': True}\n"
     ]
    }
   ],
   "source": [
    "from surprise.model_selection import GridSearchCV\n",
    "from surprise import SVD\n",
    "\n",
    "parameters = {  \n",
    "                'n_factors' : [15,30,60,85],\n",
    "                'biased' : [True],\n",
    "                'lr_all' : [0.0001,0.001,0.01,0.1],\n",
    "                'reg_all': [0.0005, 0.005, 0.05,0.5],\n",
    "                'n_epochs' : [5,15,25,35]\n",
    "              }\n",
    "    \n",
    "\n",
    "#trainset = train_data.build_full_trainset()\n",
    "\n",
    "\n",
    "#bsl = BaselineOnly()\n",
    "gs = GridSearchCV(SVD, parameters, measures=['rmse', 'mae'], cv=2,n_jobs = 5)\n",
    "gs.fit(train_data)\n",
    "\n",
    "# best RMSE score\n",
    "print(gs.best_score['rmse'])\n",
    "\n",
    "# combination of parameters that gave the best RMSE score\n",
    "print(gs.best_params['rmse'])\n",
    "\n",
    "lr = gs.best_params['rmse']['lr_all']\n",
    "rg  = gs.best_params['rmse']['reg_all']\n",
    "n_factor = gs.best_params['rmse']['n_factors']\n",
    "n_epoch = gs.best_params['rmse']['n_epochs']"
   ]
  },
  {
   "cell_type": "code",
   "execution_count": 73,
   "metadata": {},
   "outputs": [
    {
     "name": "stdout",
     "output_type": "stream",
     "text": [
      "Training the model...\n",
      "Processing epoch 0\n",
      "Processing epoch 1\n",
      "Processing epoch 2\n",
      "Processing epoch 3\n",
      "Processing epoch 4\n",
      "Processing epoch 5\n",
      "Processing epoch 6\n",
      "Processing epoch 7\n",
      "Processing epoch 8\n",
      "Processing epoch 9\n",
      "Processing epoch 10\n",
      "Processing epoch 11\n",
      "Processing epoch 12\n",
      "Processing epoch 13\n",
      "Processing epoch 14\n",
      "Done. time taken : 0:00:20.002312 \n",
      "\n",
      "Evaluating the model with train data..\n",
      "time taken : 0:00:10.196507\n",
      "---------------\n",
      "Train Data\n",
      "---------------\n",
      "RMSE : 0.8175957631146862\n",
      "\n",
      "MAPE : 24.81752018358384\n",
      "\n",
      "adding train results in the dictionary..\n",
      "\n",
      "Evaluating for test data...\n",
      "time taken : 0:00:00.482093\n",
      "---------------\n",
      "Test Data\n",
      "---------------\n",
      "RMSE : 1.0877628436804372\n",
      "\n",
      "MAPE : 35.11260257637676\n",
      "\n",
      "storing the test results in test dictionary...\n",
      "\n",
      "---------------------------------------------\n",
      "Total time taken to run this algorithm : 0:00:30.682338\n"
     ]
    }
   ],
   "source": [
    "# initiallize the model\n",
    "svd = SVD(n_factors=n_factor, \n",
    "          lr_all = lr,\n",
    "          reg_all = rg,\n",
    "          n_epochs = n_epoch,\n",
    "          biased=True, random_state=15, verbose=True)\n",
    "\n",
    "svd_train_results, svd_test_results = run_surprise(svd, trainset, testset, verbose=True)\n",
    "\n",
    "# Just store these error metrics in our models_evaluation datastructure\n",
    "models_evaluation_train['svd'] = svd_train_results \n",
    "models_evaluation_test['svd'] = svd_test_results"
   ]
  },
  {
   "cell_type": "markdown",
   "metadata": {},
   "source": [
    "#### SVD Matrix Factorization with implicit feedback from user ( user rated movies ) "
   ]
  },
  {
   "cell_type": "code",
   "execution_count": 74,
   "metadata": {},
   "outputs": [
    {
     "name": "stdout",
     "output_type": "stream",
     "text": [
      "0.9069647801185459\n",
      "{'n_factors': 15, 'n_epochs': 35, 'lr_all': 0.001, 'reg_all': 0.0005}\n"
     ]
    }
   ],
   "source": [
    "from surprise.model_selection import GridSearchCV\n",
    "from surprise import SVDpp\n",
    "\n",
    "parameters = {  \n",
    "                'n_factors' : [15,45,60,85],\n",
    "                #'biased' : [True],\n",
    "                'lr_all' : [0.0001,0.001,0.01,0.1],\n",
    "                'reg_all': [0.0005, 0.005, 0.05,0.5],\n",
    "                'n_epochs' : [5,15,25,35]\n",
    "              }\n",
    "\n",
    "#trainset = train_data.build_full_trainset()\n",
    "#bsl = BaselineOnly()\n",
    "gs = GridSearchCV(SVDpp, parameters, measures=['rmse', 'mae'], cv=2,n_jobs = 5)\n",
    "gs.fit(train_data)\n",
    "\n",
    "# best RMSE score\n",
    "print(gs.best_score['rmse'])\n",
    "\n",
    "# combination of parameters that gave the best RMSE score\n",
    "print(gs.best_params['rmse'])\n",
    "\n",
    "lr = gs.best_params['rmse']['lr_all']\n",
    "rg  = gs.best_params['rmse']['reg_all']\n",
    "n_factor = gs.best_params['rmse']['n_factors']\n",
    "n_epoch = gs.best_params['rmse']['n_epochs']"
   ]
  },
  {
   "cell_type": "code",
   "execution_count": 76,
   "metadata": {},
   "outputs": [
    {
     "name": "stdout",
     "output_type": "stream",
     "text": [
      "Training the model...\n",
      " processing epoch 0\n",
      " processing epoch 1\n",
      " processing epoch 2\n",
      " processing epoch 3\n",
      " processing epoch 4\n",
      " processing epoch 5\n",
      " processing epoch 6\n",
      " processing epoch 7\n",
      " processing epoch 8\n",
      " processing epoch 9\n",
      " processing epoch 10\n",
      " processing epoch 11\n",
      " processing epoch 12\n",
      " processing epoch 13\n",
      " processing epoch 14\n",
      " processing epoch 15\n",
      " processing epoch 16\n",
      " processing epoch 17\n",
      " processing epoch 18\n",
      " processing epoch 19\n",
      " processing epoch 20\n",
      " processing epoch 21\n",
      " processing epoch 22\n",
      " processing epoch 23\n",
      " processing epoch 24\n",
      " processing epoch 25\n",
      " processing epoch 26\n",
      " processing epoch 27\n",
      " processing epoch 28\n",
      " processing epoch 29\n",
      " processing epoch 30\n",
      " processing epoch 31\n",
      " processing epoch 32\n",
      " processing epoch 33\n",
      " processing epoch 34\n",
      "Done. time taken : 0:32:13.013175 \n",
      "\n",
      "Evaluating the model with train data..\n",
      "time taken : 0:01:33.635572\n",
      "---------------\n",
      "Train Data\n",
      "---------------\n",
      "RMSE : 0.8237947179648067\n",
      "\n",
      "MAPE : 24.608738637652106\n",
      "\n",
      "adding train results in the dictionary..\n",
      "\n",
      "Evaluating for test data...\n",
      "time taken : 0:00:00.533483\n",
      "---------------\n",
      "Test Data\n",
      "---------------\n",
      "RMSE : 1.0902912614597926\n",
      "\n",
      "MAPE : 35.0879749523303\n",
      "\n",
      "storing the test results in test dictionary...\n",
      "\n",
      "---------------------------------------------\n",
      "Total time taken to run this algorithm : 0:33:47.183143\n"
     ]
    }
   ],
   "source": [
    "# initiallize the model\n",
    "svdpp = SVDpp(n_factors=n_factor, \n",
    "          lr_all = lr,\n",
    "          reg_all = rg,\n",
    "          n_epochs = n_epoch,\n",
    "          #biased=True,\n",
    "              random_state=15, verbose=True)\n",
    "svdpp_train_results, svdpp_test_results = run_surprise(svdpp, trainset, testset, verbose=True)\n",
    "\n",
    "# Just store these error metrics in our models_evaluation datastructure\n",
    "models_evaluation_train['svdpp'] = svdpp_train_results \n",
    "models_evaluation_test['svdpp'] = svdpp_test_results\n"
   ]
  },
  {
   "cell_type": "markdown",
   "metadata": {},
   "source": [
    "### XgBoost with 13 features + Surprise Baseline + Surprise KNNbaseline + MF Techniques "
   ]
  },
  {
   "cell_type": "code",
   "execution_count": 77,
   "metadata": {},
   "outputs": [],
   "source": [
    "# add the predicted values from both knns to this dataframe\n",
    "reg_train['svd'] = models_evaluation_train['svd']['predictions']\n",
    "reg_train['svdpp'] = models_evaluation_train['svdpp']['predictions']\n",
    "\n",
    "reg_train.head(2) \n",
    "\n",
    "reg_test_df['svd'] = models_evaluation_test['svd']['predictions']\n",
    "reg_test_df['svdpp'] = models_evaluation_test['svdpp']['predictions']\n",
    "\n",
    "reg_test_df.head(2) \n",
    "\n",
    "# prepare x_train and y_train\n",
    "x_train = reg_train.drop(['user', 'movie', 'rating',], axis=1)\n",
    "y_train = reg_train['rating']\n",
    "\n",
    "# prepare test data\n",
    "x_test = reg_test_df.drop(['user', 'movie', 'rating'], axis=1)\n",
    "y_test = reg_test_df['rating']\n"
   ]
  },
  {
   "cell_type": "code",
   "execution_count": 78,
   "metadata": {},
   "outputs": [
    {
     "name": "stdout",
     "output_type": "stream",
     "text": [
      "[01:01:46] WARNING: /workspace/src/objective/regression_obj.cu:152: reg:linear is now deprecated in favor of reg:squarederror.\n",
      "Best: -0.924970 using {'n_estimators': 9, 'max_depth': 9, 'subsample': 1.0, 'colsample_bytree': 1.0, 'num_boost_round': 100, 'eta': 0.05}\n",
      "Execution time: 1005.5724565982819 ms\n"
     ]
    }
   ],
   "source": [
    "from sklearn.model_selection import GridSearchCV\n",
    "start_time = time.time()\n",
    "parameters = {\n",
    "    'num_boost_round': [100, 250, 500],\n",
    "    'eta': [0.05, 0.1, 0.3],\n",
    "    'max_depth': [6, 9, 12],\n",
    "    'subsample': [0.9, 1.0],\n",
    "    'colsample_bytree': [0.9, 1.0],\n",
    "    'n_estimators' : [3,5,7,9]\n",
    "}\n",
    "\n",
    "model = xgb.XGBRegressor()\n",
    "grid = GridSearchCV(estimator=model, param_grid = parameters, cv = 2, n_jobs=-1)\n",
    "grid.fit(x_train, y_train)  \n",
    "\n",
    "# Summarize results\n",
    "print(\"Best: %f using %s\" % (grid.best_score_, grid.best_params_))\n",
    "print(\"Execution time: \" + str((time.time() - start_time)) + ' ms')\n",
    "\n",
    "depth_gbdt = grid.best_params_['max_depth']\n",
    "eta_gbdt = grid.best_params_['eta']\n",
    "num_boost_rount_gbdt = grid.best_params_['num_boost_round']\n",
    "subsample_gbdt = grid.best_params_['subsample']\n",
    "colsample_bytree_gbdt = grid.best_params_['colsample_bytree']\n",
    "best_n_estimators = grid.best_params_['n_estimators']"
   ]
  },
  {
   "cell_type": "code",
   "execution_count": 79,
   "metadata": {},
   "outputs": [
    {
     "name": "stdout",
     "output_type": "stream",
     "text": [
      "Training the model..\n",
      "[01:02:12] WARNING: /workspace/src/objective/regression_obj.cu:152: reg:linear is now deprecated in favor of reg:squarederror.\n",
      "Done. Time taken : 0:00:06.149818\n",
      "\n",
      "Done \n",
      "\n",
      "Evaluating the model with TRAIN data...\n",
      "Evaluating Test data\n",
      "\n",
      "TEST DATA\n",
      "------------------------------\n",
      "RMSE :  1.6407391206138895\n",
      "MAPE :  39.88621551877664\n"
     ]
    },
    {
     "data": {
      "image/png": "[encoded data removed]",
      "text/plain": [
       "<Figure size 432x288 with 1 Axes>"
      ]
     },
     "metadata": {
      "needs_background": "light"
     },
     "output_type": "display_data"
    }
   ],
   "source": [
    "#xgb_final = xgb.XGBRegressor(n_jobs=10, random_state=15)\n",
    "xgb_final = xgb.XGBRegressor(silent=False,n_jobs=10, random_state=15, \n",
    "                             max_depth=depth_gbdt\n",
    "                           ,num_boost_round = num_boost_rount_gbdt\n",
    "                           ,eta = eta_gbdt\n",
    "                           ,subsample = subsample_gbdt\n",
    "                           ,colsample_bytree = colsample_bytree_gbdt\n",
    "                             ,n_estimators=best_n_estimators)\n",
    "train_results, test_results = run_xgboost(xgb_final, x_train, y_train, x_test, y_test)\n",
    "\n",
    "# store the results in models_evaluations dictionaries\n",
    "models_evaluation_train['xgb_final'] = train_results\n",
    "models_evaluation_test['xgb_final'] = test_results\n",
    "\n",
    "\n",
    "xgb.plot_importance(xgb_final)\n",
    "plt.show()"
   ]
  },
  {
   "cell_type": "markdown",
   "metadata": {},
   "source": [
    "### XgBoost with Surprise Baseline + Surprise KNNbaseline + MF Techniques"
   ]
  },
  {
   "cell_type": "code",
   "execution_count": 80,
   "metadata": {},
   "outputs": [],
   "source": [
    "# prepare train data\n",
    "x_train = reg_train[['knn_bsl_u', 'knn_bsl_m', 'svd', 'svdpp']]\n",
    "y_train = reg_train['rating']\n",
    "\n",
    "# test data\n",
    "x_test = reg_test_df[['knn_bsl_u', 'knn_bsl_m', 'svd', 'svdpp']]\n",
    "y_test = reg_test_df['rating']"
   ]
  },
  {
   "cell_type": "code",
   "execution_count": 81,
   "metadata": {},
   "outputs": [
    {
     "name": "stdout",
     "output_type": "stream",
     "text": [
      "[01:08:57] WARNING: /workspace/src/objective/regression_obj.cu:152: reg:linear is now deprecated in favor of reg:squarederror.\n",
      "Best: -1.223724 using {'n_estimators': 9, 'max_depth': 6, 'subsample': 1.0, 'colsample_bytree': 0.9, 'num_boost_round': 100, 'eta': 0.05}\n",
      "Execution time: 401.8244571685791 ms\n"
     ]
    }
   ],
   "source": [
    "from sklearn.model_selection import GridSearchCV\n",
    "start_time = time.time()\n",
    "parameters = {\n",
    "    'num_boost_round': [100, 250, 500],\n",
    "    'eta': [0.05, 0.1, 0.3],\n",
    "    'max_depth': [6, 9, 12],\n",
    "    'subsample': [0.9, 1.0],\n",
    "    'colsample_bytree': [0.9, 1.0],\n",
    "    'n_estimators' : [3,5,7,9]\n",
    "}\n",
    "\n",
    "model = xgb.XGBRegressor()\n",
    "grid = GridSearchCV(estimator=model, param_grid = parameters, cv = 2, n_jobs=-1)\n",
    "grid.fit(x_train, y_train)  \n",
    "\n",
    "# Summarize results\n",
    "print(\"Best: %f using %s\" % (grid.best_score_, grid.best_params_))\n",
    "print(\"Execution time: \" + str((time.time() - start_time)) + ' ms')\n",
    "\n",
    "depth_gbdt = grid.best_params_['max_depth']\n",
    "eta_gbdt = grid.best_params_['eta']\n",
    "num_boost_rount_gbdt = grid.best_params_['num_boost_round']\n",
    "subsample_gbdt = grid.best_params_['subsample']\n",
    "colsample_bytree_gbdt = grid.best_params_['colsample_bytree']\n",
    "best_n_estimators = grid.best_params_['n_estimators']"
   ]
  },
  {
   "cell_type": "code",
   "execution_count": 82,
   "metadata": {},
   "outputs": [
    {
     "name": "stdout",
     "output_type": "stream",
     "text": [
      "Training the model..\n",
      "[01:09:04] WARNING: /workspace/src/objective/regression_obj.cu:152: reg:linear is now deprecated in favor of reg:squarederror.\n",
      "Done. Time taken : 0:00:02.715880\n",
      "\n",
      "Done \n",
      "\n",
      "Evaluating the model with TRAIN data...\n",
      "Evaluating Test data\n",
      "\n",
      "TEST DATA\n",
      "------------------------------\n",
      "RMSE :  1.6538914730315537\n",
      "MAPE :  40.24299821323136\n"
     ]
    },
    {
     "data": {
      "image/png": "[encoded data removed]",
      "text/plain": [
       "<Figure size 432x288 with 1 Axes>"
      ]
     },
     "metadata": {
      "needs_background": "light"
     },
     "output_type": "display_data"
    }
   ],
   "source": [
    "#xgb_all_models = xgb.XGBRegressor(n_jobs=10, random_state=15)\n",
    "xgb_all_models = xgb.XGBRegressor(silent=False,n_jobs=10,\n",
    "                                  random_state=15, \n",
    "                             max_depth=depth_gbdt\n",
    "                           ,num_boost_round = num_boost_rount_gbdt\n",
    "                           ,eta = eta_gbdt\n",
    "                           ,subsample = subsample_gbdt\n",
    "                           ,colsample_bytree = colsample_bytree_gbdt\n",
    "                             ,n_estimators=best_n_estimators)\n",
    "\n",
    "train_results, test_results = run_xgboost(xgb_all_models, x_train, y_train, x_test, y_test)\n",
    "\n",
    "# store the results in models_evaluations dictionaries\n",
    "models_evaluation_train['xgb_all_models'] = train_results\n",
    "models_evaluation_test['xgb_all_models'] = test_results\n",
    "\n",
    "xgb.plot_importance(xgb_all_models)\n",
    "plt.show()"
   ]
  },
  {
   "cell_type": "markdown",
   "metadata": {},
   "source": [
    "## Conclusion"
   ]
  },
  {
   "cell_type": "code",
   "execution_count": 83,
   "metadata": {},
   "outputs": [
    {
     "data": {
      "text/plain": [
       "svd               1.0877628436804372\n",
       "knn_bsl_u          1.087852478142926\n",
       "knn_bsl_m         1.0881187106120334\n",
       "bsl_algo          1.0882648990208073\n",
       "svdpp             1.0902912614597926\n",
       "xgb_bsl            1.625556549717856\n",
       "first_algo         1.629753225231773\n",
       "xgb_final         1.6407391206138895\n",
       "xgb_knn_bsl       1.6407511491605584\n",
       "xgb_all_models    1.6538914730315537\n",
       "Name: rmse, dtype: object"
      ]
     },
     "execution_count": 83,
     "metadata": {},
     "output_type": "execute_result"
    }
   ],
   "source": [
    "# Saving our TEST_RESULTS into a dataframe so that you don't have to run it again\n",
    "pd.DataFrame(models_evaluation_test).to_csv('small_sample_results.csv')\n",
    "models = pd.read_csv('small_sample_results.csv', index_col=0)\n",
    "models.loc['rmse'].sort_values()"
   ]
  },
  {
   "cell_type": "markdown",
   "metadata": {},
   "source": [
    " - Used more train data i.e. from 10,000 * 1000  to 25000 * 3000 \n",
    " - Used more test data i.e. from 5000 * 500 to 10000 * 1500\n",
    " - Hyperparameter tuning was performed on all models "
   ]
  },
  {
   "cell_type": "code",
   "execution_count": null,
   "metadata": {},
   "outputs": [],
   "source": []
  },
  {
   "cell_type": "code",
   "execution_count": null,
   "metadata": {},
   "outputs": [],
   "source": []
  }
 ],
 "metadata": {
  "kernelspec": {
   "display_name": "Python 3",
   "language": "python",
   "name": "python3"
  },
  "language_info": {
   "codemirror_mode": {
    "name": "ipython",
    "version": 3
   },
   "file_extension": ".py",
   "mimetype": "text/x-python",
   "name": "python",
   "nbconvert_exporter": "python",
   "pygments_lexer": "ipython3",
   "version": "3.5.3"
  }
 },
 "nbformat": 4,
 "nbformat_minor": 4
}
